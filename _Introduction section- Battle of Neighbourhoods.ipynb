{
 "cells": [
  {
   "cell_type": "markdown",
   "metadata": {},
   "source": [
    "# Battle of Neighbourhoods - Week 1"
   ]
  },
  {
   "cell_type": "markdown",
   "metadata": {},
   "source": [
    "This notebook consist of two parts."
   ]
  },
  {
   "cell_type": "markdown",
   "metadata": {},
   "source": [
    "#### 1. Introduction\n",
    " 1. Discussion of the business problem and the audience who would be interested in this project."
   ]
  },
  {
   "cell_type": "markdown",
   "metadata": {},
   "source": [
    "#### 2. Data Section\n",
    " 2.  What data is used?\n",
    " 2.  Importing Libraries\n",
    " 2.  Credentials and Core location\n",
    " 2.  Search for hotel & restaurant within 1 KM\n",
    " 2.  Location of Hotels\n",
    "\n",
    "        "
   ]
  },
  {
   "cell_type": "markdown",
   "metadata": {},
   "source": [
    "## 1. Introduction/Business Problem:"
   ]
  },
  {
   "cell_type": "markdown",
   "metadata": {},
   "source": [
    "### Discussion of the business problem and the audience who would be interested in this project."
   ]
  },
  {
   "cell_type": "markdown",
   "metadata": {},
   "source": [
    "#### Something about the tourist place - PUNE"
   ]
  },
  {
   "cell_type": "markdown",
   "metadata": {},
   "source": [
    "I am from Pune,a beautiful tourist spot and also a education hub in India. Pune is the cultural capital of Maharashtra state. The most liveable city in India, Pune is one place in the country where you can easily feel the essence of composure. After all, it is surrounded by numerous beautiful hill stations. As it has a history dating back to early Medieval Period of India, it is home to several historical sites too. Therefore, it wouldn't be wrong to say that Pune is an ultimate city for a traveller who is looking forward to savouring the best of natural and historical sites. "
   ]
  },
  {
   "cell_type": "markdown",
   "metadata": {},
   "source": [
    "#### Opening of Hotel/Restaurant Shop"
   ]
  },
  {
   "cell_type": "markdown",
   "metadata": {},
   "source": [
    "Coming down to business problem, I would like to open a hotel/restaurant in Pune. Pune is a utopia for food lovers. There are many competitiors in terms of hotel and restaurants. But keeping them in mind,i need to locate my hotel in place where more people are attracted and comfortable for a stay and a good meal.I want to bring foreign and local peoples attention towards my new hotel.I would like to flavour my retaurant recipe with Italian,American,typical south & north indian foods to grab their taste. So i would like to find the best possible place to open my hotel/restaurant."
   ]
  },
  {
   "cell_type": "markdown",
   "metadata": {},
   "source": [
    "###### The challenge is to find a suitable location for opening a new hotel / restaurant attracted to all local and foreign people in the centre of all famous venues."
   ]
  },
  {
   "cell_type": "markdown",
   "metadata": {},
   "source": [
    "#### Expected / Interested Audience:"
   ]
  },
  {
   "cell_type": "markdown",
   "metadata": {},
   "source": [
    "Pune attracts lots of tourists every year . Some people stay for couple of days or more. Also they find some place for hangout or a good meal. Their main focus might be belonging to stay somewhere near to reach venues. As pune is educational hub there are lots of students so they search for some good places to hangout. So we may need to fascinate them all."
   ]
  },
  {
   "cell_type": "markdown",
   "metadata": {},
   "source": [
    "## 2.Data section"
   ]
  },
  {
   "cell_type": "markdown",
   "metadata": {},
   "source": [
    "### 2.a What data is used?"
   ]
  },
  {
   "cell_type": "markdown",
   "metadata": {},
   "source": [
    "We will be completely working on Foursquare data to explore and try to locate our new hotel where more venues like church, temples, beach, museums, memorials that are present nearby."
   ]
  },
  {
   "cell_type": "markdown",
   "metadata": {},
   "source": [
    "#### How will we be solving using this data?"
   ]
  },
  {
   "cell_type": "markdown",
   "metadata": {},
   "source": [
    "We will looking for midpoint area of venues to locate our new hotel.Before that our major focus will be on all venues present in and around the core place of Pune."
   ]
  },
  {
   "cell_type": "markdown",
   "metadata": {},
   "source": [
    "Just a heads up on how many hotels are distributed now around Pune.We will perform some EDA on hotels & restaurants present in the tourist spot.On furthur notebook we will use Foursquare data to determine other venues as well."
   ]
  },
  {
   "cell_type": "markdown",
   "metadata": {},
   "source": [
    "### 2.b Importing Libraries"
   ]
  },
  {
   "cell_type": "code",
   "execution_count": 4,
   "metadata": {},
   "outputs": [
    {
     "name": "stdout",
     "output_type": "stream",
     "text": [
      "Requirement already satisfied: beautifulsoup4 in c:\\users\\admin\\anaconda3\\lib\\site-packages (4.8.2)\n",
      "Requirement already satisfied: soupsieve>=1.2 in c:\\users\\admin\\anaconda3\\lib\\site-packages (from beautifulsoup4) (1.9.5)\n"
     ]
    }
   ],
   "source": [
    "!pip install beautifulsoup4"
   ]
  },
  {
   "cell_type": "code",
   "execution_count": 5,
   "metadata": {},
   "outputs": [
    {
     "name": "stdout",
     "output_type": "stream",
     "text": [
      "Requirement already satisfied: geopy in c:\\users\\admin\\anaconda3\\lib\\site-packages (2.0.0)\n",
      "Requirement already satisfied: geographiclib<2,>=1.49 in c:\\users\\admin\\anaconda3\\lib\\site-packages (from geopy) (1.50)\n"
     ]
    }
   ],
   "source": [
    "!pip install geopy"
   ]
  },
  {
   "cell_type": "code",
   "execution_count": 6,
   "metadata": {},
   "outputs": [
    {
     "name": "stdout",
     "output_type": "stream",
     "text": [
      "Collecting package metadata (current_repodata.json): ...working... done\n",
      "Solving environment: ...working... done\n",
      "\n",
      "# All requested packages already installed.\n",
      "\n",
      "Collecting package metadata (current_repodata.json): ...working... done\n",
      "Solving environment: ...working... done\n",
      "\n",
      "# All requested packages already installed.\n",
      "\n",
      "*********   Loaded library     ***********\n"
     ]
    }
   ],
   "source": [
    "# Import libraries\n",
    "import numpy as np # data in a vectorized manner manipulation\n",
    "import pandas as pd # data analsysis\n",
    "import requests # HTTP library\n",
    "from bs4 import BeautifulSoup # scraping library\n",
    "\n",
    "from pandas.io.json import json_normalize # tranform JSON file into a pandas dataframe\n",
    "import json # JSON files manipulation\n",
    "\n",
    "from sklearn.cluster import KMeans # clustering algorithm\n",
    "\n",
    "pd.set_option('display.max_columns', None)\n",
    "pd.set_option('display.max_rows', None)\n",
    "\n",
    "# Matplotlib and associated plotting modules\n",
    "import matplotlib.cm as cm\n",
    "import matplotlib.colors as colors\n",
    "import matplotlib.pyplot as plt\n",
    "\n",
    "!conda install -c conda-forge geopy --yes \n",
    "from geopy.geocoders import Nominatim\n",
    "\n",
    "!conda install -c conda-forge folium=0.5.0 --yes\n",
    "import folium # map rendering library\n",
    "\n",
    "print(\"*********   Loaded library     ***********\")"
   ]
  },
  {
   "cell_type": "markdown",
   "metadata": {},
   "source": [
    "### 2.c Credentials and Core location"
   ]
  },
  {
   "cell_type": "code",
   "execution_count": null,
   "metadata": {},
   "outputs": [],
   "source": [
    "CLIENT_ID = 'YOPT3FBP41FRQSGIGL4O205JFQHH4Q4SXQ3DSQ3J1A3LNJXF' # your Foursquare ID\n",
    "CLIENT_SECRET = 'ELKW2ZW5AVN54LZGMDPJOK2N2MGDOXAWWZQ1TKPPF2JTASDE' # your Foursquare Secret\n",
    "VERSION = '20191028'\n",
    "LIMIT = 150\n",
    "\n",
    "address = \"Pune, Maharashtra\"\n",
    "\n",
    "geolocator = Nominatim(user_agent=\"foursquare_agent\")\n",
    "location = geolocator.geocode(address)\n",
    "latitude =location.latitude   #8.079252 # location.latitude \n",
    "longitude =location.longitude #77.5499338 # location.longitude # \n",
    "\n",
    "pune='Pune location : {},{}'.format(latitude,longitude)\n",
    "print(pune)"
   ]
  },
  {
   "cell_type": "markdown",
   "metadata": {},
   "source": [
    "### 2.d Search for hotel & restaurant within 1 KM"
   ]
  },
  {
   "cell_type": "code",
   "execution_count": null,
   "metadata": {},
   "outputs": [],
   "source": [
    "#Quering for hotel & restaurant\n",
    "\n",
    "search_query = 'hotel'\n",
    "search_query_res = 'restaurant'\n",
    "\n",
    "radius = 1000\n",
    "url_hotel = 'https://api.foursquare.com/v2/venues/search?client_id={}&client_secret={}&ll={},{}&v={}&query={}&radius={}&limit={}'.format(CLIENT_ID, CLIENT_SECRET, latitude, longitude, VERSION, search_query, radius, LIMIT)\n",
    "url_restaurant = 'https://api.foursquare.com/v2/venues/search?client_id={}&client_secret={}&ll={},{}&v={}&query={}&radius={}&limit={}'.format(CLIENT_ID, CLIENT_SECRET, latitude, longitude, VERSION, search_query_res, radius, LIMIT)\n",
    "#url"
   ]
  },
  {
   "cell_type": "markdown",
   "metadata": {},
   "source": [
    "#### Send the GET Request of hotel & restaurants and examine the results"
   ]
  },
  {
   "cell_type": "code",
   "execution_count": null,
   "metadata": {},
   "outputs": [],
   "source": [
    "results_hotel = requests.get(url_hotel).json()\n",
    "results_restaurant = requests.get(url_restaurant).json()\n",
    "#results_hotel"
   ]
  },
  {
   "cell_type": "markdown",
   "metadata": {},
   "source": [
    "#### Get relevant part of JSON and transform it into a pandas dataframe"
   ]
  },
  {
   "cell_type": "code",
   "execution_count": 16,
   "metadata": {},
   "outputs": [
    {
     "name": "stdout",
     "output_type": "stream",
     "text": [
      "There are 59 restaurants and hotels at Pune\n"
     ]
    }
   ],
   "source": [
    "# assign relevant part of JSON to venues\n",
    "venues_hotel = results_hotel['response']['venues']\n",
    "venues_restaurant = results_restaurant['response']['venues']\n",
    "\n",
    "# tranform venues into a dataframe and merging both data\n",
    "dataframe_hotel = pd.json_normalize(venues_hotel)\n",
    "dataframe_restaurant = pd.json_normalize(venues_restaurant)\n",
    "\n",
    "dataframe = pd.concat([dataframe_hotel,dataframe_restaurant])\n",
    "\n",
    "print(\"There are {} restaurants and hotels at Pune\".format(dataframe.shape[0]))"
   ]
  },
  {
   "cell_type": "markdown",
   "metadata": {},
   "source": [
    "#### Define information of interest and filter dataframe"
   ]
  },
  {
   "cell_type": "code",
   "execution_count": 17,
   "metadata": {},
   "outputs": [
    {
     "data": {
      "text/html": [
       "<div>\n",
       "<style scoped>\n",
       "    .dataframe tbody tr th:only-of-type {\n",
       "        vertical-align: middle;\n",
       "    }\n",
       "\n",
       "    .dataframe tbody tr th {\n",
       "        vertical-align: top;\n",
       "    }\n",
       "\n",
       "    .dataframe thead th {\n",
       "        text-align: right;\n",
       "    }\n",
       "</style>\n",
       "<table border=\"1\" class=\"dataframe\">\n",
       "  <thead>\n",
       "    <tr style=\"text-align: right;\">\n",
       "      <th></th>\n",
       "      <th>name</th>\n",
       "      <th>categories</th>\n",
       "      <th>distance</th>\n",
       "      <th>lat</th>\n",
       "      <th>lng</th>\n",
       "      <th>id</th>\n",
       "    </tr>\n",
       "  </thead>\n",
       "  <tbody>\n",
       "    <tr>\n",
       "      <th>0</th>\n",
       "      <td>Hotel Gandharva</td>\n",
       "      <td>Indian Restaurant</td>\n",
       "      <td>582</td>\n",
       "      <td>18.522571</td>\n",
       "      <td>73.849066</td>\n",
       "      <td>4ed1190f490168f8d09f6d7c</td>\n",
       "    </tr>\n",
       "    <tr>\n",
       "      <th>1</th>\n",
       "      <td>Hotel Deccan Royal</td>\n",
       "      <td>Hotel</td>\n",
       "      <td>1006</td>\n",
       "      <td>18.519167</td>\n",
       "      <td>73.845223</td>\n",
       "      <td>4f124a07e4b00420555729cb</td>\n",
       "    </tr>\n",
       "    <tr>\n",
       "      <th>2</th>\n",
       "      <td>Hotel Courtyard Hinjewa Pune</td>\n",
       "      <td>None</td>\n",
       "      <td>229</td>\n",
       "      <td>18.520149</td>\n",
       "      <td>73.856164</td>\n",
       "      <td>4bdedb1dfe0e62b563000606</td>\n",
       "    </tr>\n",
       "    <tr>\n",
       "      <th>3</th>\n",
       "      <td>Hotel Kimaya Tapri</td>\n",
       "      <td>Smoke Shop</td>\n",
       "      <td>265</td>\n",
       "      <td>18.520430</td>\n",
       "      <td>73.856744</td>\n",
       "      <td>5101797ae4b0d12593642837</td>\n",
       "    </tr>\n",
       "    <tr>\n",
       "      <th>4</th>\n",
       "      <td>Hotel Silver Court</td>\n",
       "      <td>Seafood Restaurant</td>\n",
       "      <td>265</td>\n",
       "      <td>18.520430</td>\n",
       "      <td>73.856744</td>\n",
       "      <td>4fd4b657e4b02bec732a0728</td>\n",
       "    </tr>\n",
       "  </tbody>\n",
       "</table>\n",
       "</div>"
      ],
      "text/plain": [
       "                           name          categories  distance        lat  \\\n",
       "0               Hotel Gandharva   Indian Restaurant       582  18.522571   \n",
       "1            Hotel Deccan Royal               Hotel      1006  18.519167   \n",
       "2  Hotel Courtyard Hinjewa Pune                None       229  18.520149   \n",
       "3            Hotel Kimaya Tapri          Smoke Shop       265  18.520430   \n",
       "4            Hotel Silver Court  Seafood Restaurant       265  18.520430   \n",
       "\n",
       "         lng                        id  \n",
       "0  73.849066  4ed1190f490168f8d09f6d7c  \n",
       "1  73.845223  4f124a07e4b00420555729cb  \n",
       "2  73.856164  4bdedb1dfe0e62b563000606  \n",
       "3  73.856744  5101797ae4b0d12593642837  \n",
       "4  73.856744  4fd4b657e4b02bec732a0728  "
      ]
     },
     "execution_count": 17,
     "metadata": {},
     "output_type": "execute_result"
    }
   ],
   "source": [
    "# keep only columns that include venue name, and anything that is associated with location\n",
    "filtered_columns = ['name', 'categories'] + [col for col in dataframe.columns if col.startswith('location.')] + ['id']\n",
    "dataframe_filtered = dataframe.loc[:, filtered_columns]\n",
    "\n",
    "# function that extracts the category of the venue\n",
    "\n",
    "def get_category_type(row):\n",
    "    try:\n",
    "        categories_list = row['categories']\n",
    "    except:\n",
    "        categories_list = row['venue.categories']\n",
    "        \n",
    "    if len(categories_list) == 0:\n",
    "        return None\n",
    "    else:\n",
    "        return categories_list[0]['name']\n",
    "\n",
    "    \n",
    "# filter the category for each row\n",
    "dataframe_filtered['categories'] = dataframe_filtered.apply(get_category_type, axis=1)\n",
    "\n",
    "  \n",
    "# clean column names by keeping only last term\n",
    "dataframe_filtered.columns = [column.split('.')[-1] for column in dataframe_filtered.columns]\n",
    "\n",
    "#dataframe_filtered\n",
    "hotels_df=dataframe_filtered[['name','categories','distance','lat','lng','id']]\n",
    "hotels_df.head()"
   ]
  },
  {
   "cell_type": "markdown",
   "metadata": {},
   "source": [
    "#### 2.e Location of Hotels"
   ]
  },
  {
   "cell_type": "code",
   "execution_count": 19,
   "metadata": {
    "scrolled": false
   },
   "outputs": [
    {
     "data": {
      "text/html": [
       "<div style=\"width:100%;\"><div style=\"position:relative;width:100%;height:0;padding-bottom:60%;\"><span style=\"color:#565656\">Make this Notebook Trusted to load map: File -> Trust Notebook</span><iframe src=\"about:blank\" style=\"position:absolute;width:100%;height:100%;left:0;top:0;border:none !important;\" data-html=PCFET0NUWVBFIGh0bWw+CjxoZWFkPiAgICAKICAgIDxtZXRhIGh0dHAtZXF1aXY9ImNvbnRlbnQtdHlwZSIgY29udGVudD0idGV4dC9odG1sOyBjaGFyc2V0PVVURi04IiAvPgogICAgPHNjcmlwdD5MX1BSRUZFUl9DQU5WQVMgPSBmYWxzZTsgTF9OT19UT1VDSCA9IGZhbHNlOyBMX0RJU0FCTEVfM0QgPSBmYWxzZTs8L3NjcmlwdD4KICAgIDxzY3JpcHQgc3JjPSJodHRwczovL2Nkbi5qc2RlbGl2ci5uZXQvbnBtL2xlYWZsZXRAMS4yLjAvZGlzdC9sZWFmbGV0LmpzIj48L3NjcmlwdD4KICAgIDxzY3JpcHQgc3JjPSJodHRwczovL2FqYXguZ29vZ2xlYXBpcy5jb20vYWpheC9saWJzL2pxdWVyeS8xLjExLjEvanF1ZXJ5Lm1pbi5qcyI+PC9zY3JpcHQ+CiAgICA8c2NyaXB0IHNyYz0iaHR0cHM6Ly9tYXhjZG4uYm9vdHN0cmFwY2RuLmNvbS9ib290c3RyYXAvMy4yLjAvanMvYm9vdHN0cmFwLm1pbi5qcyI+PC9zY3JpcHQ+CiAgICA8c2NyaXB0IHNyYz0iaHR0cHM6Ly9jZG5qcy5jbG91ZGZsYXJlLmNvbS9hamF4L2xpYnMvTGVhZmxldC5hd2Vzb21lLW1hcmtlcnMvMi4wLjIvbGVhZmxldC5hd2Vzb21lLW1hcmtlcnMuanMiPjwvc2NyaXB0PgogICAgPGxpbmsgcmVsPSJzdHlsZXNoZWV0IiBocmVmPSJodHRwczovL2Nkbi5qc2RlbGl2ci5uZXQvbnBtL2xlYWZsZXRAMS4yLjAvZGlzdC9sZWFmbGV0LmNzcyIvPgogICAgPGxpbmsgcmVsPSJzdHlsZXNoZWV0IiBocmVmPSJodHRwczovL21heGNkbi5ib290c3RyYXBjZG4uY29tL2Jvb3RzdHJhcC8zLjIuMC9jc3MvYm9vdHN0cmFwLm1pbi5jc3MiLz4KICAgIDxsaW5rIHJlbD0ic3R5bGVzaGVldCIgaHJlZj0iaHR0cHM6Ly9tYXhjZG4uYm9vdHN0cmFwY2RuLmNvbS9ib290c3RyYXAvMy4yLjAvY3NzL2Jvb3RzdHJhcC10aGVtZS5taW4uY3NzIi8+CiAgICA8bGluayByZWw9InN0eWxlc2hlZXQiIGhyZWY9Imh0dHBzOi8vbWF4Y2RuLmJvb3RzdHJhcGNkbi5jb20vZm9udC1hd2Vzb21lLzQuNi4zL2Nzcy9mb250LWF3ZXNvbWUubWluLmNzcyIvPgogICAgPGxpbmsgcmVsPSJzdHlsZXNoZWV0IiBocmVmPSJodHRwczovL2NkbmpzLmNsb3VkZmxhcmUuY29tL2FqYXgvbGlicy9MZWFmbGV0LmF3ZXNvbWUtbWFya2Vycy8yLjAuMi9sZWFmbGV0LmF3ZXNvbWUtbWFya2Vycy5jc3MiLz4KICAgIDxsaW5rIHJlbD0ic3R5bGVzaGVldCIgaHJlZj0iaHR0cHM6Ly9yYXdnaXQuY29tL3B5dGhvbi12aXN1YWxpemF0aW9uL2ZvbGl1bS9tYXN0ZXIvZm9saXVtL3RlbXBsYXRlcy9sZWFmbGV0LmF3ZXNvbWUucm90YXRlLmNzcyIvPgogICAgPHN0eWxlPmh0bWwsIGJvZHkge3dpZHRoOiAxMDAlO2hlaWdodDogMTAwJTttYXJnaW46IDA7cGFkZGluZzogMDt9PC9zdHlsZT4KICAgIDxzdHlsZT4jbWFwIHtwb3NpdGlvbjphYnNvbHV0ZTt0b3A6MDtib3R0b206MDtyaWdodDowO2xlZnQ6MDt9PC9zdHlsZT4KICAgIAogICAgICAgICAgICA8c3R5bGU+ICNtYXBfYTIwMzM4YmExOTVjNDZmMTlhMzRmYTY1YzZjZjkwN2MgewogICAgICAgICAgICAgICAgcG9zaXRpb24gOiByZWxhdGl2ZTsKICAgICAgICAgICAgICAgIHdpZHRoIDogMTAwLjAlOwogICAgICAgICAgICAgICAgaGVpZ2h0OiAxMDAuMCU7CiAgICAgICAgICAgICAgICBsZWZ0OiAwLjAlOwogICAgICAgICAgICAgICAgdG9wOiAwLjAlOwogICAgICAgICAgICAgICAgfQogICAgICAgICAgICA8L3N0eWxlPgogICAgICAgIAo8L2hlYWQ+Cjxib2R5PiAgICAKICAgIAogICAgICAgICAgICA8ZGl2IGNsYXNzPSJmb2xpdW0tbWFwIiBpZD0ibWFwX2EyMDMzOGJhMTk1YzQ2ZjE5YTM0ZmE2NWM2Y2Y5MDdjIiA+PC9kaXY+CiAgICAgICAgCjwvYm9keT4KPHNjcmlwdD4gICAgCiAgICAKCiAgICAgICAgICAgIAogICAgICAgICAgICAgICAgdmFyIGJvdW5kcyA9IG51bGw7CiAgICAgICAgICAgIAoKICAgICAgICAgICAgdmFyIG1hcF9hMjAzMzhiYTE5NWM0NmYxOWEzNGZhNjVjNmNmOTA3YyA9IEwubWFwKAogICAgICAgICAgICAgICAgICAgICAgICAgICAgICAgICAgJ21hcF9hMjAzMzhiYTE5NWM0NmYxOWEzNGZhNjVjNmNmOTA3YycsCiAgICAgICAgICAgICAgICAgICAgICAgICAgICAgICAgICB7Y2VudGVyOiBbMTguNTIxNDI4LDczLjg1NDQ1NDFdLAogICAgICAgICAgICAgICAgICAgICAgICAgICAgICAgICAgem9vbTogMTYsCiAgICAgICAgICAgICAgICAgICAgICAgICAgICAgICAgICBtYXhCb3VuZHM6IGJvdW5kcywKICAgICAgICAgICAgICAgICAgICAgICAgICAgICAgICAgIGxheWVyczogW10sCiAgICAgICAgICAgICAgICAgICAgICAgICAgICAgICAgICB3b3JsZENvcHlKdW1wOiBmYWxzZSwKICAgICAgICAgICAgICAgICAgICAgICAgICAgICAgICAgIGNyczogTC5DUlMuRVBTRzM4NTcKICAgICAgICAgICAgICAgICAgICAgICAgICAgICAgICAgfSk7CiAgICAgICAgICAgIAogICAgICAgIAogICAgCiAgICAgICAgICAgIHZhciB0aWxlX2xheWVyXzE0MjNhYjdlMGRjMzQ0ZDlhYjNiYmZlNTI2MTM3MDU0ID0gTC50aWxlTGF5ZXIoCiAgICAgICAgICAgICAgICAnaHR0cHM6Ly97c30udGlsZS5vcGVuc3RyZWV0bWFwLm9yZy97en0ve3h9L3t5fS5wbmcnLAogICAgICAgICAgICAgICAgewogICJhdHRyaWJ1dGlvbiI6IG51bGwsCiAgImRldGVjdFJldGluYSI6IGZhbHNlLAogICJtYXhab29tIjogMTgsCiAgIm1pblpvb20iOiAxLAogICJub1dyYXAiOiBmYWxzZSwKICAic3ViZG9tYWlucyI6ICJhYmMiCn0KICAgICAgICAgICAgICAgICkuYWRkVG8obWFwX2EyMDMzOGJhMTk1YzQ2ZjE5YTM0ZmE2NWM2Y2Y5MDdjKTsKICAgICAgICAKICAgIAogICAgICAgICAgICB2YXIgY2lyY2xlX21hcmtlcl9kNTM4N2RkMmE1MjE0NzdlOWM4YzI4Mjg4OTZkNDU1ZCA9IEwuY2lyY2xlTWFya2VyKAogICAgICAgICAgICAgICAgWzE4LjUyMTQyOCw3My44NTQ0NTQxXSwKICAgICAgICAgICAgICAgIHsKICAiYnViYmxpbmdNb3VzZUV2ZW50cyI6IHRydWUsCiAgImNvbG9yIjogInJlZCIsCiAgImRhc2hBcnJheSI6IG51bGwsCiAgImRhc2hPZmZzZXQiOiBudWxsLAogICJmaWxsIjogdHJ1ZSwKICAiZmlsbENvbG9yIjogInJlZCIsCiAgImZpbGxPcGFjaXR5IjogMC42LAogICJmaWxsUnVsZSI6ICJldmVub2RkIiwKICAibGluZUNhcCI6ICJyb3VuZCIsCiAgImxpbmVKb2luIjogInJvdW5kIiwKICAib3BhY2l0eSI6IDEuMCwKICAicmFkaXVzIjogMTAsCiAgInN0cm9rZSI6IHRydWUsCiAgIndlaWdodCI6IDMKfQogICAgICAgICAgICAgICAgKS5hZGRUbyhtYXBfYTIwMzM4YmExOTVjNDZmMTlhMzRmYTY1YzZjZjkwN2MpOwogICAgICAgICAgICAKICAgIAogICAgICAgICAgICB2YXIgcG9wdXBfMDAzOWE0NjI5Nzc1NDYwYjljODQxNjI2Nzc0MmM2MTAgPSBMLnBvcHVwKHttYXhXaWR0aDogJzMwMCd9KTsKCiAgICAgICAgICAgIAogICAgICAgICAgICAgICAgdmFyIGh0bWxfY2MxMjRiYzQyNmYxNGFhZWJhODRiNmVlZTcxMjIzNzEgPSAkKCc8ZGl2IGlkPSJodG1sX2NjMTI0YmM0MjZmMTRhYWViYTg0YjZlZWU3MTIyMzcxIiBzdHlsZT0id2lkdGg6IDEwMC4wJTsgaGVpZ2h0OiAxMDAuMCU7Ij5LYW55YWt1bWFyaTwvZGl2PicpWzBdOwogICAgICAgICAgICAgICAgcG9wdXBfMDAzOWE0NjI5Nzc1NDYwYjljODQxNjI2Nzc0MmM2MTAuc2V0Q29udGVudChodG1sX2NjMTI0YmM0MjZmMTRhYWViYTg0YjZlZWU3MTIyMzcxKTsKICAgICAgICAgICAgCgogICAgICAgICAgICBjaXJjbGVfbWFya2VyX2Q1Mzg3ZGQyYTUyMTQ3N2U5YzhjMjgyODg5NmQ0NTVkLmJpbmRQb3B1cChwb3B1cF8wMDM5YTQ2Mjk3NzU0NjBiOWM4NDE2MjY3NzQyYzYxMCk7CgogICAgICAgICAgICAKICAgICAgICAKICAgIAogICAgICAgICAgICB2YXIgY2lyY2xlX21hcmtlcl9kMzBiZTg1ODg5M2Y0YzJhYmViMzg0ZDNlN2RkYzI1YyA9IEwuY2lyY2xlTWFya2VyKAogICAgICAgICAgICAgICAgWzE4LjUyMjU3MDUxMzUwNDQyNyw3My44NDkwNjU4ODA4NTczNF0sCiAgICAgICAgICAgICAgICB7CiAgImJ1YmJsaW5nTW91c2VFdmVudHMiOiB0cnVlLAogICJjb2xvciI6ICJibHVlIiwKICAiZGFzaEFycmF5IjogbnVsbCwKICAiZGFzaE9mZnNldCI6IG51bGwsCiAgImZpbGwiOiB0cnVlLAogICJmaWxsQ29sb3IiOiAiYmx1ZSIsCiAgImZpbGxPcGFjaXR5IjogMC42LAogICJmaWxsUnVsZSI6ICJldmVub2RkIiwKICAibGluZUNhcCI6ICJyb3VuZCIsCiAgImxpbmVKb2luIjogInJvdW5kIiwKICAib3BhY2l0eSI6IDEuMCwKICAicmFkaXVzIjogNSwKICAic3Ryb2tlIjogdHJ1ZSwKICAid2VpZ2h0IjogMwp9CiAgICAgICAgICAgICAgICApLmFkZFRvKG1hcF9hMjAzMzhiYTE5NWM0NmYxOWEzNGZhNjVjNmNmOTA3Yyk7CiAgICAgICAgICAgIAogICAgCiAgICAgICAgICAgIHZhciBwb3B1cF8zOTEyYzU4ODZiNzU0MzhiOWNjNjQzNGIwZTMwZTU5YyA9IEwucG9wdXAoe21heFdpZHRoOiAnMzAwJ30pOwoKICAgICAgICAgICAgCiAgICAgICAgICAgICAgICB2YXIgaHRtbF9kZjUyOWVlMzk3Mzg0OWI0YmIwNzI0OWQ4NjFjYzYyNCA9ICQoJzxkaXYgaWQ9Imh0bWxfZGY1MjllZTM5NzM4NDliNGJiMDcyNDlkODYxY2M2MjQiIHN0eWxlPSJ3aWR0aDogMTAwLjAlOyBoZWlnaHQ6IDEwMC4wJTsiPkhvdGVsIEdhbmRoYXJ2YTwvZGl2PicpWzBdOwogICAgICAgICAgICAgICAgcG9wdXBfMzkxMmM1ODg2Yjc1NDM4YjljYzY0MzRiMGUzMGU1OWMuc2V0Q29udGVudChodG1sX2RmNTI5ZWUzOTczODQ5YjRiYjA3MjQ5ZDg2MWNjNjI0KTsKICAgICAgICAgICAgCgogICAgICAgICAgICBjaXJjbGVfbWFya2VyX2QzMGJlODU4ODkzZjRjMmFiZWIzODRkM2U3ZGRjMjVjLmJpbmRQb3B1cChwb3B1cF8zOTEyYzU4ODZiNzU0MzhiOWNjNjQzNGIwZTMwZTU5Yyk7CgogICAgICAgICAgICAKICAgICAgICAKICAgIAogICAgICAgICAgICB2YXIgY2lyY2xlX21hcmtlcl84NGFlYWYzM2ZhNTc0ZDMwYjQ4MzdlYzNiMmVlNzkxOCA9IEwuY2lyY2xlTWFya2VyKAogICAgICAgICAgICAgICAgWzE4LjUxOTE2NzQzODc3NjIxNSw3My44NDUyMjMwNzI1NjIxOV0sCiAgICAgICAgICAgICAgICB7CiAgImJ1YmJsaW5nTW91c2VFdmVudHMiOiB0cnVlLAogICJjb2xvciI6ICJibHVlIiwKICAiZGFzaEFycmF5IjogbnVsbCwKICAiZGFzaE9mZnNldCI6IG51bGwsCiAgImZpbGwiOiB0cnVlLAogICJmaWxsQ29sb3IiOiAiYmx1ZSIsCiAgImZpbGxPcGFjaXR5IjogMC42LAogICJmaWxsUnVsZSI6ICJldmVub2RkIiwKICAibGluZUNhcCI6ICJyb3VuZCIsCiAgImxpbmVKb2luIjogInJvdW5kIiwKICAib3BhY2l0eSI6IDEuMCwKICAicmFkaXVzIjogNSwKICAic3Ryb2tlIjogdHJ1ZSwKICAid2VpZ2h0IjogMwp9CiAgICAgICAgICAgICAgICApLmFkZFRvKG1hcF9hMjAzMzhiYTE5NWM0NmYxOWEzNGZhNjVjNmNmOTA3Yyk7CiAgICAgICAgICAgIAogICAgCiAgICAgICAgICAgIHZhciBwb3B1cF85OGY4NmU2N2MzOGE0Y2EyODY2NDQyODI3ZjRjMDA5OCA9IEwucG9wdXAoe21heFdpZHRoOiAnMzAwJ30pOwoKICAgICAgICAgICAgCiAgICAgICAgICAgICAgICB2YXIgaHRtbF8wMWRjNGJmMzk3YjI0NjdkODI3Y2FkMjI3NzY3NjFlMyA9ICQoJzxkaXYgaWQ9Imh0bWxfMDFkYzRiZjM5N2IyNDY3ZDgyN2NhZDIyNzc2NzYxZTMiIHN0eWxlPSJ3aWR0aDogMTAwLjAlOyBoZWlnaHQ6IDEwMC4wJTsiPkhvdGVsIERlY2NhbiBSb3lhbDwvZGl2PicpWzBdOwogICAgICAgICAgICAgICAgcG9wdXBfOThmODZlNjdjMzhhNGNhMjg2NjQ0MjgyN2Y0YzAwOTguc2V0Q29udGVudChodG1sXzAxZGM0YmYzOTdiMjQ2N2Q4MjdjYWQyMjc3Njc2MWUzKTsKICAgICAgICAgICAgCgogICAgICAgICAgICBjaXJjbGVfbWFya2VyXzg0YWVhZjMzZmE1NzRkMzBiNDgzN2VjM2IyZWU3OTE4LmJpbmRQb3B1cChwb3B1cF85OGY4NmU2N2MzOGE0Y2EyODY2NDQyODI3ZjRjMDA5OCk7CgogICAgICAgICAgICAKICAgICAgICAKICAgIAogICAgICAgICAgICB2YXIgY2lyY2xlX21hcmtlcl9iYWNiMmQ5NTljM2Q0MzQyODU2NDBjZmFhNWNjNzI3OSA9IEwuY2lyY2xlTWFya2VyKAogICAgICAgICAgICAgICAgWzE4LjUyMDE0ODY2NTM4Nzg3NSw3My44NTYxNjM1ODQyOTg5OF0sCiAgICAgICAgICAgICAgICB7CiAgImJ1YmJsaW5nTW91c2VFdmVudHMiOiB0cnVlLAogICJjb2xvciI6ICJibHVlIiwKICAiZGFzaEFycmF5IjogbnVsbCwKICAiZGFzaE9mZnNldCI6IG51bGwsCiAgImZpbGwiOiB0cnVlLAogICJmaWxsQ29sb3IiOiAiYmx1ZSIsCiAgImZpbGxPcGFjaXR5IjogMC42LAogICJmaWxsUnVsZSI6ICJldmVub2RkIiwKICAibGluZUNhcCI6ICJyb3VuZCIsCiAgImxpbmVKb2luIjogInJvdW5kIiwKICAib3BhY2l0eSI6IDEuMCwKICAicmFkaXVzIjogNSwKICAic3Ryb2tlIjogdHJ1ZSwKICAid2VpZ2h0IjogMwp9CiAgICAgICAgICAgICAgICApLmFkZFRvKG1hcF9hMjAzMzhiYTE5NWM0NmYxOWEzNGZhNjVjNmNmOTA3Yyk7CiAgICAgICAgICAgIAogICAgCiAgICAgICAgICAgIHZhciBwb3B1cF80NWYyNzEzYWY1NDE0MDI3OTFjMjAzZmY3ZjE1ZjlkNyA9IEwucG9wdXAoe21heFdpZHRoOiAnMzAwJ30pOwoKICAgICAgICAgICAgCiAgICAgICAgICAgICAgICB2YXIgaHRtbF83NTBjOTc2NGU2NGM0ZDU4OGFlZDI0YTU1OWFjOTQ2MiA9ICQoJzxkaXYgaWQ9Imh0bWxfNzUwYzk3NjRlNjRjNGQ1ODhhZWQyNGE1NTlhYzk0NjIiIHN0eWxlPSJ3aWR0aDogMTAwLjAlOyBoZWlnaHQ6IDEwMC4wJTsiPkhvdGVsIENvdXJ0eWFyZCBIaW5qZXdhIFB1bmU8L2Rpdj4nKVswXTsKICAgICAgICAgICAgICAgIHBvcHVwXzQ1ZjI3MTNhZjU0MTQwMjc5MWMyMDNmZjdmMTVmOWQ3LnNldENvbnRlbnQoaHRtbF83NTBjOTc2NGU2NGM0ZDU4OGFlZDI0YTU1OWFjOTQ2Mik7CiAgICAgICAgICAgIAoKICAgICAgICAgICAgY2lyY2xlX21hcmtlcl9iYWNiMmQ5NTljM2Q0MzQyODU2NDBjZmFhNWNjNzI3OS5iaW5kUG9wdXAocG9wdXBfNDVmMjcxM2FmNTQxNDAyNzkxYzIwM2ZmN2YxNWY5ZDcpOwoKICAgICAgICAgICAgCiAgICAgICAgCiAgICAKICAgICAgICAgICAgdmFyIGNpcmNsZV9tYXJrZXJfM2YyNWMyNTA0NmQwNGI4ZmE2NjA3NTc1NGM5NjUyMzEgPSBMLmNpcmNsZU1hcmtlcigKICAgICAgICAgICAgICAgIFsxOC41MjA0MzAzLDczLjg1Njc0MzddLAogICAgICAgICAgICAgICAgewogICJidWJibGluZ01vdXNlRXZlbnRzIjogdHJ1ZSwKICAiY29sb3IiOiAiYmx1ZSIsCiAgImRhc2hBcnJheSI6IG51bGwsCiAgImRhc2hPZmZzZXQiOiBudWxsLAogICJmaWxsIjogdHJ1ZSwKICAiZmlsbENvbG9yIjogImJsdWUiLAogICJmaWxsT3BhY2l0eSI6IDAuNiwKICAiZmlsbFJ1bGUiOiAiZXZlbm9kZCIsCiAgImxpbmVDYXAiOiAicm91bmQiLAogICJsaW5lSm9pbiI6ICJyb3VuZCIsCiAgIm9wYWNpdHkiOiAxLjAsCiAgInJhZGl1cyI6IDUsCiAgInN0cm9rZSI6IHRydWUsCiAgIndlaWdodCI6IDMKfQogICAgICAgICAgICAgICAgKS5hZGRUbyhtYXBfYTIwMzM4YmExOTVjNDZmMTlhMzRmYTY1YzZjZjkwN2MpOwogICAgICAgICAgICAKICAgIAogICAgICAgICAgICB2YXIgcG9wdXBfZTU4M2JlM2E5NWY0NDY4YjlmYzcwM2Y3MzcwZDYzMjMgPSBMLnBvcHVwKHttYXhXaWR0aDogJzMwMCd9KTsKCiAgICAgICAgICAgIAogICAgICAgICAgICAgICAgdmFyIGh0bWxfOTQyNmJiN2Q1MzIzNGM3Nzg5ZWZiZDM4YjkwNDZkNjcgPSAkKCc8ZGl2IGlkPSJodG1sXzk0MjZiYjdkNTMyMzRjNzc4OWVmYmQzOGI5MDQ2ZDY3IiBzdHlsZT0id2lkdGg6IDEwMC4wJTsgaGVpZ2h0OiAxMDAuMCU7Ij5Ib3RlbCBLaW1heWEgVGFwcmk8L2Rpdj4nKVswXTsKICAgICAgICAgICAgICAgIHBvcHVwX2U1ODNiZTNhOTVmNDQ2OGI5ZmM3MDNmNzM3MGQ2MzIzLnNldENvbnRlbnQoaHRtbF85NDI2YmI3ZDUzMjM0Yzc3ODllZmJkMzhiOTA0NmQ2Nyk7CiAgICAgICAgICAgIAoKICAgICAgICAgICAgY2lyY2xlX21hcmtlcl8zZjI1YzI1MDQ2ZDA0YjhmYTY2MDc1NzU0Yzk2NTIzMS5iaW5kUG9wdXAocG9wdXBfZTU4M2JlM2E5NWY0NDY4YjlmYzcwM2Y3MzcwZDYzMjMpOwoKICAgICAgICAgICAgCiAgICAgICAgCiAgICAKICAgICAgICAgICAgdmFyIGNpcmNsZV9tYXJrZXJfNjE4ODQ0ZWI4NzkxNDhkOWI0YTkzNDJiNzE1MDliZTYgPSBMLmNpcmNsZU1hcmtlcigKICAgICAgICAgICAgICAgIFsxOC41MjA0MzAzLDczLjg1Njc0MzddLAogICAgICAgICAgICAgICAgewogICJidWJibGluZ01vdXNlRXZlbnRzIjogdHJ1ZSwKICAiY29sb3IiOiAiYmx1ZSIsCiAgImRhc2hBcnJheSI6IG51bGwsCiAgImRhc2hPZmZzZXQiOiBudWxsLAogICJmaWxsIjogdHJ1ZSwKICAiZmlsbENvbG9yIjogImJsdWUiLAogICJmaWxsT3BhY2l0eSI6IDAuNiwKICAiZmlsbFJ1bGUiOiAiZXZlbm9kZCIsCiAgImxpbmVDYXAiOiAicm91bmQiLAogICJsaW5lSm9pbiI6ICJyb3VuZCIsCiAgIm9wYWNpdHkiOiAxLjAsCiAgInJhZGl1cyI6IDUsCiAgInN0cm9rZSI6IHRydWUsCiAgIndlaWdodCI6IDMKfQogICAgICAgICAgICAgICAgKS5hZGRUbyhtYXBfYTIwMzM4YmExOTVjNDZmMTlhMzRmYTY1YzZjZjkwN2MpOwogICAgICAgICAgICAKICAgIAogICAgICAgICAgICB2YXIgcG9wdXBfOTQ3Yjc4ZTYyNzllNGY3YWI0YTYxZDc4NmU4YTdkMWYgPSBMLnBvcHVwKHttYXhXaWR0aDogJzMwMCd9KTsKCiAgICAgICAgICAgIAogICAgICAgICAgICAgICAgdmFyIGh0bWxfNjUzMDUwOTI2YTkzNDk2Njg2NGFiMGE5ZWY0MzBhZWYgPSAkKCc8ZGl2IGlkPSJodG1sXzY1MzA1MDkyNmE5MzQ5NjY4NjRhYjBhOWVmNDMwYWVmIiBzdHlsZT0id2lkdGg6IDEwMC4wJTsgaGVpZ2h0OiAxMDAuMCU7Ij5Ib3RlbCBTaWx2ZXIgQ291cnQ8L2Rpdj4nKVswXTsKICAgICAgICAgICAgICAgIHBvcHVwXzk0N2I3OGU2Mjc5ZTRmN2FiNGE2MWQ3ODZlOGE3ZDFmLnNldENvbnRlbnQoaHRtbF82NTMwNTA5MjZhOTM0OTY2ODY0YWIwYTllZjQzMGFlZik7CiAgICAgICAgICAgIAoKICAgICAgICAgICAgY2lyY2xlX21hcmtlcl82MTg4NDRlYjg3OTE0OGQ5YjRhOTM0MmI3MTUwOWJlNi5iaW5kUG9wdXAocG9wdXBfOTQ3Yjc4ZTYyNzllNGY3YWI0YTYxZDc4NmU4YTdkMWYpOwoKICAgICAgICAgICAgCiAgICAgICAgCiAgICAKICAgICAgICAgICAgdmFyIGNpcmNsZV9tYXJrZXJfOTUyZDI0OWRmMzBiNGM4NDlkZGRiNzI0Y2FmYTU5OWMgPSBMLmNpcmNsZU1hcmtlcigKICAgICAgICAgICAgICAgIFsxOC41MjM3Njg3MDY3MTEwOCw3My44NTUxNjQzMTg2ODU3Ml0sCiAgICAgICAgICAgICAgICB7CiAgImJ1YmJsaW5nTW91c2VFdmVudHMiOiB0cnVlLAogICJjb2xvciI6ICJibHVlIiwKICAiZGFzaEFycmF5IjogbnVsbCwKICAiZGFzaE9mZnNldCI6IG51bGwsCiAgImZpbGwiOiB0cnVlLAogICJmaWxsQ29sb3IiOiAiYmx1ZSIsCiAgImZpbGxPcGFjaXR5IjogMC42LAogICJmaWxsUnVsZSI6ICJldmVub2RkIiwKICAibGluZUNhcCI6ICJyb3VuZCIsCiAgImxpbmVKb2luIjogInJvdW5kIiwKICAib3BhY2l0eSI6IDEuMCwKICAicmFkaXVzIjogNSwKICAic3Ryb2tlIjogdHJ1ZSwKICAid2VpZ2h0IjogMwp9CiAgICAgICAgICAgICAgICApLmFkZFRvKG1hcF9hMjAzMzhiYTE5NWM0NmYxOWEzNGZhNjVjNmNmOTA3Yyk7CiAgICAgICAgICAgIAogICAgCiAgICAgICAgICAgIHZhciBwb3B1cF85MTZhMjI4MjI5NTE0NGIyYmUwZTk3YmVjZDdkY2FlNiA9IEwucG9wdXAoe21heFdpZHRoOiAnMzAwJ30pOwoKICAgICAgICAgICAgCiAgICAgICAgICAgICAgICB2YXIgaHRtbF81Zjk4NTI3ZGNhYWQ0ODJkOGZhYWI1NGM1OTZjYzZiMiA9ICQoJzxkaXYgaWQ9Imh0bWxfNWY5ODUyN2RjYWFkNDgyZDhmYWFiNTRjNTk2Y2M2YjIiIHN0eWxlPSJ3aWR0aDogMTAwLjAlOyBoZWlnaHQ6IDEwMC4wJTsiPkhvdGVsIE1hbXRhPC9kaXY+JylbMF07CiAgICAgICAgICAgICAgICBwb3B1cF85MTZhMjI4MjI5NTE0NGIyYmUwZTk3YmVjZDdkY2FlNi5zZXRDb250ZW50KGh0bWxfNWY5ODUyN2RjYWFkNDgyZDhmYWFiNTRjNTk2Y2M2YjIpOwogICAgICAgICAgICAKCiAgICAgICAgICAgIGNpcmNsZV9tYXJrZXJfOTUyZDI0OWRmMzBiNGM4NDlkZGRiNzI0Y2FmYTU5OWMuYmluZFBvcHVwKHBvcHVwXzkxNmEyMjgyMjk1MTQ0YjJiZTBlOTdiZWNkN2RjYWU2KTsKCiAgICAgICAgICAgIAogICAgICAgIAogICAgCiAgICAgICAgICAgIHZhciBjaXJjbGVfbWFya2VyXzdiNDE3ZTkwMThiMTQ5NGU5Nzc5OWQyNTYyNWYwNThiID0gTC5jaXJjbGVNYXJrZXIoCiAgICAgICAgICAgICAgICBbMTguNTE3ODA5NTA0NjEzNzM0LDczLjg1Mzk4MTI3MzUyNzM1XSwKICAgICAgICAgICAgICAgIHsKICAiYnViYmxpbmdNb3VzZUV2ZW50cyI6IHRydWUsCiAgImNvbG9yIjogImJsdWUiLAogICJkYXNoQXJyYXkiOiBudWxsLAogICJkYXNoT2Zmc2V0IjogbnVsbCwKICAiZmlsbCI6IHRydWUsCiAgImZpbGxDb2xvciI6ICJibHVlIiwKICAiZmlsbE9wYWNpdHkiOiAwLjYsCiAgImZpbGxSdWxlIjogImV2ZW5vZGQiLAogICJsaW5lQ2FwIjogInJvdW5kIiwKICAibGluZUpvaW4iOiAicm91bmQiLAogICJvcGFjaXR5IjogMS4wLAogICJyYWRpdXMiOiA1LAogICJzdHJva2UiOiB0cnVlLAogICJ3ZWlnaHQiOiAzCn0KICAgICAgICAgICAgICAgICkuYWRkVG8obWFwX2EyMDMzOGJhMTk1YzQ2ZjE5YTM0ZmE2NWM2Y2Y5MDdjKTsKICAgICAgICAgICAgCiAgICAKICAgICAgICAgICAgdmFyIHBvcHVwX2ExNzU2Y2M1ODVmNjQ3OTdiNmVmNjg2MGY0ZDFhNWEzID0gTC5wb3B1cCh7bWF4V2lkdGg6ICczMDAnfSk7CgogICAgICAgICAgICAKICAgICAgICAgICAgICAgIHZhciBodG1sXzBmMmI5YWE1YzVmYjQ0ZjliNjYwZWEyNmY5YzA3ODQ0ID0gJCgnPGRpdiBpZD0iaHRtbF8wZjJiOWFhNWM1ZmI0NGY5YjY2MGVhMjZmOWMwNzg0NCIgc3R5bGU9IndpZHRoOiAxMDAuMCU7IGhlaWdodDogMTAwLjAlOyI+SG90ZWwgQmFzZXJhPC9kaXY+JylbMF07CiAgICAgICAgICAgICAgICBwb3B1cF9hMTc1NmNjNTg1ZjY0Nzk3YjZlZjY4NjBmNGQxYTVhMy5zZXRDb250ZW50KGh0bWxfMGYyYjlhYTVjNWZiNDRmOWI2NjBlYTI2ZjljMDc4NDQpOwogICAgICAgICAgICAKCiAgICAgICAgICAgIGNpcmNsZV9tYXJrZXJfN2I0MTdlOTAxOGIxNDk0ZTk3Nzk5ZDI1NjI1ZjA1OGIuYmluZFBvcHVwKHBvcHVwX2ExNzU2Y2M1ODVmNjQ3OTdiNmVmNjg2MGY0ZDFhNWEzKTsKCiAgICAgICAgICAgIAogICAgICAgIAogICAgCiAgICAgICAgICAgIHZhciBjaXJjbGVfbWFya2VyXzE2YTY3MGEyYTYzMTRlMzQ5MGUyNGU2NmFjZGYxZjU5ID0gTC5jaXJjbGVNYXJrZXIoCiAgICAgICAgICAgICAgICBbMTguNTE5OTgyNzIyNDYzMjMsNzMuODUwMDQzOTE2NDY4Ml0sCiAgICAgICAgICAgICAgICB7CiAgImJ1YmJsaW5nTW91c2VFdmVudHMiOiB0cnVlLAogICJjb2xvciI6ICJibHVlIiwKICAiZGFzaEFycmF5IjogbnVsbCwKICAiZGFzaE9mZnNldCI6IG51bGwsCiAgImZpbGwiOiB0cnVlLAogICJmaWxsQ29sb3IiOiAiYmx1ZSIsCiAgImZpbGxPcGFjaXR5IjogMC42LAogICJmaWxsUnVsZSI6ICJldmVub2RkIiwKICAibGluZUNhcCI6ICJyb3VuZCIsCiAgImxpbmVKb2luIjogInJvdW5kIiwKICAib3BhY2l0eSI6IDEuMCwKICAicmFkaXVzIjogNSwKICAic3Ryb2tlIjogdHJ1ZSwKICAid2VpZ2h0IjogMwp9CiAgICAgICAgICAgICAgICApLmFkZFRvKG1hcF9hMjAzMzhiYTE5NWM0NmYxOWEzNGZhNjVjNmNmOTA3Yyk7CiAgICAgICAgICAgIAogICAgCiAgICAgICAgICAgIHZhciBwb3B1cF83ODg2ZGI5MDE1MzE0NmM5OGE5ODgyZWE3MjZkMjkyZCA9IEwucG9wdXAoe21heFdpZHRoOiAnMzAwJ30pOwoKICAgICAgICAgICAgCiAgICAgICAgICAgICAgICB2YXIgaHRtbF9mZTIwZmFjMTcxMDI0MDVkODYyMmQwZjFjZjE2YTgwNSA9ICQoJzxkaXYgaWQ9Imh0bWxfZmUyMGZhYzE3MTAyNDA1ZDg2MjJkMGYxY2YxNmE4MDUiIHN0eWxlPSJ3aWR0aDogMTAwLjAlOyBoZWlnaHQ6IDEwMC4wJTsiPkhvdGVsIEhhcmlPbTwvZGl2PicpWzBdOwogICAgICAgICAgICAgICAgcG9wdXBfNzg4NmRiOTAxNTMxNDZjOThhOTg4MmVhNzI2ZDI5MmQuc2V0Q29udGVudChodG1sX2ZlMjBmYWMxNzEwMjQwNWQ4NjIyZDBmMWNmMTZhODA1KTsKICAgICAgICAgICAgCgogICAgICAgICAgICBjaXJjbGVfbWFya2VyXzE2YTY3MGEyYTYzMTRlMzQ5MGUyNGU2NmFjZGYxZjU5LmJpbmRQb3B1cChwb3B1cF83ODg2ZGI5MDE1MzE0NmM5OGE5ODgyZWE3MjZkMjkyZCk7CgogICAgICAgICAgICAKICAgICAgICAKICAgIAogICAgICAgICAgICB2YXIgY2lyY2xlX21hcmtlcl9hMWE4MjljYjk3YTQ0NmFiOGQ5MWZhZjE1M2VhZjViNCA9IEwuY2lyY2xlTWFya2VyKAogICAgICAgICAgICAgICAgWzE4LjUyMjEzMDA4MDMwNzI3LDczLjg1MjQzNjQxMjU5MjkyXSwKICAgICAgICAgICAgICAgIHsKICAiYnViYmxpbmdNb3VzZUV2ZW50cyI6IHRydWUsCiAgImNvbG9yIjogImJsdWUiLAogICJkYXNoQXJyYXkiOiBudWxsLAogICJkYXNoT2Zmc2V0IjogbnVsbCwKICAiZmlsbCI6IHRydWUsCiAgImZpbGxDb2xvciI6ICJibHVlIiwKICAiZmlsbE9wYWNpdHkiOiAwLjYsCiAgImZpbGxSdWxlIjogImV2ZW5vZGQiLAogICJsaW5lQ2FwIjogInJvdW5kIiwKICAibGluZUpvaW4iOiAicm91bmQiLAogICJvcGFjaXR5IjogMS4wLAogICJyYWRpdXMiOiA1LAogICJzdHJva2UiOiB0cnVlLAogICJ3ZWlnaHQiOiAzCn0KICAgICAgICAgICAgICAgICkuYWRkVG8obWFwX2EyMDMzOGJhMTk1YzQ2ZjE5YTM0ZmE2NWM2Y2Y5MDdjKTsKICAgICAgICAgICAgCiAgICAKICAgICAgICAgICAgdmFyIHBvcHVwXzk4OTZiOGE2MjUyODQ3MzlhZTRmNzFhM2Q5N2EyM2QwID0gTC5wb3B1cCh7bWF4V2lkdGg6ICczMDAnfSk7CgogICAgICAgICAgICAKICAgICAgICAgICAgICAgIHZhciBodG1sXzE2MWZhNTIwMmNiMTQ5YjBiNzE2Yzc1Mzg1YTQ2ODJmID0gJCgnPGRpdiBpZD0iaHRtbF8xNjFmYTUyMDJjYjE0OWIwYjcxNmM3NTM4NWE0NjgyZiIgc3R5bGU9IndpZHRoOiAxMDAuMCU7IGhlaWdodDogMTAwLjAlOyI+UmFtZGFzIEhvdGVsPC9kaXY+JylbMF07CiAgICAgICAgICAgICAgICBwb3B1cF85ODk2YjhhNjI1Mjg0NzM5YWU0ZjcxYTNkOTdhMjNkMC5zZXRDb250ZW50KGh0bWxfMTYxZmE1MjAyY2IxNDliMGI3MTZjNzUzODVhNDY4MmYpOwogICAgICAgICAgICAKCiAgICAgICAgICAgIGNpcmNsZV9tYXJrZXJfYTFhODI5Y2I5N2E0NDZhYjhkOTFmYWYxNTNlYWY1YjQuYmluZFBvcHVwKHBvcHVwXzk4OTZiOGE2MjUyODQ3MzlhZTRmNzFhM2Q5N2EyM2QwKTsKCiAgICAgICAgICAgIAogICAgICAgIAogICAgCiAgICAgICAgICAgIHZhciBjaXJjbGVfbWFya2VyX2RjZTUxODkwMWMyYTQzYTliZDY3YmJlZTRmNGEzYWE4ID0gTC5jaXJjbGVNYXJrZXIoCiAgICAgICAgICAgICAgICBbMTguNTI2NDIwNDE4Mjc0NTYsNzMuODUxNzcwMjIzNDY4MjhdLAogICAgICAgICAgICAgICAgewogICJidWJibGluZ01vdXNlRXZlbnRzIjogdHJ1ZSwKICAiY29sb3IiOiAiYmx1ZSIsCiAgImRhc2hBcnJheSI6IG51bGwsCiAgImRhc2hPZmZzZXQiOiBudWxsLAogICJmaWxsIjogdHJ1ZSwKICAiZmlsbENvbG9yIjogImJsdWUiLAogICJmaWxsT3BhY2l0eSI6IDAuNiwKICAiZmlsbFJ1bGUiOiAiZXZlbm9kZCIsCiAgImxpbmVDYXAiOiAicm91bmQiLAogICJsaW5lSm9pbiI6ICJyb3VuZCIsCiAgIm9wYWNpdHkiOiAxLjAsCiAgInJhZGl1cyI6IDUsCiAgInN0cm9rZSI6IHRydWUsCiAgIndlaWdodCI6IDMKfQogICAgICAgICAgICAgICAgKS5hZGRUbyhtYXBfYTIwMzM4YmExOTVjNDZmMTlhMzRmYTY1YzZjZjkwN2MpOwogICAgICAgICAgICAKICAgIAogICAgICAgICAgICB2YXIgcG9wdXBfZjA4ZjlkNThjMmQzNGFjMjhmMTNkNDc2ZTY3MmE0YmUgPSBMLnBvcHVwKHttYXhXaWR0aDogJzMwMCd9KTsKCiAgICAgICAgICAgIAogICAgICAgICAgICAgICAgdmFyIGh0bWxfZDdmYmEwNjA3OGExNDhjOGE5ZjNjZTQ1NDU3MTAzYmMgPSAkKCc8ZGl2IGlkPSJodG1sX2Q3ZmJhMDYwNzhhMTQ4YzhhOWYzY2U0NTQ1NzEwM2JjIiBzdHlsZT0id2lkdGg6IDEwMC4wJTsgaGVpZ2h0OiAxMDAuMCU7Ij5Ib3RlbCBDaXRpb3RlbDwvZGl2PicpWzBdOwogICAgICAgICAgICAgICAgcG9wdXBfZjA4ZjlkNThjMmQzNGFjMjhmMTNkNDc2ZTY3MmE0YmUuc2V0Q29udGVudChodG1sX2Q3ZmJhMDYwNzhhMTQ4YzhhOWYzY2U0NTQ1NzEwM2JjKTsKICAgICAgICAgICAgCgogICAgICAgICAgICBjaXJjbGVfbWFya2VyX2RjZTUxODkwMWMyYTQzYTliZDY3YmJlZTRmNGEzYWE4LmJpbmRQb3B1cChwb3B1cF9mMDhmOWQ1OGMyZDM0YWMyOGYxM2Q0NzZlNjcyYTRiZSk7CgogICAgICAgICAgICAKICAgICAgICAKICAgIAogICAgICAgICAgICB2YXIgY2lyY2xlX21hcmtlcl9iZWIyYzMyMDk5MTE0YjIxYmQ5YTIwMTM4NTBhYjAyNiA9IEwuY2lyY2xlTWFya2VyKAogICAgICAgICAgICAgICAgWzE4LjUxOTUyNjg1NzI3NjIzMyw3My44NDg5Mjc0MDgzMzkyNl0sCiAgICAgICAgICAgICAgICB7CiAgImJ1YmJsaW5nTW91c2VFdmVudHMiOiB0cnVlLAogICJjb2xvciI6ICJibHVlIiwKICAiZGFzaEFycmF5IjogbnVsbCwKICAiZGFzaE9mZnNldCI6IG51bGwsCiAgImZpbGwiOiB0cnVlLAogICJmaWxsQ29sb3IiOiAiYmx1ZSIsCiAgImZpbGxPcGFjaXR5IjogMC42LAogICJmaWxsUnVsZSI6ICJldmVub2RkIiwKICAibGluZUNhcCI6ICJyb3VuZCIsCiAgImxpbmVKb2luIjogInJvdW5kIiwKICAib3BhY2l0eSI6IDEuMCwKICAicmFkaXVzIjogNSwKICAic3Ryb2tlIjogdHJ1ZSwKICAid2VpZ2h0IjogMwp9CiAgICAgICAgICAgICAgICApLmFkZFRvKG1hcF9hMjAzMzhiYTE5NWM0NmYxOWEzNGZhNjVjNmNmOTA3Yyk7CiAgICAgICAgICAgIAogICAgCiAgICAgICAgICAgIHZhciBwb3B1cF85YzNlNTYzMmVlYzA0YWZhYjEwZjE4YWJiMDYwNjE4OSA9IEwucG9wdXAoe21heFdpZHRoOiAnMzAwJ30pOwoKICAgICAgICAgICAgCiAgICAgICAgICAgICAgICB2YXIgaHRtbF81ODZjMWUxNDA1NTc0YWE3YWY2OWY5ZTgzMDdjYTc2OCA9ICQoJzxkaXYgaWQ9Imh0bWxfNTg2YzFlMTQwNTU3NGFhN2FmNjlmOWU4MzA3Y2E3NjgiIHN0eWxlPSJ3aWR0aDogMTAwLjAlOyBoZWlnaHQ6IDEwMC4wJTsiPkhvdGVsIE1hZGh1YmFuPC9kaXY+JylbMF07CiAgICAgICAgICAgICAgICBwb3B1cF85YzNlNTYzMmVlYzA0YWZhYjEwZjE4YWJiMDYwNjE4OS5zZXRDb250ZW50KGh0bWxfNTg2YzFlMTQwNTU3NGFhN2FmNjlmOWU4MzA3Y2E3NjgpOwogICAgICAgICAgICAKCiAgICAgICAgICAgIGNpcmNsZV9tYXJrZXJfYmViMmMzMjA5OTExNGIyMWJkOWEyMDEzODUwYWIwMjYuYmluZFBvcHVwKHBvcHVwXzljM2U1NjMyZWVjMDRhZmFiMTBmMThhYmIwNjA2MTg5KTsKCiAgICAgICAgICAgIAogICAgICAgIAogICAgCiAgICAgICAgICAgIHZhciBjaXJjbGVfbWFya2VyX2JhZTU0YjZlYjI4MzQ2ZWI4NDhkZjdlMDA4ZTUyZGI1ID0gTC5jaXJjbGVNYXJrZXIoCiAgICAgICAgICAgICAgICBbMTguNTE4MDAyNDkzNTk2Niw3My44NTAwMDEzNjU1NDc2OF0sCiAgICAgICAgICAgICAgICB7CiAgImJ1YmJsaW5nTW91c2VFdmVudHMiOiB0cnVlLAogICJjb2xvciI6ICJibHVlIiwKICAiZGFzaEFycmF5IjogbnVsbCwKICAiZGFzaE9mZnNldCI6IG51bGwsCiAgImZpbGwiOiB0cnVlLAogICJmaWxsQ29sb3IiOiAiYmx1ZSIsCiAgImZpbGxPcGFjaXR5IjogMC42LAogICJmaWxsUnVsZSI6ICJldmVub2RkIiwKICAibGluZUNhcCI6ICJyb3VuZCIsCiAgImxpbmVKb2luIjogInJvdW5kIiwKICAib3BhY2l0eSI6IDEuMCwKICAicmFkaXVzIjogNSwKICAic3Ryb2tlIjogdHJ1ZSwKICAid2VpZ2h0IjogMwp9CiAgICAgICAgICAgICAgICApLmFkZFRvKG1hcF9hMjAzMzhiYTE5NWM0NmYxOWEzNGZhNjVjNmNmOTA3Yyk7CiAgICAgICAgICAgIAogICAgCiAgICAgICAgICAgIHZhciBwb3B1cF81NDBmOTE5ZDQ3OTc0NjhhYmM3MzYxZjI5ZjI0NjZjYyA9IEwucG9wdXAoe21heFdpZHRoOiAnMzAwJ30pOwoKICAgICAgICAgICAgCiAgICAgICAgICAgICAgICB2YXIgaHRtbF84NWE3NjdjZTQyZTg0YzU5YTljYzMxY2FiZjg2YTE3YyA9ICQoJzxkaXYgaWQ9Imh0bWxfODVhNzY3Y2U0MmU4NGM1OWE5Y2MzMWNhYmY4NmExN2MiIHN0eWxlPSJ3aWR0aDogMTAwLjAlOyBoZWlnaHQ6IDEwMC4wJTsiPkhvdGVsIFNocmVlIEdhbmFyYWo8L2Rpdj4nKVswXTsKICAgICAgICAgICAgICAgIHBvcHVwXzU0MGY5MTlkNDc5NzQ2OGFiYzczNjFmMjlmMjQ2NmNjLnNldENvbnRlbnQoaHRtbF84NWE3NjdjZTQyZTg0YzU5YTljYzMxY2FiZjg2YTE3Yyk7CiAgICAgICAgICAgIAoKICAgICAgICAgICAgY2lyY2xlX21hcmtlcl9iYWU1NGI2ZWIyODM0NmViODQ4ZGY3ZTAwOGU1MmRiNS5iaW5kUG9wdXAocG9wdXBfNTQwZjkxOWQ0Nzk3NDY4YWJjNzM2MWYyOWYyNDY2Y2MpOwoKICAgICAgICAgICAgCiAgICAgICAgCiAgICAKICAgICAgICAgICAgdmFyIGNpcmNsZV9tYXJrZXJfNDAxOTEyYjUxMjQwNDhiMGFmZDYyNzVjODI4NDc2ODkgPSBMLmNpcmNsZU1hcmtlcigKICAgICAgICAgICAgICAgIFsxOC41MTY0MzIyODgyMTk2Miw3My44NTE3OTg5Mzg1NjMyM10sCiAgICAgICAgICAgICAgICB7CiAgImJ1YmJsaW5nTW91c2VFdmVudHMiOiB0cnVlLAogICJjb2xvciI6ICJibHVlIiwKICAiZGFzaEFycmF5IjogbnVsbCwKICAiZGFzaE9mZnNldCI6IG51bGwsCiAgImZpbGwiOiB0cnVlLAogICJmaWxsQ29sb3IiOiAiYmx1ZSIsCiAgImZpbGxPcGFjaXR5IjogMC42LAogICJmaWxsUnVsZSI6ICJldmVub2RkIiwKICAibGluZUNhcCI6ICJyb3VuZCIsCiAgImxpbmVKb2luIjogInJvdW5kIiwKICAib3BhY2l0eSI6IDEuMCwKICAicmFkaXVzIjogNSwKICAic3Ryb2tlIjogdHJ1ZSwKICAid2VpZ2h0IjogMwp9CiAgICAgICAgICAgICAgICApLmFkZFRvKG1hcF9hMjAzMzhiYTE5NWM0NmYxOWEzNGZhNjVjNmNmOTA3Yyk7CiAgICAgICAgICAgIAogICAgCiAgICAgICAgICAgIHZhciBwb3B1cF8xMmI4OThjN2NlZTc0NTQzYjU2MTM4YWQ0N2ZkOTg3MyA9IEwucG9wdXAoe21heFdpZHRoOiAnMzAwJ30pOwoKICAgICAgICAgICAgCiAgICAgICAgICAgICAgICB2YXIgaHRtbF8zMWE4MWFkMmQ4NWY0ZmI3OWViZDkyODExOWYyZmRiZSA9ICQoJzxkaXYgaWQ9Imh0bWxfMzFhODFhZDJkODVmNGZiNzllYmQ5MjgxMTlmMmZkYmUiIHN0eWxlPSJ3aWR0aDogMTAwLjAlOyBoZWlnaHQ6IDEwMC4wJTsiPkhvdGVsIFRydXB0aTwvZGl2PicpWzBdOwogICAgICAgICAgICAgICAgcG9wdXBfMTJiODk4YzdjZWU3NDU0M2I1NjEzOGFkNDdmZDk4NzMuc2V0Q29udGVudChodG1sXzMxYTgxYWQyZDg1ZjRmYjc5ZWJkOTI4MTE5ZjJmZGJlKTsKICAgICAgICAgICAgCgogICAgICAgICAgICBjaXJjbGVfbWFya2VyXzQwMTkxMmI1MTI0MDQ4YjBhZmQ2Mjc1YzgyODQ3Njg5LmJpbmRQb3B1cChwb3B1cF8xMmI4OThjN2NlZTc0NTQzYjU2MTM4YWQ0N2ZkOTg3Myk7CgogICAgICAgICAgICAKICAgICAgICAKICAgIAogICAgICAgICAgICB2YXIgY2lyY2xlX21hcmtlcl85MjE5ZjBkODhiMWY0OTFjODc4NjU2Mzk3MTU0OTYwZiA9IEwuY2lyY2xlTWFya2VyKAogICAgICAgICAgICAgICAgWzE4LjUyMzI5MTQ5NjcyMzkyNSw3My44NDkwNDgwMTM0NTgxNl0sCiAgICAgICAgICAgICAgICB7CiAgImJ1YmJsaW5nTW91c2VFdmVudHMiOiB0cnVlLAogICJjb2xvciI6ICJibHVlIiwKICAiZGFzaEFycmF5IjogbnVsbCwKICAiZGFzaE9mZnNldCI6IG51bGwsCiAgImZpbGwiOiB0cnVlLAogICJmaWxsQ29sb3IiOiAiYmx1ZSIsCiAgImZpbGxPcGFjaXR5IjogMC42LAogICJmaWxsUnVsZSI6ICJldmVub2RkIiwKICAibGluZUNhcCI6ICJyb3VuZCIsCiAgImxpbmVKb2luIjogInJvdW5kIiwKICAib3BhY2l0eSI6IDEuMCwKICAicmFkaXVzIjogNSwKICAic3Ryb2tlIjogdHJ1ZSwKICAid2VpZ2h0IjogMwp9CiAgICAgICAgICAgICAgICApLmFkZFRvKG1hcF9hMjAzMzhiYTE5NWM0NmYxOWEzNGZhNjVjNmNmOTA3Yyk7CiAgICAgICAgICAgIAogICAgCiAgICAgICAgICAgIHZhciBwb3B1cF83NDVkNzMyMmU0NTE0ODBmYjgyNTRhOGU0NzE4MTgzZCA9IEwucG9wdXAoe21heFdpZHRoOiAnMzAwJ30pOwoKICAgICAgICAgICAgCiAgICAgICAgICAgICAgICB2YXIgaHRtbF8yNzI2ZGQxY2EyZWM0YzIxYjQ5ZmYwNmFiMWFiMjE1YyA9ICQoJzxkaXYgaWQ9Imh0bWxfMjcyNmRkMWNhMmVjNGMyMWI0OWZmMDZhYjFhYjIxNWMiIHN0eWxlPSJ3aWR0aDogMTAwLjAlOyBoZWlnaHQ6IDEwMC4wJTsiPkhvdGVsIFN3YW4gSW5uPC9kaXY+JylbMF07CiAgICAgICAgICAgICAgICBwb3B1cF83NDVkNzMyMmU0NTE0ODBmYjgyNTRhOGU0NzE4MTgzZC5zZXRDb250ZW50KGh0bWxfMjcyNmRkMWNhMmVjNGMyMWI0OWZmMDZhYjFhYjIxNWMpOwogICAgICAgICAgICAKCiAgICAgICAgICAgIGNpcmNsZV9tYXJrZXJfOTIxOWYwZDg4YjFmNDkxYzg3ODY1NjM5NzE1NDk2MGYuYmluZFBvcHVwKHBvcHVwXzc0NWQ3MzIyZTQ1MTQ4MGZiODI1NGE4ZTQ3MTgxODNkKTsKCiAgICAgICAgICAgIAogICAgICAgIAogICAgCiAgICAgICAgICAgIHZhciBjaXJjbGVfbWFya2VyX2QwZDE3NmMwNDc5NTQ3ZTU4MDg0NzBhNjA2MTllNjQ5ID0gTC5jaXJjbGVNYXJrZXIoCiAgICAgICAgICAgICAgICBbMTguNTE2MzEyLDczLjg1MTU1XSwKICAgICAgICAgICAgICAgIHsKICAiYnViYmxpbmdNb3VzZUV2ZW50cyI6IHRydWUsCiAgImNvbG9yIjogImJsdWUiLAogICJkYXNoQXJyYXkiOiBudWxsLAogICJkYXNoT2Zmc2V0IjogbnVsbCwKICAiZmlsbCI6IHRydWUsCiAgImZpbGxDb2xvciI6ICJibHVlIiwKICAiZmlsbE9wYWNpdHkiOiAwLjYsCiAgImZpbGxSdWxlIjogImV2ZW5vZGQiLAogICJsaW5lQ2FwIjogInJvdW5kIiwKICAibGluZUpvaW4iOiAicm91bmQiLAogICJvcGFjaXR5IjogMS4wLAogICJyYWRpdXMiOiA1LAogICJzdHJva2UiOiB0cnVlLAogICJ3ZWlnaHQiOiAzCn0KICAgICAgICAgICAgICAgICkuYWRkVG8obWFwX2EyMDMzOGJhMTk1YzQ2ZjE5YTM0ZmE2NWM2Y2Y5MDdjKTsKICAgICAgICAgICAgCiAgICAKICAgICAgICAgICAgdmFyIHBvcHVwX2U0ZDE5NmQwNTQwZTQwNGQ5MDE4NTRkNjlmNjZlNzRhID0gTC5wb3B1cCh7bWF4V2lkdGg6ICczMDAnfSk7CgogICAgICAgICAgICAKICAgICAgICAgICAgICAgIHZhciBodG1sXzYzMjUzYjEwODNkYTRkNDI4Y2VkMTJiZjFmM2I2Y2I3ID0gJCgnPGRpdiBpZD0iaHRtbF82MzI1M2IxMDgzZGE0ZDQyOGNlZDEyYmYxZjNiNmNiNyIgc3R5bGU9IndpZHRoOiAxMDAuMCU7IGhlaWdodDogMTAwLjAlOyI+SG90ZWwgTWFsdmFuPC9kaXY+JylbMF07CiAgICAgICAgICAgICAgICBwb3B1cF9lNGQxOTZkMDU0MGU0MDRkOTAxODU0ZDY5ZjY2ZTc0YS5zZXRDb250ZW50KGh0bWxfNjMyNTNiMTA4M2RhNGQ0MjhjZWQxMmJmMWYzYjZjYjcpOwogICAgICAgICAgICAKCiAgICAgICAgICAgIGNpcmNsZV9tYXJrZXJfZDBkMTc2YzA0Nzk1NDdlNTgwODQ3MGE2MDYxOWU2NDkuYmluZFBvcHVwKHBvcHVwX2U0ZDE5NmQwNTQwZTQwNGQ5MDE4NTRkNjlmNjZlNzRhKTsKCiAgICAgICAgICAgIAogICAgICAgIAogICAgCiAgICAgICAgICAgIHZhciBjaXJjbGVfbWFya2VyXzliZDcwYWFiZWQ3YzQxZTE5YzY3MDUwY2ZkODE3ZWUwID0gTC5jaXJjbGVNYXJrZXIoCiAgICAgICAgICAgICAgICBbMTguNTE0NDUwOTIxNTk2MDk0LDczLjg1NDI3MDIzNDYxOTk3XSwKICAgICAgICAgICAgICAgIHsKICAiYnViYmxpbmdNb3VzZUV2ZW50cyI6IHRydWUsCiAgImNvbG9yIjogImJsdWUiLAogICJkYXNoQXJyYXkiOiBudWxsLAogICJkYXNoT2Zmc2V0IjogbnVsbCwKICAiZmlsbCI6IHRydWUsCiAgImZpbGxDb2xvciI6ICJibHVlIiwKICAiZmlsbE9wYWNpdHkiOiAwLjYsCiAgImZpbGxSdWxlIjogImV2ZW5vZGQiLAogICJsaW5lQ2FwIjogInJvdW5kIiwKICAibGluZUpvaW4iOiAicm91bmQiLAogICJvcGFjaXR5IjogMS4wLAogICJyYWRpdXMiOiA1LAogICJzdHJva2UiOiB0cnVlLAogICJ3ZWlnaHQiOiAzCn0KICAgICAgICAgICAgICAgICkuYWRkVG8obWFwX2EyMDMzOGJhMTk1YzQ2ZjE5YTM0ZmE2NWM2Y2Y5MDdjKTsKICAgICAgICAgICAgCiAgICAKICAgICAgICAgICAgdmFyIHBvcHVwX2JhNThkYjcyN2M0YzQyYjZiMmY2MTIyMDkxMzhiZmU4ID0gTC5wb3B1cCh7bWF4V2lkdGg6ICczMDAnfSk7CgogICAgICAgICAgICAKICAgICAgICAgICAgICAgIHZhciBodG1sXzUzOGU4ZjJkMTZhNzQ4ZjVhM2JiMDVjNGZiOTdkMGFmID0gJCgnPGRpdiBpZD0iaHRtbF81MzhlOGYyZDE2YTc0OGY1YTNiYjA1YzRmYjk3ZDBhZiIgc3R5bGU9IndpZHRoOiAxMDAuMCU7IGhlaWdodDogMTAwLjAlOyI+SG90ZWwgQWdhdHlhPC9kaXY+JylbMF07CiAgICAgICAgICAgICAgICBwb3B1cF9iYTU4ZGI3MjdjNGM0MmI2YjJmNjEyMjA5MTM4YmZlOC5zZXRDb250ZW50KGh0bWxfNTM4ZThmMmQxNmE3NDhmNWEzYmIwNWM0ZmI5N2QwYWYpOwogICAgICAgICAgICAKCiAgICAgICAgICAgIGNpcmNsZV9tYXJrZXJfOWJkNzBhYWJlZDdjNDFlMTljNjcwNTBjZmQ4MTdlZTAuYmluZFBvcHVwKHBvcHVwX2JhNThkYjcyN2M0YzQyYjZiMmY2MTIyMDkxMzhiZmU4KTsKCiAgICAgICAgICAgIAogICAgICAgIAogICAgCiAgICAgICAgICAgIHZhciBjaXJjbGVfbWFya2VyXzFmNjZkYmQ4N2U4ODQ2YzY5NmRkNjRhYWNiOTg0ZDRjID0gTC5jaXJjbGVNYXJrZXIoCiAgICAgICAgICAgICAgICBbMTguNTIyMDAwOTA3OTE0NzU1LDczLjg0ODQ0NDk4NzE2NDUzXSwKICAgICAgICAgICAgICAgIHsKICAiYnViYmxpbmdNb3VzZUV2ZW50cyI6IHRydWUsCiAgImNvbG9yIjogImJsdWUiLAogICJkYXNoQXJyYXkiOiBudWxsLAogICJkYXNoT2Zmc2V0IjogbnVsbCwKICAiZmlsbCI6IHRydWUsCiAgImZpbGxDb2xvciI6ICJibHVlIiwKICAiZmlsbE9wYWNpdHkiOiAwLjYsCiAgImZpbGxSdWxlIjogImV2ZW5vZGQiLAogICJsaW5lQ2FwIjogInJvdW5kIiwKICAibGluZUpvaW4iOiAicm91bmQiLAogICJvcGFjaXR5IjogMS4wLAogICJyYWRpdXMiOiA1LAogICJzdHJva2UiOiB0cnVlLAogICJ3ZWlnaHQiOiAzCn0KICAgICAgICAgICAgICAgICkuYWRkVG8obWFwX2EyMDMzOGJhMTk1YzQ2ZjE5YTM0ZmE2NWM2Y2Y5MDdjKTsKICAgICAgICAgICAgCiAgICAKICAgICAgICAgICAgdmFyIHBvcHVwXzMyYjNlYzgxZjQ5YTQ2ODVhOGIxYzc4ZjM3Y2YxM2IyID0gTC5wb3B1cCh7bWF4V2lkdGg6ICczMDAnfSk7CgogICAgICAgICAgICAKICAgICAgICAgICAgICAgIHZhciBodG1sX2QxYjU4ZGRmNWJlMTQwOWZiNGI2ZGE0OTMwNmY2MWVkID0gJCgnPGRpdiBpZD0iaHRtbF9kMWI1OGRkZjViZTE0MDlmYjRiNmRhNDkzMDZmNjFlZCIgc3R5bGU9IndpZHRoOiAxMDAuMCU7IGhlaWdodDogMTAwLjAlOyI+SG90ZWwgR2FuZGhhcnZhIFJlc2lkZW5jeTwvZGl2PicpWzBdOwogICAgICAgICAgICAgICAgcG9wdXBfMzJiM2VjODFmNDlhNDY4NWE4YjFjNzhmMzdjZjEzYjIuc2V0Q29udGVudChodG1sX2QxYjU4ZGRmNWJlMTQwOWZiNGI2ZGE0OTMwNmY2MWVkKTsKICAgICAgICAgICAgCgogICAgICAgICAgICBjaXJjbGVfbWFya2VyXzFmNjZkYmQ4N2U4ODQ2YzY5NmRkNjRhYWNiOTg0ZDRjLmJpbmRQb3B1cChwb3B1cF8zMmIzZWM4MWY0OWE0Njg1YThiMWM3OGYzN2NmMTNiMik7CgogICAgICAgICAgICAKICAgICAgICAKICAgIAogICAgICAgICAgICB2YXIgY2lyY2xlX21hcmtlcl82NmEyZWRjM2VlZjk0MzY1OThiZTA4NmZiYjcxZjBlYiA9IEwuY2lyY2xlTWFya2VyKAogICAgICAgICAgICAgICAgWzE4LjUyMzI5Myw3My44NDg0OTVdLAogICAgICAgICAgICAgICAgewogICJidWJibGluZ01vdXNlRXZlbnRzIjogdHJ1ZSwKICAiY29sb3IiOiAiYmx1ZSIsCiAgImRhc2hBcnJheSI6IG51bGwsCiAgImRhc2hPZmZzZXQiOiBudWxsLAogICJmaWxsIjogdHJ1ZSwKICAiZmlsbENvbG9yIjogImJsdWUiLAogICJmaWxsT3BhY2l0eSI6IDAuNiwKICAiZmlsbFJ1bGUiOiAiZXZlbm9kZCIsCiAgImxpbmVDYXAiOiAicm91bmQiLAogICJsaW5lSm9pbiI6ICJyb3VuZCIsCiAgIm9wYWNpdHkiOiAxLjAsCiAgInJhZGl1cyI6IDUsCiAgInN0cm9rZSI6IHRydWUsCiAgIndlaWdodCI6IDMKfQogICAgICAgICAgICAgICAgKS5hZGRUbyhtYXBfYTIwMzM4YmExOTVjNDZmMTlhMzRmYTY1YzZjZjkwN2MpOwogICAgICAgICAgICAKICAgIAogICAgICAgICAgICB2YXIgcG9wdXBfYTE4YzdhMTk3MmMwNGQxYmE4MmIyZDNiMTFjYTNmOTkgPSBMLnBvcHVwKHttYXhXaWR0aDogJzMwMCd9KTsKCiAgICAgICAgICAgIAogICAgICAgICAgICAgICAgdmFyIGh0bWxfNTFjZWM4ZWEyZjU5NDEwNmEwMDc5MTNjMjVmZDc5MWUgPSAkKCc8ZGl2IGlkPSJodG1sXzUxY2VjOGVhMmY1OTQxMDZhMDA3OTEzYzI1ZmQ3OTFlIiBzdHlsZT0id2lkdGg6IDEwMC4wJTsgaGVpZ2h0OiAxMDAuMCU7Ij5Ib3RlbCBWaWpheTwvZGl2PicpWzBdOwogICAgICAgICAgICAgICAgcG9wdXBfYTE4YzdhMTk3MmMwNGQxYmE4MmIyZDNiMTFjYTNmOTkuc2V0Q29udGVudChodG1sXzUxY2VjOGVhMmY1OTQxMDZhMDA3OTEzYzI1ZmQ3OTFlKTsKICAgICAgICAgICAgCgogICAgICAgICAgICBjaXJjbGVfbWFya2VyXzY2YTJlZGMzZWVmOTQzNjU5OGJlMDg2ZmJiNzFmMGViLmJpbmRQb3B1cChwb3B1cF9hMThjN2ExOTcyYzA0ZDFiYTgyYjJkM2IxMWNhM2Y5OSk7CgogICAgICAgICAgICAKICAgICAgICAKICAgIAogICAgICAgICAgICB2YXIgY2lyY2xlX21hcmtlcl8xN2YyODMxMjBiYzY0ZmM2ODRlYjdlODRkZTQzYzI1NCA9IEwuY2lyY2xlTWFya2VyKAogICAgICAgICAgICAgICAgWzE4LjUyNTUyNzk2Nzc3MDgyNCw3My44NDk3NjE3OTcyNzYxOV0sCiAgICAgICAgICAgICAgICB7CiAgImJ1YmJsaW5nTW91c2VFdmVudHMiOiB0cnVlLAogICJjb2xvciI6ICJibHVlIiwKICAiZGFzaEFycmF5IjogbnVsbCwKICAiZGFzaE9mZnNldCI6IG51bGwsCiAgImZpbGwiOiB0cnVlLAogICJmaWxsQ29sb3IiOiAiYmx1ZSIsCiAgImZpbGxPcGFjaXR5IjogMC42LAogICJmaWxsUnVsZSI6ICJldmVub2RkIiwKICAibGluZUNhcCI6ICJyb3VuZCIsCiAgImxpbmVKb2luIjogInJvdW5kIiwKICAib3BhY2l0eSI6IDEuMCwKICAicmFkaXVzIjogNSwKICAic3Ryb2tlIjogdHJ1ZSwKICAid2VpZ2h0IjogMwp9CiAgICAgICAgICAgICAgICApLmFkZFRvKG1hcF9hMjAzMzhiYTE5NWM0NmYxOWEzNGZhNjVjNmNmOTA3Yyk7CiAgICAgICAgICAgIAogICAgCiAgICAgICAgICAgIHZhciBwb3B1cF9iZDU2NmNhYTVlYzc0YzdhOTE1NDkxZjhlNTA0ZDRiNCA9IEwucG9wdXAoe21heFdpZHRoOiAnMzAwJ30pOwoKICAgICAgICAgICAgCiAgICAgICAgICAgICAgICB2YXIgaHRtbF9mY2RkODk1NDcwMzg0YzIxYTMwM2NkOTI1NDA4NGIzYSA9ICQoJzxkaXYgaWQ9Imh0bWxfZmNkZDg5NTQ3MDM4NGMyMWEzMDNjZDkyNTQwODRiM2EiIHN0eWxlPSJ3aWR0aDogMTAwLjAlOyBoZWlnaHQ6IDEwMC4wJTsiPkhvdGVsIFN1cmFiaGk8L2Rpdj4nKVswXTsKICAgICAgICAgICAgICAgIHBvcHVwX2JkNTY2Y2FhNWVjNzRjN2E5MTU0OTFmOGU1MDRkNGI0LnNldENvbnRlbnQoaHRtbF9mY2RkODk1NDcwMzg0YzIxYTMwM2NkOTI1NDA4NGIzYSk7CiAgICAgICAgICAgIAoKICAgICAgICAgICAgY2lyY2xlX21hcmtlcl8xN2YyODMxMjBiYzY0ZmM2ODRlYjdlODRkZTQzYzI1NC5iaW5kUG9wdXAocG9wdXBfYmQ1NjZjYWE1ZWM3NGM3YTkxNTQ5MWY4ZTUwNGQ0YjQpOwoKICAgICAgICAgICAgCiAgICAgICAgCiAgICAKICAgICAgICAgICAgdmFyIGNpcmNsZV9tYXJrZXJfY2E5MjQ5NjkwZWZhNDcwYjg1ZGFhZjY0OGY5YjQzZWYgPSBMLmNpcmNsZU1hcmtlcigKICAgICAgICAgICAgICAgIFsxOC41MjMzODA4NjY3Nzg2NSw3My44NDgyNjY5NTA0Nzc0XSwKICAgICAgICAgICAgICAgIHsKICAiYnViYmxpbmdNb3VzZUV2ZW50cyI6IHRydWUsCiAgImNvbG9yIjogImJsdWUiLAogICJkYXNoQXJyYXkiOiBudWxsLAogICJkYXNoT2Zmc2V0IjogbnVsbCwKICAiZmlsbCI6IHRydWUsCiAgImZpbGxDb2xvciI6ICJibHVlIiwKICAiZmlsbE9wYWNpdHkiOiAwLjYsCiAgImZpbGxSdWxlIjogImV2ZW5vZGQiLAogICJsaW5lQ2FwIjogInJvdW5kIiwKICAibGluZUpvaW4iOiAicm91bmQiLAogICJvcGFjaXR5IjogMS4wLAogICJyYWRpdXMiOiA1LAogICJzdHJva2UiOiB0cnVlLAogICJ3ZWlnaHQiOiAzCn0KICAgICAgICAgICAgICAgICkuYWRkVG8obWFwX2EyMDMzOGJhMTk1YzQ2ZjE5YTM0ZmE2NWM2Y2Y5MDdjKTsKICAgICAgICAgICAgCiAgICAKICAgICAgICAgICAgdmFyIHBvcHVwXzNiNmFkYWVkMThmNzRkZmVhZTI4ZmE5NTk3ODRmMGVkID0gTC5wb3B1cCh7bWF4V2lkdGg6ICczMDAnfSk7CgogICAgICAgICAgICAKICAgICAgICAgICAgICAgIHZhciBodG1sXzZjYTlhMDgwZjBmNzQ5YTk4MDM2MWVmOGFhY2E2YjIxID0gJCgnPGRpdiBpZD0iaHRtbF82Y2E5YTA4MGYwZjc0OWE5ODAzNjFlZjhhYWNhNmIyMSIgc3R5bGU9IndpZHRoOiAxMDAuMCU7IGhlaWdodDogMTAwLjAlOyI+SG90ZWwgU2hpdmFuamFsaTwvZGl2PicpWzBdOwogICAgICAgICAgICAgICAgcG9wdXBfM2I2YWRhZWQxOGY3NGRmZWFlMjhmYTk1OTc4NGYwZWQuc2V0Q29udGVudChodG1sXzZjYTlhMDgwZjBmNzQ5YTk4MDM2MWVmOGFhY2E2YjIxKTsKICAgICAgICAgICAgCgogICAgICAgICAgICBjaXJjbGVfbWFya2VyX2NhOTI0OTY5MGVmYTQ3MGI4NWRhYWY2NDhmOWI0M2VmLmJpbmRQb3B1cChwb3B1cF8zYjZhZGFlZDE4Zjc0ZGZlYWUyOGZhOTU5Nzg0ZjBlZCk7CgogICAgICAgICAgICAKICAgICAgICAKICAgIAogICAgICAgICAgICB2YXIgY2lyY2xlX21hcmtlcl80OTlhZTZkYzQ5NDg0NWFlOWIzODhhMTFkMzgwZTQ4NSA9IEwuY2lyY2xlTWFya2VyKAogICAgICAgICAgICAgICAgWzE4LjUxOTI0ODI5NTQxMDQ4NSw3My44NDg2ODgwNDE3NzUzNl0sCiAgICAgICAgICAgICAgICB7CiAgImJ1YmJsaW5nTW91c2VFdmVudHMiOiB0cnVlLAogICJjb2xvciI6ICJibHVlIiwKICAiZGFzaEFycmF5IjogbnVsbCwKICAiZGFzaE9mZnNldCI6IG51bGwsCiAgImZpbGwiOiB0cnVlLAogICJmaWxsQ29sb3IiOiAiYmx1ZSIsCiAgImZpbGxPcGFjaXR5IjogMC42LAogICJmaWxsUnVsZSI6ICJldmVub2RkIiwKICAibGluZUNhcCI6ICJyb3VuZCIsCiAgImxpbmVKb2luIjogInJvdW5kIiwKICAib3BhY2l0eSI6IDEuMCwKICAicmFkaXVzIjogNSwKICAic3Ryb2tlIjogdHJ1ZSwKICAid2VpZ2h0IjogMwp9CiAgICAgICAgICAgICAgICApLmFkZFRvKG1hcF9hMjAzMzhiYTE5NWM0NmYxOWEzNGZhNjVjNmNmOTA3Yyk7CiAgICAgICAgICAgIAogICAgCiAgICAgICAgICAgIHZhciBwb3B1cF82NzhmMGFjZTc3YzY0NTA4YTM1NzYwODhhNzM3ODIwMiA9IEwucG9wdXAoe21heFdpZHRoOiAnMzAwJ30pOwoKICAgICAgICAgICAgCiAgICAgICAgICAgICAgICB2YXIgaHRtbF8zNjJiMDBmNmI0YjI0YTBhYTM1MWZlOWJjZTNkZDhlNCA9ICQoJzxkaXYgaWQ9Imh0bWxfMzYyYjAwZjZiNGIyNGEwYWEzNTFmZTliY2UzZGQ4ZTQiIHN0eWxlPSJ3aWR0aDogMTAwLjAlOyBoZWlnaHQ6IDEwMC4wJTsiPkhvdGVsIE1hZGh1YmFuPC9kaXY+JylbMF07CiAgICAgICAgICAgICAgICBwb3B1cF82NzhmMGFjZTc3YzY0NTA4YTM1NzYwODhhNzM3ODIwMi5zZXRDb250ZW50KGh0bWxfMzYyYjAwZjZiNGIyNGEwYWEzNTFmZTliY2UzZGQ4ZTQpOwogICAgICAgICAgICAKCiAgICAgICAgICAgIGNpcmNsZV9tYXJrZXJfNDk5YWU2ZGM0OTQ4NDVhZTliMzg4YTExZDM4MGU0ODUuYmluZFBvcHVwKHBvcHVwXzY3OGYwYWNlNzdjNjQ1MDhhMzU3NjA4OGE3Mzc4MjAyKTsKCiAgICAgICAgICAgIAogICAgICAgIAogICAgCiAgICAgICAgICAgIHZhciBjaXJjbGVfbWFya2VyX2VmN2Q3MmZmMmZkNjQzNzNiZDFkNjkzOTIzNmE2ODkzID0gTC5jaXJjbGVNYXJrZXIoCiAgICAgICAgICAgICAgICBbMTguNTIyNDM5OTYxMTYxNjQsNzMuODQ3NjY5NjY0OTMyNzddLAogICAgICAgICAgICAgICAgewogICJidWJibGluZ01vdXNlRXZlbnRzIjogdHJ1ZSwKICAiY29sb3IiOiAiYmx1ZSIsCiAgImRhc2hBcnJheSI6IG51bGwsCiAgImRhc2hPZmZzZXQiOiBudWxsLAogICJmaWxsIjogdHJ1ZSwKICAiZmlsbENvbG9yIjogImJsdWUiLAogICJmaWxsT3BhY2l0eSI6IDAuNiwKICAiZmlsbFJ1bGUiOiAiZXZlbm9kZCIsCiAgImxpbmVDYXAiOiAicm91bmQiLAogICJsaW5lSm9pbiI6ICJyb3VuZCIsCiAgIm9wYWNpdHkiOiAxLjAsCiAgInJhZGl1cyI6IDUsCiAgInN0cm9rZSI6IHRydWUsCiAgIndlaWdodCI6IDMKfQogICAgICAgICAgICAgICAgKS5hZGRUbyhtYXBfYTIwMzM4YmExOTVjNDZmMTlhMzRmYTY1YzZjZjkwN2MpOwogICAgICAgICAgICAKICAgIAogICAgICAgICAgICB2YXIgcG9wdXBfMzlhNmZkZmY4OTFhNDhmZGIxMDQ3MmE5NDE1OWFjODAgPSBMLnBvcHVwKHttYXhXaWR0aDogJzMwMCd9KTsKCiAgICAgICAgICAgIAogICAgICAgICAgICAgICAgdmFyIGh0bWxfMDUyZGUxMmJmOTQ4NDQ2ZWJiNjIxMWU1ZjFkMTg4OWUgPSAkKCc8ZGl2IGlkPSJodG1sXzA1MmRlMTJiZjk0ODQ0NmViYjYyMTFlNWYxZDE4ODllIiBzdHlsZT0id2lkdGg6IDEwMC4wJTsgaGVpZ2h0OiAxMDAuMCU7Ij5Ib3RlbCBQZWFybCAoTWF5dXIgQmFyICYgUmVzdGF1cmFudCk8L2Rpdj4nKVswXTsKICAgICAgICAgICAgICAgIHBvcHVwXzM5YTZmZGZmODkxYTQ4ZmRiMTA0NzJhOTQxNTlhYzgwLnNldENvbnRlbnQoaHRtbF8wNTJkZTEyYmY5NDg0NDZlYmI2MjExZTVmMWQxODg5ZSk7CiAgICAgICAgICAgIAoKICAgICAgICAgICAgY2lyY2xlX21hcmtlcl9lZjdkNzJmZjJmZDY0MzczYmQxZDY5MzkyMzZhNjg5My5iaW5kUG9wdXAocG9wdXBfMzlhNmZkZmY4OTFhNDhmZGIxMDQ3MmE5NDE1OWFjODApOwoKICAgICAgICAgICAgCiAgICAgICAgCiAgICAKICAgICAgICAgICAgdmFyIGNpcmNsZV9tYXJrZXJfNDU3NTQ5NDkxODU2NGNlZTk2MjBhYjI4Njg5ZWExOWMgPSBMLmNpcmNsZU1hcmtlcigKICAgICAgICAgICAgICAgIFsxOC41MjU4NDY0ODEzMjMyNDIsNzMuODQ5MDQ0Nzk5ODA0NjldLAogICAgICAgICAgICAgICAgewogICJidWJibGluZ01vdXNlRXZlbnRzIjogdHJ1ZSwKICAiY29sb3IiOiAiYmx1ZSIsCiAgImRhc2hBcnJheSI6IG51bGwsCiAgImRhc2hPZmZzZXQiOiBudWxsLAogICJmaWxsIjogdHJ1ZSwKICAiZmlsbENvbG9yIjogImJsdWUiLAogICJmaWxsT3BhY2l0eSI6IDAuNiwKICAiZmlsbFJ1bGUiOiAiZXZlbm9kZCIsCiAgImxpbmVDYXAiOiAicm91bmQiLAogICJsaW5lSm9pbiI6ICJyb3VuZCIsCiAgIm9wYWNpdHkiOiAxLjAsCiAgInJhZGl1cyI6IDUsCiAgInN0cm9rZSI6IHRydWUsCiAgIndlaWdodCI6IDMKfQogICAgICAgICAgICAgICAgKS5hZGRUbyhtYXBfYTIwMzM4YmExOTVjNDZmMTlhMzRmYTY1YzZjZjkwN2MpOwogICAgICAgICAgICAKICAgIAogICAgICAgICAgICB2YXIgcG9wdXBfZGM0Y2UwYTUxMDY4NDZhNjhlYWI1ZjE5MTQ0MjZmYzIgPSBMLnBvcHVwKHttYXhXaWR0aDogJzMwMCd9KTsKCiAgICAgICAgICAgIAogICAgICAgICAgICAgICAgdmFyIGh0bWxfNDcxZGI5ZjA0Y2M1NDI4Mzk4YjYyNDVmYjA5NTk0OGYgPSAkKCc8ZGl2IGlkPSJodG1sXzQ3MWRiOWYwNGNjNTQyODM5OGI2MjQ1ZmIwOTU5NDhmIiBzdHlsZT0id2lkdGg6IDEwMC4wJTsgaGVpZ2h0OiAxMDAuMCU7Ij5Ib3RlbCBCaG9vc2hhbjwvZGl2PicpWzBdOwogICAgICAgICAgICAgICAgcG9wdXBfZGM0Y2UwYTUxMDY4NDZhNjhlYWI1ZjE5MTQ0MjZmYzIuc2V0Q29udGVudChodG1sXzQ3MWRiOWYwNGNjNTQyODM5OGI2MjQ1ZmIwOTU5NDhmKTsKICAgICAgICAgICAgCgogICAgICAgICAgICBjaXJjbGVfbWFya2VyXzQ1NzU0OTQ5MTg1NjRjZWU5NjIwYWIyODY4OWVhMTljLmJpbmRQb3B1cChwb3B1cF9kYzRjZTBhNTEwNjg0NmE2OGVhYjVmMTkxNDQyNmZjMik7CgogICAgICAgICAgICAKICAgICAgICAKICAgIAogICAgICAgICAgICB2YXIgY2lyY2xlX21hcmtlcl80MTVkNmRjYjI4NGI0ZjlkYmNkODkxZTA1NzQ1YzcxMCA9IEwuY2lyY2xlTWFya2VyKAogICAgICAgICAgICAgICAgWzE4LjUyMTY3OCw3My44NDY5NjVdLAogICAgICAgICAgICAgICAgewogICJidWJibGluZ01vdXNlRXZlbnRzIjogdHJ1ZSwKICAiY29sb3IiOiAiYmx1ZSIsCiAgImRhc2hBcnJheSI6IG51bGwsCiAgImRhc2hPZmZzZXQiOiBudWxsLAogICJmaWxsIjogdHJ1ZSwKICAiZmlsbENvbG9yIjogImJsdWUiLAogICJmaWxsT3BhY2l0eSI6IDAuNiwKICAiZmlsbFJ1bGUiOiAiZXZlbm9kZCIsCiAgImxpbmVDYXAiOiAicm91bmQiLAogICJsaW5lSm9pbiI6ICJyb3VuZCIsCiAgIm9wYWNpdHkiOiAxLjAsCiAgInJhZGl1cyI6IDUsCiAgInN0cm9rZSI6IHRydWUsCiAgIndlaWdodCI6IDMKfQogICAgICAgICAgICAgICAgKS5hZGRUbyhtYXBfYTIwMzM4YmExOTVjNDZmMTlhMzRmYTY1YzZjZjkwN2MpOwogICAgICAgICAgICAKICAgIAogICAgICAgICAgICB2YXIgcG9wdXBfYjhkZDI2NmM1YzBhNDViZmJkMWE3MDU1YmIwMDMyYzkgPSBMLnBvcHVwKHttYXhXaWR0aDogJzMwMCd9KTsKCiAgICAgICAgICAgIAogICAgICAgICAgICAgICAgdmFyIGh0bWxfZmRmMTE5MDQxYWU1NGQzN2E1OTYzNDczOGZmMTNmNDMgPSAkKCc8ZGl2IGlkPSJodG1sX2ZkZjExOTA0MWFlNTRkMzdhNTk2MzQ3MzhmZjEzZjQzIiBzdHlsZT0id2lkdGg6IDEwMC4wJTsgaGVpZ2h0OiAxMDAuMCU7Ij5ob3RlbCByZXNpcmVuY2U8L2Rpdj4nKVswXTsKICAgICAgICAgICAgICAgIHBvcHVwX2I4ZGQyNjZjNWMwYTQ1YmZiZDFhNzA1NWJiMDAzMmM5LnNldENvbnRlbnQoaHRtbF9mZGYxMTkwNDFhZTU0ZDM3YTU5NjM0NzM4ZmYxM2Y0Myk7CiAgICAgICAgICAgIAoKICAgICAgICAgICAgY2lyY2xlX21hcmtlcl80MTVkNmRjYjI4NGI0ZjlkYmNkODkxZTA1NzQ1YzcxMC5iaW5kUG9wdXAocG9wdXBfYjhkZDI2NmM1YzBhNDViZmJkMWE3MDU1YmIwMDMyYzkpOwoKICAgICAgICAgICAgCiAgICAgICAgCiAgICAKICAgICAgICAgICAgdmFyIGNpcmNsZV9tYXJrZXJfMTA4ZjEzMDA2ZGM4NGEyOWIxNTFhZmFiZjVkYTBmNGIgPSBMLmNpcmNsZU1hcmtlcigKICAgICAgICAgICAgICAgIFsxOC41MjE0NTk1Nzk0Njc3NzMsNzMuODQ2MjYwMDcwODAwNzhdLAogICAgICAgICAgICAgICAgewogICJidWJibGluZ01vdXNlRXZlbnRzIjogdHJ1ZSwKICAiY29sb3IiOiAiYmx1ZSIsCiAgImRhc2hBcnJheSI6IG51bGwsCiAgImRhc2hPZmZzZXQiOiBudWxsLAogICJmaWxsIjogdHJ1ZSwKICAiZmlsbENvbG9yIjogImJsdWUiLAogICJmaWxsT3BhY2l0eSI6IDAuNiwKICAiZmlsbFJ1bGUiOiAiZXZlbm9kZCIsCiAgImxpbmVDYXAiOiAicm91bmQiLAogICJsaW5lSm9pbiI6ICJyb3VuZCIsCiAgIm9wYWNpdHkiOiAxLjAsCiAgInJhZGl1cyI6IDUsCiAgInN0cm9rZSI6IHRydWUsCiAgIndlaWdodCI6IDMKfQogICAgICAgICAgICAgICAgKS5hZGRUbyhtYXBfYTIwMzM4YmExOTVjNDZmMTlhMzRmYTY1YzZjZjkwN2MpOwogICAgICAgICAgICAKICAgIAogICAgICAgICAgICB2YXIgcG9wdXBfZmY1ODNiM2MwMGI4NDA2MWI2NTM5YzQ3NDc5NjcwYTEgPSBMLnBvcHVwKHttYXhXaWR0aDogJzMwMCd9KTsKCiAgICAgICAgICAgIAogICAgICAgICAgICAgICAgdmFyIGh0bWxfYTc2MjE3MWZlOTM3NGZjYjliM2I0NzkxNWRjOWU5YTggPSAkKCc8ZGl2IGlkPSJodG1sX2E3NjIxNzFmZTkzNzRmY2I5YjNiNDc5MTVkYzllOWE4IiBzdHlsZT0id2lkdGg6IDEwMC4wJTsgaGVpZ2h0OiAxMDAuMCU7Ij5Ib3RlbCBSZXNpZGVuY2UgS2lzbWV0PC9kaXY+JylbMF07CiAgICAgICAgICAgICAgICBwb3B1cF9mZjU4M2IzYzAwYjg0MDYxYjY1MzljNDc0Nzk2NzBhMS5zZXRDb250ZW50KGh0bWxfYTc2MjE3MWZlOTM3NGZjYjliM2I0NzkxNWRjOWU5YTgpOwogICAgICAgICAgICAKCiAgICAgICAgICAgIGNpcmNsZV9tYXJrZXJfMTA4ZjEzMDA2ZGM4NGEyOWIxNTFhZmFiZjVkYTBmNGIuYmluZFBvcHVwKHBvcHVwX2ZmNTgzYjNjMDBiODQwNjFiNjUzOWM0NzQ3OTY3MGExKTsKCiAgICAgICAgICAgIAogICAgICAgIAogICAgCiAgICAgICAgICAgIHZhciBjaXJjbGVfbWFya2VyXzNmZTM0ZGE5M2QxODQ1ZWI4MDQ5ZjVjMWQzZTk2ZDUzID0gTC5jaXJjbGVNYXJrZXIoCiAgICAgICAgICAgICAgICBbMTguNTIxOTE5NzE3NDM2NTIsNzMuODQ1ODA4ODc5MTMzNzZdLAogICAgICAgICAgICAgICAgewogICJidWJibGluZ01vdXNlRXZlbnRzIjogdHJ1ZSwKICAiY29sb3IiOiAiYmx1ZSIsCiAgImRhc2hBcnJheSI6IG51bGwsCiAgImRhc2hPZmZzZXQiOiBudWxsLAogICJmaWxsIjogdHJ1ZSwKICAiZmlsbENvbG9yIjogImJsdWUiLAogICJmaWxsT3BhY2l0eSI6IDAuNiwKICAiZmlsbFJ1bGUiOiAiZXZlbm9kZCIsCiAgImxpbmVDYXAiOiAicm91bmQiLAogICJsaW5lSm9pbiI6ICJyb3VuZCIsCiAgIm9wYWNpdHkiOiAxLjAsCiAgInJhZGl1cyI6IDUsCiAgInN0cm9rZSI6IHRydWUsCiAgIndlaWdodCI6IDMKfQogICAgICAgICAgICAgICAgKS5hZGRUbyhtYXBfYTIwMzM4YmExOTVjNDZmMTlhMzRmYTY1YzZjZjkwN2MpOwogICAgICAgICAgICAKICAgIAogICAgICAgICAgICB2YXIgcG9wdXBfMjdmMjgxNmRkMGNiNGEwYzhjODY1OWRhNWE1ZDk5ODUgPSBMLnBvcHVwKHttYXhXaWR0aDogJzMwMCd9KTsKCiAgICAgICAgICAgIAogICAgICAgICAgICAgICAgdmFyIGh0bWxfNTZkN2YxZmYwYTc3NDRlOWE5YmQ5YzViNjMyMGU2MzggPSAkKCc8ZGl2IGlkPSJodG1sXzU2ZDdmMWZmMGE3NzQ0ZTlhOWJkOWM1YjYzMjBlNjM4IiBzdHlsZT0id2lkdGg6IDEwMC4wJTsgaGVpZ2h0OiAxMDAuMCU7Ij5Ib3RlbCBUYXJhd2FkZSBDbGFya3MgSW5uPC9kaXY+JylbMF07CiAgICAgICAgICAgICAgICBwb3B1cF8yN2YyODE2ZGQwY2I0YTBjOGM4NjU5ZGE1YTVkOTk4NS5zZXRDb250ZW50KGh0bWxfNTZkN2YxZmYwYTc3NDRlOWE5YmQ5YzViNjMyMGU2MzgpOwogICAgICAgICAgICAKCiAgICAgICAgICAgIGNpcmNsZV9tYXJrZXJfM2ZlMzRkYTkzZDE4NDVlYjgwNDlmNWMxZDNlOTZkNTMuYmluZFBvcHVwKHBvcHVwXzI3ZjI4MTZkZDBjYjRhMGM4Yzg2NTlkYTVhNWQ5OTg1KTsKCiAgICAgICAgICAgIAogICAgICAgIAogICAgCiAgICAgICAgICAgIHZhciBjaXJjbGVfbWFya2VyXzlmNmNlZTU0OTlkMDQ5OTJiMmQxNjJkYTAyODZmMGIxID0gTC5jaXJjbGVNYXJrZXIoCiAgICAgICAgICAgICAgICBbMTguNTEzMzI2NjQ0ODk3NDYsNzMuODQ5ODY4Nzc0NDE0MDZdLAogICAgICAgICAgICAgICAgewogICJidWJibGluZ01vdXNlRXZlbnRzIjogdHJ1ZSwKICAiY29sb3IiOiAiYmx1ZSIsCiAgImRhc2hBcnJheSI6IG51bGwsCiAgImRhc2hPZmZzZXQiOiBudWxsLAogICJmaWxsIjogdHJ1ZSwKICAiZmlsbENvbG9yIjogImJsdWUiLAogICJmaWxsT3BhY2l0eSI6IDAuNiwKICAiZmlsbFJ1bGUiOiAiZXZlbm9kZCIsCiAgImxpbmVDYXAiOiAicm91bmQiLAogICJsaW5lSm9pbiI6ICJyb3VuZCIsCiAgIm9wYWNpdHkiOiAxLjAsCiAgInJhZGl1cyI6IDUsCiAgInN0cm9rZSI6IHRydWUsCiAgIndlaWdodCI6IDMKfQogICAgICAgICAgICAgICAgKS5hZGRUbyhtYXBfYTIwMzM4YmExOTVjNDZmMTlhMzRmYTY1YzZjZjkwN2MpOwogICAgICAgICAgICAKICAgIAogICAgICAgICAgICB2YXIgcG9wdXBfMGE5YzIyZTIwYWQzNDYxODg1NjQxMTA2NTFhYWVhYTggPSBMLnBvcHVwKHttYXhXaWR0aDogJzMwMCd9KTsKCiAgICAgICAgICAgIAogICAgICAgICAgICAgICAgdmFyIGh0bWxfZGJlNTI4MDk4MjBkNDc5NmIxNjM4YjJhZDdlMzg2MGEgPSAkKCc8ZGl2IGlkPSJodG1sX2RiZTUyODA5ODIwZDQ3OTZiMTYzOGIyYWQ3ZTM4NjBhIiBzdHlsZT0id2lkdGg6IDEwMC4wJTsgaGVpZ2h0OiAxMDAuMCU7Ij5Ib3RlbCBUYXBhc3lhPC9kaXY+JylbMF07CiAgICAgICAgICAgICAgICBwb3B1cF8wYTljMjJlMjBhZDM0NjE4ODU2NDExMDY1MWFhZWFhOC5zZXRDb250ZW50KGh0bWxfZGJlNTI4MDk4MjBkNDc5NmIxNjM4YjJhZDdlMzg2MGEpOwogICAgICAgICAgICAKCiAgICAgICAgICAgIGNpcmNsZV9tYXJrZXJfOWY2Y2VlNTQ5OWQwNDk5MmIyZDE2MmRhMDI4NmYwYjEuYmluZFBvcHVwKHBvcHVwXzBhOWMyMmUyMGFkMzQ2MTg4NTY0MTEwNjUxYWFlYWE4KTsKCiAgICAgICAgICAgIAogICAgICAgIAogICAgCiAgICAgICAgICAgIHZhciBjaXJjbGVfbWFya2VyXzdhNzQ3MGE5YTQzMjRiYzM5NDAxMzhjYWQ4OGE4ZDcyID0gTC5jaXJjbGVNYXJrZXIoCiAgICAgICAgICAgICAgICBbMTguNTE5OTcyOTM1ODE0MjQsNzMuODQ2MDg0NTUyMjEyMjZdLAogICAgICAgICAgICAgICAgewogICJidWJibGluZ01vdXNlRXZlbnRzIjogdHJ1ZSwKICAiY29sb3IiOiAiYmx1ZSIsCiAgImRhc2hBcnJheSI6IG51bGwsCiAgImRhc2hPZmZzZXQiOiBudWxsLAogICJmaWxsIjogdHJ1ZSwKICAiZmlsbENvbG9yIjogImJsdWUiLAogICJmaWxsT3BhY2l0eSI6IDAuNiwKICAiZmlsbFJ1bGUiOiAiZXZlbm9kZCIsCiAgImxpbmVDYXAiOiAicm91bmQiLAogICJsaW5lSm9pbiI6ICJyb3VuZCIsCiAgIm9wYWNpdHkiOiAxLjAsCiAgInJhZGl1cyI6IDUsCiAgInN0cm9rZSI6IHRydWUsCiAgIndlaWdodCI6IDMKfQogICAgICAgICAgICAgICAgKS5hZGRUbyhtYXBfYTIwMzM4YmExOTVjNDZmMTlhMzRmYTY1YzZjZjkwN2MpOwogICAgICAgICAgICAKICAgIAogICAgICAgICAgICB2YXIgcG9wdXBfMDBiM2I1NzAwMDg4NGJlNzljNjcyYjQwZjRkMWJhZmEgPSBMLnBvcHVwKHttYXhXaWR0aDogJzMwMCd9KTsKCiAgICAgICAgICAgIAogICAgICAgICAgICAgICAgdmFyIGh0bWxfOGUxZjI4OWEzZWI5NDMzMzllOTYzMWZiNmQ5ZGRhOWQgPSAkKCc8ZGl2IGlkPSJodG1sXzhlMWYyODlhM2ViOTQzMzM5ZTk2MzFmYjZkOWRkYTlkIiBzdHlsZT0id2lkdGg6IDEwMC4wJTsgaGVpZ2h0OiAxMDAuMCU7Ij5Ib3RlbCBTYXBuYTwvZGl2PicpWzBdOwogICAgICAgICAgICAgICAgcG9wdXBfMDBiM2I1NzAwMDg4NGJlNzljNjcyYjQwZjRkMWJhZmEuc2V0Q29udGVudChodG1sXzhlMWYyODlhM2ViOTQzMzM5ZTk2MzFmYjZkOWRkYTlkKTsKICAgICAgICAgICAgCgogICAgICAgICAgICBjaXJjbGVfbWFya2VyXzdhNzQ3MGE5YTQzMjRiYzM5NDAxMzhjYWQ4OGE4ZDcyLmJpbmRQb3B1cChwb3B1cF8wMGIzYjU3MDAwODg0YmU3OWM2NzJiNDBmNGQxYmFmYSk7CgogICAgICAgICAgICAKICAgICAgICAKICAgIAogICAgICAgICAgICB2YXIgY2lyY2xlX21hcmtlcl9lNWZlNjc0MjIwN2I0ZjRiODkyMDIwMjg1MjdjZDMyYyA9IEwuY2lyY2xlTWFya2VyKAogICAgICAgICAgICAgICAgWzE4LjUyNzMxNyw3My44NDc0MzFdLAogICAgICAgICAgICAgICAgewogICJidWJibGluZ01vdXNlRXZlbnRzIjogdHJ1ZSwKICAiY29sb3IiOiAiYmx1ZSIsCiAgImRhc2hBcnJheSI6IG51bGwsCiAgImRhc2hPZmZzZXQiOiBudWxsLAogICJmaWxsIjogdHJ1ZSwKICAiZmlsbENvbG9yIjogImJsdWUiLAogICJmaWxsT3BhY2l0eSI6IDAuNiwKICAiZmlsbFJ1bGUiOiAiZXZlbm9kZCIsCiAgImxpbmVDYXAiOiAicm91bmQiLAogICJsaW5lSm9pbiI6ICJyb3VuZCIsCiAgIm9wYWNpdHkiOiAxLjAsCiAgInJhZGl1cyI6IDUsCiAgInN0cm9rZSI6IHRydWUsCiAgIndlaWdodCI6IDMKfQogICAgICAgICAgICAgICAgKS5hZGRUbyhtYXBfYTIwMzM4YmExOTVjNDZmMTlhMzRmYTY1YzZjZjkwN2MpOwogICAgICAgICAgICAKICAgIAogICAgICAgICAgICB2YXIgcG9wdXBfMTVmZmUyYWI1ZGFjNGUxNTk5NzUwNjNiYmNkM2Q1ODUgPSBMLnBvcHVwKHttYXhXaWR0aDogJzMwMCd9KTsKCiAgICAgICAgICAgIAogICAgICAgICAgICAgICAgdmFyIGh0bWxfY2MyOGM3NTFmNDdmNGMxYjkzZDYzYWRhYmYyMDBmYzQgPSAkKCc8ZGl2IGlkPSJodG1sX2NjMjhjNzUxZjQ3ZjRjMWI5M2Q2M2FkYWJmMjAwZmM0IiBzdHlsZT0id2lkdGg6IDEwMC4wJTsgaGVpZ2h0OiAxMDAuMCU7Ij5Ib3RlbCBTaHJhdmFuPC9kaXY+JylbMF07CiAgICAgICAgICAgICAgICBwb3B1cF8xNWZmZTJhYjVkYWM0ZTE1OTk3NTA2M2JiY2QzZDU4NS5zZXRDb250ZW50KGh0bWxfY2MyOGM3NTFmNDdmNGMxYjkzZDYzYWRhYmYyMDBmYzQpOwogICAgICAgICAgICAKCiAgICAgICAgICAgIGNpcmNsZV9tYXJrZXJfZTVmZTY3NDIyMDdiNGY0Yjg5MjAyMDI4NTI3Y2QzMmMuYmluZFBvcHVwKHBvcHVwXzE1ZmZlMmFiNWRhYzRlMTU5OTc1MDYzYmJjZDNkNTg1KTsKCiAgICAgICAgICAgIAogICAgICAgIAogICAgCiAgICAgICAgICAgIHZhciBjaXJjbGVfbWFya2VyXzc3YTRlNGJiZGU0YzQzNzNiMTMxYjExMWMzYWEwOGJiID0gTC5jaXJjbGVNYXJrZXIoCiAgICAgICAgICAgICAgICBbMTguNTE4MjkyLDczLjg0NTEwMl0sCiAgICAgICAgICAgICAgICB7CiAgImJ1YmJsaW5nTW91c2VFdmVudHMiOiB0cnVlLAogICJjb2xvciI6ICJibHVlIiwKICAiZGFzaEFycmF5IjogbnVsbCwKICAiZGFzaE9mZnNldCI6IG51bGwsCiAgImZpbGwiOiB0cnVlLAogICJmaWxsQ29sb3IiOiAiYmx1ZSIsCiAgImZpbGxPcGFjaXR5IjogMC42LAogICJmaWxsUnVsZSI6ICJldmVub2RkIiwKICAibGluZUNhcCI6ICJyb3VuZCIsCiAgImxpbmVKb2luIjogInJvdW5kIiwKICAib3BhY2l0eSI6IDEuMCwKICAicmFkaXVzIjogNSwKICAic3Ryb2tlIjogdHJ1ZSwKICAid2VpZ2h0IjogMwp9CiAgICAgICAgICAgICAgICApLmFkZFRvKG1hcF9hMjAzMzhiYTE5NWM0NmYxOWEzNGZhNjVjNmNmOTA3Yyk7CiAgICAgICAgICAgIAogICAgCiAgICAgICAgICAgIHZhciBwb3B1cF8xNzhlNGZkYTNkMGM0ZjQwODczMGQ0NWY2MzNmMmE1ZSA9IEwucG9wdXAoe21heFdpZHRoOiAnMzAwJ30pOwoKICAgICAgICAgICAgCiAgICAgICAgICAgICAgICB2YXIgaHRtbF8zZmJhNTE4NTU3Yjk0YjQwODVlMjc1ZDZjZjJmZGYwZiA9ICQoJzxkaXYgaWQ9Imh0bWxfM2ZiYTUxODU1N2I5NGI0MDg1ZTI3NWQ2Y2YyZmRmMGYiIHN0eWxlPSJ3aWR0aDogMTAwLjAlOyBoZWlnaHQ6IDEwMC4wJTsiPkhvdGVsIFN0YXl3ZWw8L2Rpdj4nKVswXTsKICAgICAgICAgICAgICAgIHBvcHVwXzE3OGU0ZmRhM2QwYzRmNDA4NzMwZDQ1ZjYzM2YyYTVlLnNldENvbnRlbnQoaHRtbF8zZmJhNTE4NTU3Yjk0YjQwODVlMjc1ZDZjZjJmZGYwZik7CiAgICAgICAgICAgIAoKICAgICAgICAgICAgY2lyY2xlX21hcmtlcl83N2E0ZTRiYmRlNGM0MzczYjEzMWIxMTFjM2FhMDhiYi5iaW5kUG9wdXAocG9wdXBfMTc4ZTRmZGEzZDBjNGY0MDg3MzBkNDVmNjMzZjJhNWUpOwoKICAgICAgICAgICAgCiAgICAgICAgCiAgICAKICAgICAgICAgICAgdmFyIGNpcmNsZV9tYXJrZXJfODQ4YmYxY2RkM2I5NGY5NDhjYzhjN2M0Mjk3ZjlkMzIgPSBMLmNpcmNsZU1hcmtlcigKICAgICAgICAgICAgICAgIFsxOC41MTQwMDI1NDI5NDI4LDczLjg0ODA1Mjg5MDk3MTNdLAogICAgICAgICAgICAgICAgewogICJidWJibGluZ01vdXNlRXZlbnRzIjogdHJ1ZSwKICAiY29sb3IiOiAiYmx1ZSIsCiAgImRhc2hBcnJheSI6IG51bGwsCiAgImRhc2hPZmZzZXQiOiBudWxsLAogICJmaWxsIjogdHJ1ZSwKICAiZmlsbENvbG9yIjogImJsdWUiLAogICJmaWxsT3BhY2l0eSI6IDAuNiwKICAiZmlsbFJ1bGUiOiAiZXZlbm9kZCIsCiAgImxpbmVDYXAiOiAicm91bmQiLAogICJsaW5lSm9pbiI6ICJyb3VuZCIsCiAgIm9wYWNpdHkiOiAxLjAsCiAgInJhZGl1cyI6IDUsCiAgInN0cm9rZSI6IHRydWUsCiAgIndlaWdodCI6IDMKfQogICAgICAgICAgICAgICAgKS5hZGRUbyhtYXBfYTIwMzM4YmExOTVjNDZmMTlhMzRmYTY1YzZjZjkwN2MpOwogICAgICAgICAgICAKICAgIAogICAgICAgICAgICB2YXIgcG9wdXBfNDk5YjJiMTAxNjhjNGE0MDlmNTUzZmRjMzZlNzM2ZjcgPSBMLnBvcHVwKHttYXhXaWR0aDogJzMwMCd9KTsKCiAgICAgICAgICAgIAogICAgICAgICAgICAgICAgdmFyIGh0bWxfZmE2MWEwODRlNjg3NDY2M2JiN2M2ZWQxYzY3OGQ0NWEgPSAkKCc8ZGl2IGlkPSJodG1sX2ZhNjFhMDg0ZTY4NzQ2NjNiYjdjNmVkMWM2NzhkNDVhIiBzdHlsZT0id2lkdGg6IDEwMC4wJTsgaGVpZ2h0OiAxMDAuMCU7Ij5Ib3RlbCBLaGFuZGVzaCBKdW5jdGlvbjwvZGl2PicpWzBdOwogICAgICAgICAgICAgICAgcG9wdXBfNDk5YjJiMTAxNjhjNGE0MDlmNTUzZmRjMzZlNzM2Zjcuc2V0Q29udGVudChodG1sX2ZhNjFhMDg0ZTY4NzQ2NjNiYjdjNmVkMWM2NzhkNDVhKTsKICAgICAgICAgICAgCgogICAgICAgICAgICBjaXJjbGVfbWFya2VyXzg0OGJmMWNkZDNiOTRmOTQ4Y2M4YzdjNDI5N2Y5ZDMyLmJpbmRQb3B1cChwb3B1cF80OTliMmIxMDE2OGM0YTQwOWY1NTNmZGMzNmU3MzZmNyk7CgogICAgICAgICAgICAKICAgICAgICAKICAgIAogICAgICAgICAgICB2YXIgY2lyY2xlX21hcmtlcl9hZWMyMmI5ZjI0NWI0N2IzYjA1MTZiYWMyZmQ2MjBkNyA9IEwuY2lyY2xlTWFya2VyKAogICAgICAgICAgICAgICAgWzE4LjUxNTc2MzA4ODQ4OTk5LDczLjg0NjAyNzEyMDM1MjddLAogICAgICAgICAgICAgICAgewogICJidWJibGluZ01vdXNlRXZlbnRzIjogdHJ1ZSwKICAiY29sb3IiOiAiYmx1ZSIsCiAgImRhc2hBcnJheSI6IG51bGwsCiAgImRhc2hPZmZzZXQiOiBudWxsLAogICJmaWxsIjogdHJ1ZSwKICAiZmlsbENvbG9yIjogImJsdWUiLAogICJmaWxsT3BhY2l0eSI6IDAuNiwKICAiZmlsbFJ1bGUiOiAiZXZlbm9kZCIsCiAgImxpbmVDYXAiOiAicm91bmQiLAogICJsaW5lSm9pbiI6ICJyb3VuZCIsCiAgIm9wYWNpdHkiOiAxLjAsCiAgInJhZGl1cyI6IDUsCiAgInN0cm9rZSI6IHRydWUsCiAgIndlaWdodCI6IDMKfQogICAgICAgICAgICAgICAgKS5hZGRUbyhtYXBfYTIwMzM4YmExOTVjNDZmMTlhMzRmYTY1YzZjZjkwN2MpOwogICAgICAgICAgICAKICAgIAogICAgICAgICAgICB2YXIgcG9wdXBfOWIwYjA0YzFlYzFjNDMwOThkODJjYTAxYTMxZDY3ODggPSBMLnBvcHVwKHttYXhXaWR0aDogJzMwMCd9KTsKCiAgICAgICAgICAgIAogICAgICAgICAgICAgICAgdmFyIGh0bWxfNDkwNDkzNTIwMjM1NDg3NzhmNGMwNDRjYTgyYjRhYjMgPSAkKCc8ZGl2IGlkPSJodG1sXzQ5MDQ5MzUyMDIzNTQ4Nzc4ZjRjMDQ0Y2E4MmI0YWIzIiBzdHlsZT0id2lkdGg6IDEwMC4wJTsgaGVpZ2h0OiAxMDAuMCU7Ij5Ib3RlbCBLaGFuZGVzaDwvZGl2PicpWzBdOwogICAgICAgICAgICAgICAgcG9wdXBfOWIwYjA0YzFlYzFjNDMwOThkODJjYTAxYTMxZDY3ODguc2V0Q29udGVudChodG1sXzQ5MDQ5MzUyMDIzNTQ4Nzc4ZjRjMDQ0Y2E4MmI0YWIzKTsKICAgICAgICAgICAgCgogICAgICAgICAgICBjaXJjbGVfbWFya2VyX2FlYzIyYjlmMjQ1YjQ3YjNiMDUxNmJhYzJmZDYyMGQ3LmJpbmRQb3B1cChwb3B1cF85YjBiMDRjMWVjMWM0MzA5OGQ4MmNhMDFhMzFkNjc4OCk7CgogICAgICAgICAgICAKICAgICAgICAKICAgIAogICAgICAgICAgICB2YXIgY2lyY2xlX21hcmtlcl9iZWVmZTViYjlkNGE0YjgzYWFiZDc4OTEwZWUyMzlkNCA9IEwuY2lyY2xlTWFya2VyKAogICAgICAgICAgICAgICAgWzE4LjUxODMxODEsNzMuODY0MzY4N10sCiAgICAgICAgICAgICAgICB7CiAgImJ1YmJsaW5nTW91c2VFdmVudHMiOiB0cnVlLAogICJjb2xvciI6ICJibHVlIiwKICAiZGFzaEFycmF5IjogbnVsbCwKICAiZGFzaE9mZnNldCI6IG51bGwsCiAgImZpbGwiOiB0cnVlLAogICJmaWxsQ29sb3IiOiAiYmx1ZSIsCiAgImZpbGxPcGFjaXR5IjogMC42LAogICJmaWxsUnVsZSI6ICJldmVub2RkIiwKICAibGluZUNhcCI6ICJyb3VuZCIsCiAgImxpbmVKb2luIjogInJvdW5kIiwKICAib3BhY2l0eSI6IDEuMCwKICAicmFkaXVzIjogNSwKICAic3Ryb2tlIjogdHJ1ZSwKICAid2VpZ2h0IjogMwp9CiAgICAgICAgICAgICAgICApLmFkZFRvKG1hcF9hMjAzMzhiYTE5NWM0NmYxOWEzNGZhNjVjNmNmOTA3Yyk7CiAgICAgICAgICAgIAogICAgCiAgICAgICAgICAgIHZhciBwb3B1cF84MzNkYzQ4YzNiMDg0NDkwOTEwZDBmZTU1ODA4YThhYSA9IEwucG9wdXAoe21heFdpZHRoOiAnMzAwJ30pOwoKICAgICAgICAgICAgCiAgICAgICAgICAgICAgICB2YXIgaHRtbF9jYmMxYTY4ZDY2MjI0OGFjYjVjMDExNTM1MDI3NDk1NyA9ICQoJzxkaXYgaWQ9Imh0bWxfY2JjMWE2OGQ2NjIyNDhhY2I1YzAxMTUzNTAyNzQ5NTciIHN0eWxlPSJ3aWR0aDogMTAwLjAlOyBoZWlnaHQ6IDEwMC4wJTsiPkhvdGVsIFZpdmVrIFJhdG5hZ2lyaTwvZGl2PicpWzBdOwogICAgICAgICAgICAgICAgcG9wdXBfODMzZGM0OGMzYjA4NDQ5MDkxMGQwZmU1NTgwOGE4YWEuc2V0Q29udGVudChodG1sX2NiYzFhNjhkNjYyMjQ4YWNiNWMwMTE1MzUwMjc0OTU3KTsKICAgICAgICAgICAgCgogICAgICAgICAgICBjaXJjbGVfbWFya2VyX2JlZWZlNWJiOWQ0YTRiODNhYWJkNzg5MTBlZTIzOWQ0LmJpbmRQb3B1cChwb3B1cF84MzNkYzQ4YzNiMDg0NDkwOTEwZDBmZTU1ODA4YThhYSk7CgogICAgICAgICAgICAKICAgICAgICAKICAgIAogICAgICAgICAgICB2YXIgY2lyY2xlX21hcmtlcl82ZWFjYTEwNWMyNDU0OWY2OGI5ZjI1YWE5NjFhY2NlYSA9IEwuY2lyY2xlTWFya2VyKAogICAgICAgICAgICAgICAgWzE4LjUxMjgxMjM5MTg2MzczNiw3My44NDg5MDQ0MzU5MzY1N10sCiAgICAgICAgICAgICAgICB7CiAgImJ1YmJsaW5nTW91c2VFdmVudHMiOiB0cnVlLAogICJjb2xvciI6ICJibHVlIiwKICAiZGFzaEFycmF5IjogbnVsbCwKICAiZGFzaE9mZnNldCI6IG51bGwsCiAgImZpbGwiOiB0cnVlLAogICJmaWxsQ29sb3IiOiAiYmx1ZSIsCiAgImZpbGxPcGFjaXR5IjogMC42LAogICJmaWxsUnVsZSI6ICJldmVub2RkIiwKICAibGluZUNhcCI6ICJyb3VuZCIsCiAgImxpbmVKb2luIjogInJvdW5kIiwKICAib3BhY2l0eSI6IDEuMCwKICAicmFkaXVzIjogNSwKICAic3Ryb2tlIjogdHJ1ZSwKICAid2VpZ2h0IjogMwp9CiAgICAgICAgICAgICAgICApLmFkZFRvKG1hcF9hMjAzMzhiYTE5NWM0NmYxOWEzNGZhNjVjNmNmOTA3Yyk7CiAgICAgICAgICAgIAogICAgCiAgICAgICAgICAgIHZhciBwb3B1cF80ZTBjODRmMTU4MmE0N2QzOTA3YWIyNDUyZWVjY2IxNSA9IEwucG9wdXAoe21heFdpZHRoOiAnMzAwJ30pOwoKICAgICAgICAgICAgCiAgICAgICAgICAgICAgICB2YXIgaHRtbF9kMzE2MTdmMTA1MmM0OGEwODliY2FkOWQ2MjYwZTNkNiA9ICQoJzxkaXYgaWQ9Imh0bWxfZDMxNjE3ZjEwNTJjNDhhMDg5YmNhZDlkNjI2MGUzZDYiIHN0eWxlPSJ3aWR0aDogMTAwLjAlOyBoZWlnaHQ6IDEwMC4wJTsiPkhvdGVsIExhamphdDwvZGl2PicpWzBdOwogICAgICAgICAgICAgICAgcG9wdXBfNGUwYzg0ZjE1ODJhNDdkMzkwN2FiMjQ1MmVlY2NiMTUuc2V0Q29udGVudChodG1sX2QzMTYxN2YxMDUyYzQ4YTA4OWJjYWQ5ZDYyNjBlM2Q2KTsKICAgICAgICAgICAgCgogICAgICAgICAgICBjaXJjbGVfbWFya2VyXzZlYWNhMTA1YzI0NTQ5ZjY4YjlmMjVhYTk2MWFjY2VhLmJpbmRQb3B1cChwb3B1cF80ZTBjODRmMTU4MmE0N2QzOTA3YWIyNDUyZWVjY2IxNSk7CgogICAgICAgICAgICAKICAgICAgICAKICAgIAogICAgICAgICAgICB2YXIgY2lyY2xlX21hcmtlcl80NDNlMWY3ZjM5YjI0ODNiOWE1NDBkN2ZlMTI5YWZjNCA9IEwuY2lyY2xlTWFya2VyKAogICAgICAgICAgICAgICAgWzE4LjUxNzkwMjQzODU2MDgxNyw3My44NTk1NDAzNzUzNjk3M10sCiAgICAgICAgICAgICAgICB7CiAgImJ1YmJsaW5nTW91c2VFdmVudHMiOiB0cnVlLAogICJjb2xvciI6ICJibHVlIiwKICAiZGFzaEFycmF5IjogbnVsbCwKICAiZGFzaE9mZnNldCI6IG51bGwsCiAgImZpbGwiOiB0cnVlLAogICJmaWxsQ29sb3IiOiAiYmx1ZSIsCiAgImZpbGxPcGFjaXR5IjogMC42LAogICJmaWxsUnVsZSI6ICJldmVub2RkIiwKICAibGluZUNhcCI6ICJyb3VuZCIsCiAgImxpbmVKb2luIjogInJvdW5kIiwKICAib3BhY2l0eSI6IDEuMCwKICAicmFkaXVzIjogNSwKICAic3Ryb2tlIjogdHJ1ZSwKICAid2VpZ2h0IjogMwp9CiAgICAgICAgICAgICAgICApLmFkZFRvKG1hcF9hMjAzMzhiYTE5NWM0NmYxOWEzNGZhNjVjNmNmOTA3Yyk7CiAgICAgICAgICAgIAogICAgCiAgICAgICAgICAgIHZhciBwb3B1cF82N2E5NjIyNzY3NzE0NmEyYjJmZjVjZGNkNDhkNzIwNiA9IEwucG9wdXAoe21heFdpZHRoOiAnMzAwJ30pOwoKICAgICAgICAgICAgCiAgICAgICAgICAgICAgICB2YXIgaHRtbF9kMjU1NDhiZjA4MGI0NjQ5OTcyZTkwNzVhNjk0ZTdiOCA9ICQoJzxkaXYgaWQ9Imh0bWxfZDI1NTQ4YmYwODBiNDY0OTk3MmU5MDc1YTY5NGU3YjgiIHN0eWxlPSJ3aWR0aDogMTAwLjAlOyBoZWlnaHQ6IDEwMC4wJTsiPllhdHJpayBIb3RlbDwvZGl2PicpWzBdOwogICAgICAgICAgICAgICAgcG9wdXBfNjdhOTYyMjc2NzcxNDZhMmIyZmY1Y2RjZDQ4ZDcyMDYuc2V0Q29udGVudChodG1sX2QyNTU0OGJmMDgwYjQ2NDk5NzJlOTA3NWE2OTRlN2I4KTsKICAgICAgICAgICAgCgogICAgICAgICAgICBjaXJjbGVfbWFya2VyXzQ0M2UxZjdmMzliMjQ4M2I5YTU0MGQ3ZmUxMjlhZmM0LmJpbmRQb3B1cChwb3B1cF82N2E5NjIyNzY3NzE0NmEyYjJmZjVjZGNkNDhkNzIwNik7CgogICAgICAgICAgICAKICAgICAgICAKICAgIAogICAgICAgICAgICB2YXIgY2lyY2xlX21hcmtlcl9jMzczNWYzMzA5Yjk0Yzg3OGZiOWI4OWI5ZWZkODczMCA9IEwuY2lyY2xlTWFya2VyKAogICAgICAgICAgICAgICAgWzE4LjUxOTM2ODI2OTQ4MjE2LDczLjg2MjExODg3MjM2NzI5XSwKICAgICAgICAgICAgICAgIHsKICAiYnViYmxpbmdNb3VzZUV2ZW50cyI6IHRydWUsCiAgImNvbG9yIjogImJsdWUiLAogICJkYXNoQXJyYXkiOiBudWxsLAogICJkYXNoT2Zmc2V0IjogbnVsbCwKICAiZmlsbCI6IHRydWUsCiAgImZpbGxDb2xvciI6ICJibHVlIiwKICAiZmlsbE9wYWNpdHkiOiAwLjYsCiAgImZpbGxSdWxlIjogImV2ZW5vZGQiLAogICJsaW5lQ2FwIjogInJvdW5kIiwKICAibGluZUpvaW4iOiAicm91bmQiLAogICJvcGFjaXR5IjogMS4wLAogICJyYWRpdXMiOiA1LAogICJzdHJva2UiOiB0cnVlLAogICJ3ZWlnaHQiOiAzCn0KICAgICAgICAgICAgICAgICkuYWRkVG8obWFwX2EyMDMzOGJhMTk1YzQ2ZjE5YTM0ZmE2NWM2Y2Y5MDdjKTsKICAgICAgICAgICAgCiAgICAKICAgICAgICAgICAgdmFyIHBvcHVwXzQzZDZkYjhlMTg4YTQ0NWQ4YzBhMWI4YjYyNjg5YzE2ID0gTC5wb3B1cCh7bWF4V2lkdGg6ICczMDAnfSk7CgogICAgICAgICAgICAKICAgICAgICAgICAgICAgIHZhciBodG1sX2QzODdhODFlNmY2YTQwM2Q5OWVkYWE5MjZmNjVhYzJkID0gJCgnPGRpdiBpZD0iaHRtbF9kMzg3YTgxZTZmNmE0MDNkOTllZGFhOTI2ZjY1YWMyZCIgc3R5bGU9IndpZHRoOiAxMDAuMCU7IGhlaWdodDogMTAwLjAlOyI+RGEgQ2FzYSBIb3RlbDwvZGl2PicpWzBdOwogICAgICAgICAgICAgICAgcG9wdXBfNDNkNmRiOGUxODhhNDQ1ZDhjMGExYjhiNjI2ODljMTYuc2V0Q29udGVudChodG1sX2QzODdhODFlNmY2YTQwM2Q5OWVkYWE5MjZmNjVhYzJkKTsKICAgICAgICAgICAgCgogICAgICAgICAgICBjaXJjbGVfbWFya2VyX2MzNzM1ZjMzMDliOTRjODc4ZmI5Yjg5YjllZmQ4NzMwLmJpbmRQb3B1cChwb3B1cF80M2Q2ZGI4ZTE4OGE0NDVkOGMwYTFiOGI2MjY4OWMxNik7CgogICAgICAgICAgICAKICAgICAgICAKICAgIAogICAgICAgICAgICB2YXIgY2lyY2xlX21hcmtlcl8xNDRhNzY5NzUwYzM0YjlmODZhMzRmMzY5MDJmMDJmNyA9IEwuY2lyY2xlTWFya2VyKAogICAgICAgICAgICAgICAgWzE4LjUyMDYyOTg4MjgxMjUsNzMuODQ1OTAxNDg5MjU3ODFdLAogICAgICAgICAgICAgICAgewogICJidWJibGluZ01vdXNlRXZlbnRzIjogdHJ1ZSwKICAiY29sb3IiOiAiYmx1ZSIsCiAgImRhc2hBcnJheSI6IG51bGwsCiAgImRhc2hPZmZzZXQiOiBudWxsLAogICJmaWxsIjogdHJ1ZSwKICAiZmlsbENvbG9yIjogImJsdWUiLAogICJmaWxsT3BhY2l0eSI6IDAuNiwKICAiZmlsbFJ1bGUiOiAiZXZlbm9kZCIsCiAgImxpbmVDYXAiOiAicm91bmQiLAogICJsaW5lSm9pbiI6ICJyb3VuZCIsCiAgIm9wYWNpdHkiOiAxLjAsCiAgInJhZGl1cyI6IDUsCiAgInN0cm9rZSI6IHRydWUsCiAgIndlaWdodCI6IDMKfQogICAgICAgICAgICAgICAgKS5hZGRUbyhtYXBfYTIwMzM4YmExOTVjNDZmMTlhMzRmYTY1YzZjZjkwN2MpOwogICAgICAgICAgICAKICAgIAogICAgICAgICAgICB2YXIgcG9wdXBfOTcxOWRmZTI1YzgwNDEzYjg3NTU3ZTAyODIyOGVjZDggPSBMLnBvcHVwKHttYXhXaWR0aDogJzMwMCd9KTsKCiAgICAgICAgICAgIAogICAgICAgICAgICAgICAgdmFyIGh0bWxfNmNkOWFmMGU3ZTUyNGU4NzllODJhYjdjNTAzYWZiM2QgPSAkKCc8ZGl2IGlkPSJodG1sXzZjZDlhZjBlN2U1MjRlODc5ZTgyYWI3YzUwM2FmYjNkIiBzdHlsZT0id2lkdGg6IDEwMC4wJTsgaGVpZ2h0OiAxMDAuMCU7Ij5KTSBGb3VyIEhvdGVsPC9kaXY+JylbMF07CiAgICAgICAgICAgICAgICBwb3B1cF85NzE5ZGZlMjVjODA0MTNiODc1NTdlMDI4MjI4ZWNkOC5zZXRDb250ZW50KGh0bWxfNmNkOWFmMGU3ZTUyNGU4NzllODJhYjdjNTAzYWZiM2QpOwogICAgICAgICAgICAKCiAgICAgICAgICAgIGNpcmNsZV9tYXJrZXJfMTQ0YTc2OTc1MGMzNGI5Zjg2YTM0ZjM2OTAyZjAyZjcuYmluZFBvcHVwKHBvcHVwXzk3MTlkZmUyNWM4MDQxM2I4NzU1N2UwMjgyMjhlY2Q4KTsKCiAgICAgICAgICAgIAogICAgICAgIAogICAgCiAgICAgICAgICAgIHZhciBjaXJjbGVfbWFya2VyXzMzZWRhYzVlMmYxMTQxNTU5YzEyZTdmZDI1MGY2MTA1ID0gTC5jaXJjbGVNYXJrZXIoCiAgICAgICAgICAgICAgICBbMTguNTEzOTY0LDczLjg1MDExNV0sCiAgICAgICAgICAgICAgICB7CiAgImJ1YmJsaW5nTW91c2VFdmVudHMiOiB0cnVlLAogICJjb2xvciI6ICJibHVlIiwKICAiZGFzaEFycmF5IjogbnVsbCwKICAiZGFzaE9mZnNldCI6IG51bGwsCiAgImZpbGwiOiB0cnVlLAogICJmaWxsQ29sb3IiOiAiYmx1ZSIsCiAgImZpbGxPcGFjaXR5IjogMC42LAogICJmaWxsUnVsZSI6ICJldmVub2RkIiwKICAibGluZUNhcCI6ICJyb3VuZCIsCiAgImxpbmVKb2luIjogInJvdW5kIiwKICAib3BhY2l0eSI6IDEuMCwKICAicmFkaXVzIjogNSwKICAic3Ryb2tlIjogdHJ1ZSwKICAid2VpZ2h0IjogMwp9CiAgICAgICAgICAgICAgICApLmFkZFRvKG1hcF9hMjAzMzhiYTE5NWM0NmYxOWEzNGZhNjVjNmNmOTA3Yyk7CiAgICAgICAgICAgIAogICAgCiAgICAgICAgICAgIHZhciBwb3B1cF9mNmJhYWVkODYxMWI0NjgzYjU5N2IxZGE1Y2ViNzc1ZSA9IEwucG9wdXAoe21heFdpZHRoOiAnMzAwJ30pOwoKICAgICAgICAgICAgCiAgICAgICAgICAgICAgICB2YXIgaHRtbF8yZjA4ZjFjMWMwNzc0NGU0OWQ0MDQ2NDJjOTU2MjBhYyA9ICQoJzxkaXYgaWQ9Imh0bWxfMmYwOGYxYzFjMDc3NDRlNDlkNDA0NjQyYzk1NjIwYWMiIHN0eWxlPSJ3aWR0aDogMTAwLjAlOyBoZWlnaHQ6IDEwMC4wJTsiPkxhamphdCBIb3RlbDwvZGl2PicpWzBdOwogICAgICAgICAgICAgICAgcG9wdXBfZjZiYWFlZDg2MTFiNDY4M2I1OTdiMWRhNWNlYjc3NWUuc2V0Q29udGVudChodG1sXzJmMDhmMWMxYzA3NzQ0ZTQ5ZDQwNDY0MmM5NTYyMGFjKTsKICAgICAgICAgICAgCgogICAgICAgICAgICBjaXJjbGVfbWFya2VyXzMzZWRhYzVlMmYxMTQxNTU5YzEyZTdmZDI1MGY2MTA1LmJpbmRQb3B1cChwb3B1cF9mNmJhYWVkODYxMWI0NjgzYjU5N2IxZGE1Y2ViNzc1ZSk7CgogICAgICAgICAgICAKICAgICAgICAKICAgIAogICAgICAgICAgICB2YXIgY2lyY2xlX21hcmtlcl8xMGEyNjdmMDY3ODQ0NWUyYTI4ZmI5Njg0ZDVmZjhhMCA9IEwuY2lyY2xlTWFya2VyKAogICAgICAgICAgICAgICAgWzE4LjUxMjUxODIsNzMuODU0MTA5XSwKICAgICAgICAgICAgICAgIHsKICAiYnViYmxpbmdNb3VzZUV2ZW50cyI6IHRydWUsCiAgImNvbG9yIjogImJsdWUiLAogICJkYXNoQXJyYXkiOiBudWxsLAogICJkYXNoT2Zmc2V0IjogbnVsbCwKICAiZmlsbCI6IHRydWUsCiAgImZpbGxDb2xvciI6ICJibHVlIiwKICAiZmlsbE9wYWNpdHkiOiAwLjYsCiAgImZpbGxSdWxlIjogImV2ZW5vZGQiLAogICJsaW5lQ2FwIjogInJvdW5kIiwKICAibGluZUpvaW4iOiAicm91bmQiLAogICJvcGFjaXR5IjogMS4wLAogICJyYWRpdXMiOiA1LAogICJzdHJva2UiOiB0cnVlLAogICJ3ZWlnaHQiOiAzCn0KICAgICAgICAgICAgICAgICkuYWRkVG8obWFwX2EyMDMzOGJhMTk1YzQ2ZjE5YTM0ZmE2NWM2Y2Y5MDdjKTsKICAgICAgICAgICAgCiAgICAKICAgICAgICAgICAgdmFyIHBvcHVwXzU4ODM1MDAzMDBhNTQ3N2NhY2EwYTZhYTA5MWM2NTc4ID0gTC5wb3B1cCh7bWF4V2lkdGg6ICczMDAnfSk7CgogICAgICAgICAgICAKICAgICAgICAgICAgICAgIHZhciBodG1sX2NhZjg0N2I2OTQ4MDQzYzlhMDEyNGZjZDZjMjllZWU4ID0gJCgnPGRpdiBpZD0iaHRtbF9jYWY4NDdiNjk0ODA0M2M5YTAxMjRmY2Q2YzI5ZWVlOCIgc3R5bGU9IndpZHRoOiAxMDAuMCU7IGhlaWdodDogMTAwLjAlOyI+QmFzaWwgSG90ZWw8L2Rpdj4nKVswXTsKICAgICAgICAgICAgICAgIHBvcHVwXzU4ODM1MDAzMDBhNTQ3N2NhY2EwYTZhYTA5MWM2NTc4LnNldENvbnRlbnQoaHRtbF9jYWY4NDdiNjk0ODA0M2M5YTAxMjRmY2Q2YzI5ZWVlOCk7CiAgICAgICAgICAgIAoKICAgICAgICAgICAgY2lyY2xlX21hcmtlcl8xMGEyNjdmMDY3ODQ0NWUyYTI4ZmI5Njg0ZDVmZjhhMC5iaW5kUG9wdXAocG9wdXBfNTg4MzUwMDMwMGE1NDc3Y2FjYTBhNmFhMDkxYzY1NzgpOwoKICAgICAgICAgICAgCiAgICAgICAgCiAgICAKICAgICAgICAgICAgdmFyIGNpcmNsZV9tYXJrZXJfZmZmMmYzM2U5MTNkNDI3Mjg5ODZhZTVmNTdmNTc5MjkgPSBMLmNpcmNsZU1hcmtlcigKICAgICAgICAgICAgICAgIFsxOC41MTkyNDg0OTAxODUyNjIsNzMuODQ1MDY4MDA1ODI1NDddLAogICAgICAgICAgICAgICAgewogICJidWJibGluZ01vdXNlRXZlbnRzIjogdHJ1ZSwKICAiY29sb3IiOiAiYmx1ZSIsCiAgImRhc2hBcnJheSI6IG51bGwsCiAgImRhc2hPZmZzZXQiOiBudWxsLAogICJmaWxsIjogdHJ1ZSwKICAiZmlsbENvbG9yIjogImJsdWUiLAogICJmaWxsT3BhY2l0eSI6IDAuNiwKICAiZmlsbFJ1bGUiOiAiZXZlbm9kZCIsCiAgImxpbmVDYXAiOiAicm91bmQiLAogICJsaW5lSm9pbiI6ICJyb3VuZCIsCiAgIm9wYWNpdHkiOiAxLjAsCiAgInJhZGl1cyI6IDUsCiAgInN0cm9rZSI6IHRydWUsCiAgIndlaWdodCI6IDMKfQogICAgICAgICAgICAgICAgKS5hZGRUbyhtYXBfYTIwMzM4YmExOTVjNDZmMTlhMzRmYTY1YzZjZjkwN2MpOwogICAgICAgICAgICAKICAgIAogICAgICAgICAgICB2YXIgcG9wdXBfYmMzNzgxZmM2NzE4NGVlZTllNTljMmJhMTlmZmEyNjUgPSBMLnBvcHVwKHttYXhXaWR0aDogJzMwMCd9KTsKCiAgICAgICAgICAgIAogICAgICAgICAgICAgICAgdmFyIGh0bWxfNmVmODNkMmJmOTdiNGNhMzhlZTg3ZGFhYTI5NmZmMjYgPSAkKCc8ZGl2IGlkPSJodG1sXzZlZjgzZDJiZjk3YjRjYTM4ZWU4N2RhYWEyOTZmZjI2IiBzdHlsZT0id2lkdGg6IDEwMC4wJTsgaGVpZ2h0OiAxMDAuMCU7Ij5TdWJoYWRyYSBob3RlbDwvZGl2PicpWzBdOwogICAgICAgICAgICAgICAgcG9wdXBfYmMzNzgxZmM2NzE4NGVlZTllNTljMmJhMTlmZmEyNjUuc2V0Q29udGVudChodG1sXzZlZjgzZDJiZjk3YjRjYTM4ZWU4N2RhYWEyOTZmZjI2KTsKICAgICAgICAgICAgCgogICAgICAgICAgICBjaXJjbGVfbWFya2VyX2ZmZjJmMzNlOTEzZDQyNzI4OTg2YWU1ZjU3ZjU3OTI5LmJpbmRQb3B1cChwb3B1cF9iYzM3ODFmYzY3MTg0ZWVlOWU1OWMyYmExOWZmYTI2NSk7CgogICAgICAgICAgICAKICAgICAgICAKICAgIAogICAgICAgICAgICB2YXIgY2lyY2xlX21hcmtlcl8zMGFjZTExYWM0MTA0ODU1OTRjODRmMzUxNGUxNjhhNCA9IEwuY2lyY2xlTWFya2VyKAogICAgICAgICAgICAgICAgWzE4LjUyMDA5NjUyMzE1NzEwOCw3My44NTAyNDI1NzQzODEyNl0sCiAgICAgICAgICAgICAgICB7CiAgImJ1YmJsaW5nTW91c2VFdmVudHMiOiB0cnVlLAogICJjb2xvciI6ICJibHVlIiwKICAiZGFzaEFycmF5IjogbnVsbCwKICAiZGFzaE9mZnNldCI6IG51bGwsCiAgImZpbGwiOiB0cnVlLAogICJmaWxsQ29sb3IiOiAiYmx1ZSIsCiAgImZpbGxPcGFjaXR5IjogMC42LAogICJmaWxsUnVsZSI6ICJldmVub2RkIiwKICAibGluZUNhcCI6ICJyb3VuZCIsCiAgImxpbmVKb2luIjogInJvdW5kIiwKICAib3BhY2l0eSI6IDEuMCwKICAicmFkaXVzIjogNSwKICAic3Ryb2tlIjogdHJ1ZSwKICAid2VpZ2h0IjogMwp9CiAgICAgICAgICAgICAgICApLmFkZFRvKG1hcF9hMjAzMzhiYTE5NWM0NmYxOWEzNGZhNjVjNmNmOTA3Yyk7CiAgICAgICAgICAgIAogICAgCiAgICAgICAgICAgIHZhciBwb3B1cF81YWQzYWEwN2FmMWU0NDVlYTFiMGM0OTJkMTQ0NTc3NyA9IEwucG9wdXAoe21heFdpZHRoOiAnMzAwJ30pOwoKICAgICAgICAgICAgCiAgICAgICAgICAgICAgICB2YXIgaHRtbF85NzEwNjhmNGIwMGI0MWFiYWZlYjAzYzQxZTIyNWQwYyA9ICQoJzxkaXYgaWQ9Imh0bWxfOTcxMDY4ZjRiMDBiNDFhYmFmZWIwM2M0MWUyMjVkMGMiIHN0eWxlPSJ3aWR0aDogMTAwLjAlOyBoZWlnaHQ6IDEwMC4wJTsiPlJhaiBSZXN0YXVyYW50PC9kaXY+JylbMF07CiAgICAgICAgICAgICAgICBwb3B1cF81YWQzYWEwN2FmMWU0NDVlYTFiMGM0OTJkMTQ0NTc3Ny5zZXRDb250ZW50KGh0bWxfOTcxMDY4ZjRiMDBiNDFhYmFmZWIwM2M0MWUyMjVkMGMpOwogICAgICAgICAgICAKCiAgICAgICAgICAgIGNpcmNsZV9tYXJrZXJfMzBhY2UxMWFjNDEwNDg1NTk0Yzg0ZjM1MTRlMTY4YTQuYmluZFBvcHVwKHBvcHVwXzVhZDNhYTA3YWYxZTQ0NWVhMWIwYzQ5MmQxNDQ1Nzc3KTsKCiAgICAgICAgICAgIAogICAgICAgIAogICAgCiAgICAgICAgICAgIHZhciBjaXJjbGVfbWFya2VyX2QyMGZlYzRlNWQyMjRmYjE4MTdiMjhiYTE1MDY3MGY4ID0gTC5jaXJjbGVNYXJrZXIoCiAgICAgICAgICAgICAgICBbMTguNTI2MjMzNDQ1NDY1MDAzLDczLjg1MDUxODI0MTI1Nzk5XSwKICAgICAgICAgICAgICAgIHsKICAiYnViYmxpbmdNb3VzZUV2ZW50cyI6IHRydWUsCiAgImNvbG9yIjogImJsdWUiLAogICJkYXNoQXJyYXkiOiBudWxsLAogICJkYXNoT2Zmc2V0IjogbnVsbCwKICAiZmlsbCI6IHRydWUsCiAgImZpbGxDb2xvciI6ICJibHVlIiwKICAiZmlsbE9wYWNpdHkiOiAwLjYsCiAgImZpbGxSdWxlIjogImV2ZW5vZGQiLAogICJsaW5lQ2FwIjogInJvdW5kIiwKICAibGluZUpvaW4iOiAicm91bmQiLAogICJvcGFjaXR5IjogMS4wLAogICJyYWRpdXMiOiA1LAogICJzdHJva2UiOiB0cnVlLAogICJ3ZWlnaHQiOiAzCn0KICAgICAgICAgICAgICAgICkuYWRkVG8obWFwX2EyMDMzOGJhMTk1YzQ2ZjE5YTM0ZmE2NWM2Y2Y5MDdjKTsKICAgICAgICAgICAgCiAgICAKICAgICAgICAgICAgdmFyIHBvcHVwXzlhZTA3YmQ4OGVjYjQzMTdhY2FhYWE3YWVlY2ViZjlkID0gTC5wb3B1cCh7bWF4V2lkdGg6ICczMDAnfSk7CgogICAgICAgICAgICAKICAgICAgICAgICAgICAgIHZhciBodG1sXzkxZWE1YjM2OGNjMjQzZGY4MjBmM2MzNzdmYmMxZGM4ID0gJCgnPGRpdiBpZD0iaHRtbF85MWVhNWIzNjhjYzI0M2RmODIwZjNjMzc3ZmJjMWRjOCIgc3R5bGU9IndpZHRoOiAxMDAuMCU7IGhlaWdodDogMTAwLjAlOyI+SGluZGF2aSBTd2FyYWp5YSBDb3JuZXI8L2Rpdj4nKVswXTsKICAgICAgICAgICAgICAgIHBvcHVwXzlhZTA3YmQ4OGVjYjQzMTdhY2FhYWE3YWVlY2ViZjlkLnNldENvbnRlbnQoaHRtbF85MWVhNWIzNjhjYzI0M2RmODIwZjNjMzc3ZmJjMWRjOCk7CiAgICAgICAgICAgIAoKICAgICAgICAgICAgY2lyY2xlX21hcmtlcl9kMjBmZWM0ZTVkMjI0ZmIxODE3YjI4YmExNTA2NzBmOC5iaW5kUG9wdXAocG9wdXBfOWFlMDdiZDg4ZWNiNDMxN2FjYWFhYTdhZWVjZWJmOWQpOwoKICAgICAgICAgICAgCiAgICAgICAgCiAgICAKICAgICAgICAgICAgdmFyIGNpcmNsZV9tYXJrZXJfZTQ1ZTRkNjYwNjJhNDhlMzhjNDUxM2FhNDA1MjcxOGMgPSBMLmNpcmNsZU1hcmtlcigKICAgICAgICAgICAgICAgIFsxOC41MjAxOTcxODEzOTM3LDczLjg0NTk2OTA0MTM0MDcyXSwKICAgICAgICAgICAgICAgIHsKICAiYnViYmxpbmdNb3VzZUV2ZW50cyI6IHRydWUsCiAgImNvbG9yIjogImJsdWUiLAogICJkYXNoQXJyYXkiOiBudWxsLAogICJkYXNoT2Zmc2V0IjogbnVsbCwKICAiZmlsbCI6IHRydWUsCiAgImZpbGxDb2xvciI6ICJibHVlIiwKICAiZmlsbE9wYWNpdHkiOiAwLjYsCiAgImZpbGxSdWxlIjogImV2ZW5vZGQiLAogICJsaW5lQ2FwIjogInJvdW5kIiwKICAibGluZUpvaW4iOiAicm91bmQiLAogICJvcGFjaXR5IjogMS4wLAogICJyYWRpdXMiOiA1LAogICJzdHJva2UiOiB0cnVlLAogICJ3ZWlnaHQiOiAzCn0KICAgICAgICAgICAgICAgICkuYWRkVG8obWFwX2EyMDMzOGJhMTk1YzQ2ZjE5YTM0ZmE2NWM2Y2Y5MDdjKTsKICAgICAgICAgICAgCiAgICAKICAgICAgICAgICAgdmFyIHBvcHVwX2U2NDE4ODkxYjZjOTQyNTBiNDMzYzUwNWFiMWMxZGU4ID0gTC5wb3B1cCh7bWF4V2lkdGg6ICczMDAnfSk7CgogICAgICAgICAgICAKICAgICAgICAgICAgICAgIHZhciBodG1sX2U4MDA3YjYxYmRhYjQyODg5MDY5ODRhZDc5Y2YzYzFhID0gJCgnPGRpdiBpZD0iaHRtbF9lODAwN2I2MWJkYWI0Mjg4OTA2OTg0YWQ3OWNmM2MxYSIgc3R5bGU9IndpZHRoOiAxMDAuMCU7IGhlaWdodDogMTAwLjAlOyI+U2hpdiBTYWdhciBWZWcgUmVzdGF1cmFudDwvZGl2PicpWzBdOwogICAgICAgICAgICAgICAgcG9wdXBfZTY0MTg4OTFiNmM5NDI1MGI0MzNjNTA1YWIxYzFkZTguc2V0Q29udGVudChodG1sX2U4MDA3YjYxYmRhYjQyODg5MDY5ODRhZDc5Y2YzYzFhKTsKICAgICAgICAgICAgCgogICAgICAgICAgICBjaXJjbGVfbWFya2VyX2U0NWU0ZDY2MDYyYTQ4ZTM4YzQ1MTNhYTQwNTI3MThjLmJpbmRQb3B1cChwb3B1cF9lNjQxODg5MWI2Yzk0MjUwYjQzM2M1MDVhYjFjMWRlOCk7CgogICAgICAgICAgICAKICAgICAgICAKICAgIAogICAgICAgICAgICB2YXIgY2lyY2xlX21hcmtlcl8yMzVmZDc5NzljNjE0NTdlOWI5ZTc0Y2YyNGU0MzY5NyA9IEwuY2lyY2xlTWFya2VyKAogICAgICAgICAgICAgICAgWzE4LjUyMTM2NDcxMDYyNjkxLDczLjg1NDM4OTE5MDY3MzgxXSwKICAgICAgICAgICAgICAgIHsKICAiYnViYmxpbmdNb3VzZUV2ZW50cyI6IHRydWUsCiAgImNvbG9yIjogImJsdWUiLAogICJkYXNoQXJyYXkiOiBudWxsLAogICJkYXNoT2Zmc2V0IjogbnVsbCwKICAiZmlsbCI6IHRydWUsCiAgImZpbGxDb2xvciI6ICJibHVlIiwKICAiZmlsbE9wYWNpdHkiOiAwLjYsCiAgImZpbGxSdWxlIjogImV2ZW5vZGQiLAogICJsaW5lQ2FwIjogInJvdW5kIiwKICAibGluZUpvaW4iOiAicm91bmQiLAogICJvcGFjaXR5IjogMS4wLAogICJyYWRpdXMiOiA1LAogICJzdHJva2UiOiB0cnVlLAogICJ3ZWlnaHQiOiAzCn0KICAgICAgICAgICAgICAgICkuYWRkVG8obWFwX2EyMDMzOGJhMTk1YzQ2ZjE5YTM0ZmE2NWM2Y2Y5MDdjKTsKICAgICAgICAgICAgCiAgICAKICAgICAgICAgICAgdmFyIHBvcHVwX2ZhZjVhN2IxN2NhYzQ5NmJhOGNhZWM1ZWVhYjhhYTJkID0gTC5wb3B1cCh7bWF4V2lkdGg6ICczMDAnfSk7CgogICAgICAgICAgICAKICAgICAgICAgICAgICAgIHZhciBodG1sXzJiMzg0NTQwYjkyMjQxNDNhZDRhMDkzMzAzNmFhMGFkID0gJCgnPGRpdiBpZD0iaHRtbF8yYjM4NDU0MGI5MjI0MTQzYWQ0YTA5MzMwMzZhYTBhZCIgc3R5bGU9IndpZHRoOiAxMDAuMCU7IGhlaWdodDogMTAwLjAlOyI+UmVzdGF1cmFudHMgaW4gUHVuZSA6IENyYXp5IFJlc3RvPC9kaXY+JylbMF07CiAgICAgICAgICAgICAgICBwb3B1cF9mYWY1YTdiMTdjYWM0OTZiYThjYWVjNWVlYWI4YWEyZC5zZXRDb250ZW50KGh0bWxfMmIzODQ1NDBiOTIyNDE0M2FkNGEwOTMzMDM2YWEwYWQpOwogICAgICAgICAgICAKCiAgICAgICAgICAgIGNpcmNsZV9tYXJrZXJfMjM1ZmQ3OTc5YzYxNDU3ZTliOWU3NGNmMjRlNDM2OTcuYmluZFBvcHVwKHBvcHVwX2ZhZjVhN2IxN2NhYzQ5NmJhOGNhZWM1ZWVhYjhhYTJkKTsKCiAgICAgICAgICAgIAogICAgICAgIAogICAgCiAgICAgICAgICAgIHZhciBjaXJjbGVfbWFya2VyX2Q2YjEwNTc4ZWU5YjQ4OGNiZjAxM2YwZGQzNDA2M2U0ID0gTC5jaXJjbGVNYXJrZXIoCiAgICAgICAgICAgICAgICBbMTguNTIwMDk2NTIzMTU3MTA4LDczLjg1MDI0MjU3NDM4MTI2XSwKICAgICAgICAgICAgICAgIHsKICAiYnViYmxpbmdNb3VzZUV2ZW50cyI6IHRydWUsCiAgImNvbG9yIjogImJsdWUiLAogICJkYXNoQXJyYXkiOiBudWxsLAogICJkYXNoT2Zmc2V0IjogbnVsbCwKICAiZmlsbCI6IHRydWUsCiAgImZpbGxDb2xvciI6ICJibHVlIiwKICAiZmlsbE9wYWNpdHkiOiAwLjYsCiAgImZpbGxSdWxlIjogImV2ZW5vZGQiLAogICJsaW5lQ2FwIjogInJvdW5kIiwKICAibGluZUpvaW4iOiAicm91bmQiLAogICJvcGFjaXR5IjogMS4wLAogICJyYWRpdXMiOiA1LAogICJzdHJva2UiOiB0cnVlLAogICJ3ZWlnaHQiOiAzCn0KICAgICAgICAgICAgICAgICkuYWRkVG8obWFwX2EyMDMzOGJhMTk1YzQ2ZjE5YTM0ZmE2NWM2Y2Y5MDdjKTsKICAgICAgICAgICAgCiAgICAKICAgICAgICAgICAgdmFyIHBvcHVwXzM3MTM3ZGM2ZGZhNDQ2NTJhNjhjOTBlYjZmMjNkNWE0ID0gTC5wb3B1cCh7bWF4V2lkdGg6ICczMDAnfSk7CgogICAgICAgICAgICAKICAgICAgICAgICAgICAgIHZhciBodG1sX2JmOTBkNjFjZmFhZTRjNTFhMzI2ZWVhZDBmODgzOWQ4ID0gJCgnPGRpdiBpZD0iaHRtbF9iZjkwZDYxY2ZhYWU0YzUxYTMyNmVlYWQwZjg4MzlkOCIgc3R5bGU9IndpZHRoOiAxMDAuMCU7IGhlaWdodDogMTAwLjAlOyI+UmFqIFJlc3RhdXJhbnQ8L2Rpdj4nKVswXTsKICAgICAgICAgICAgICAgIHBvcHVwXzM3MTM3ZGM2ZGZhNDQ2NTJhNjhjOTBlYjZmMjNkNWE0LnNldENvbnRlbnQoaHRtbF9iZjkwZDYxY2ZhYWU0YzUxYTMyNmVlYWQwZjg4MzlkOCk7CiAgICAgICAgICAgIAoKICAgICAgICAgICAgY2lyY2xlX21hcmtlcl9kNmIxMDU3OGVlOWI0ODhjYmYwMTNmMGRkMzQwNjNlNC5iaW5kUG9wdXAocG9wdXBfMzcxMzdkYzZkZmE0NDY1MmE2OGM5MGViNmYyM2Q1YTQpOwoKICAgICAgICAgICAgCiAgICAgICAgCiAgICAKICAgICAgICAgICAgdmFyIGNpcmNsZV9tYXJrZXJfZWNiZTMwYTczMjUzNDgxNTg1Nzc0N2Y3NjA1YTQzODYgPSBMLmNpcmNsZU1hcmtlcigKICAgICAgICAgICAgICAgIFsxOC41MjE1MTI0Mjg3NDcwMyw3My44NDc0Njg2NTQ5Njc0XSwKICAgICAgICAgICAgICAgIHsKICAiYnViYmxpbmdNb3VzZUV2ZW50cyI6IHRydWUsCiAgImNvbG9yIjogImJsdWUiLAogICJkYXNoQXJyYXkiOiBudWxsLAogICJkYXNoT2Zmc2V0IjogbnVsbCwKICAiZmlsbCI6IHRydWUsCiAgImZpbGxDb2xvciI6ICJibHVlIiwKICAiZmlsbE9wYWNpdHkiOiAwLjYsCiAgImZpbGxSdWxlIjogImV2ZW5vZGQiLAogICJsaW5lQ2FwIjogInJvdW5kIiwKICAibGluZUpvaW4iOiAicm91bmQiLAogICJvcGFjaXR5IjogMS4wLAogICJyYWRpdXMiOiA1LAogICJzdHJva2UiOiB0cnVlLAogICJ3ZWlnaHQiOiAzCn0KICAgICAgICAgICAgICAgICkuYWRkVG8obWFwX2EyMDMzOGJhMTk1YzQ2ZjE5YTM0ZmE2NWM2Y2Y5MDdjKTsKICAgICAgICAgICAgCiAgICAKICAgICAgICAgICAgdmFyIHBvcHVwXzBmZmQzMWU3MTM0MDQ4NmY5M2EyOWVjNTYyNWQ5MjlkID0gTC5wb3B1cCh7bWF4V2lkdGg6ICczMDAnfSk7CgogICAgICAgICAgICAKICAgICAgICAgICAgICAgIHZhciBodG1sXzg2MWM4Mjc3ODQwMjQ0NjdiZDM2ZjYxNzAyZTBkMzczID0gJCgnPGRpdiBpZD0iaHRtbF84NjFjODI3Nzg0MDI0NDY3YmQzNmY2MTcwMmUwZDM3MyIgc3R5bGU9IndpZHRoOiAxMDAuMCU7IGhlaWdodDogMTAwLjAlOyI+UnVjaGlyYSBSZXN0YXVyYW50IEFuZCBCYXI8L2Rpdj4nKVswXTsKICAgICAgICAgICAgICAgIHBvcHVwXzBmZmQzMWU3MTM0MDQ4NmY5M2EyOWVjNTYyNWQ5MjlkLnNldENvbnRlbnQoaHRtbF84NjFjODI3Nzg0MDI0NDY3YmQzNmY2MTcwMmUwZDM3Myk7CiAgICAgICAgICAgIAoKICAgICAgICAgICAgY2lyY2xlX21hcmtlcl9lY2JlMzBhNzMyNTM0ODE1ODU3NzQ3Zjc2MDVhNDM4Ni5iaW5kUG9wdXAocG9wdXBfMGZmZDMxZTcxMzQwNDg2ZjkzYTI5ZWM1NjI1ZDkyOWQpOwoKICAgICAgICAgICAgCiAgICAgICAgCiAgICAKICAgICAgICAgICAgdmFyIGNpcmNsZV9tYXJrZXJfMDllZGM5MDBjZTZmNGVkZGJkNDVhMjVkZWVhMTE5NjYgPSBMLmNpcmNsZU1hcmtlcigKICAgICAgICAgICAgICAgIFsxOC41MjM3MDIsNzMuODQ5NDc2XSwKICAgICAgICAgICAgICAgIHsKICAiYnViYmxpbmdNb3VzZUV2ZW50cyI6IHRydWUsCiAgImNvbG9yIjogImJsdWUiLAogICJkYXNoQXJyYXkiOiBudWxsLAogICJkYXNoT2Zmc2V0IjogbnVsbCwKICAiZmlsbCI6IHRydWUsCiAgImZpbGxDb2xvciI6ICJibHVlIiwKICAiZmlsbE9wYWNpdHkiOiAwLjYsCiAgImZpbGxSdWxlIjogImV2ZW5vZGQiLAogICJsaW5lQ2FwIjogInJvdW5kIiwKICAibGluZUpvaW4iOiAicm91bmQiLAogICJvcGFjaXR5IjogMS4wLAogICJyYWRpdXMiOiA1LAogICJzdHJva2UiOiB0cnVlLAogICJ3ZWlnaHQiOiAzCn0KICAgICAgICAgICAgICAgICkuYWRkVG8obWFwX2EyMDMzOGJhMTk1YzQ2ZjE5YTM0ZmE2NWM2Y2Y5MDdjKTsKICAgICAgICAgICAgCiAgICAKICAgICAgICAgICAgdmFyIHBvcHVwX2MyOWM5ZjMyMzUwMzQxZTNhMmVkZWU0Y2RiMjE4MTdiID0gTC5wb3B1cCh7bWF4V2lkdGg6ICczMDAnfSk7CgogICAgICAgICAgICAKICAgICAgICAgICAgICAgIHZhciBodG1sXzg3MWU0ODRhYWMyMzQwNGJhZGY1NzJjYThmNGQ4YTBhID0gJCgnPGRpdiBpZD0iaHRtbF84NzFlNDg0YWFjMjM0MDRiYWRmNTcyY2E4ZjRkOGEwYSIgc3R5bGU9IndpZHRoOiAxMDAuMCU7IGhlaWdodDogMTAwLjAlOyI+U2hhaWxhamEgQmFyIE4gUmVzdGF1cmFudDwvZGl2PicpWzBdOwogICAgICAgICAgICAgICAgcG9wdXBfYzI5YzlmMzIzNTAzNDFlM2EyZWRlZTRjZGIyMTgxN2Iuc2V0Q29udGVudChodG1sXzg3MWU0ODRhYWMyMzQwNGJhZGY1NzJjYThmNGQ4YTBhKTsKICAgICAgICAgICAgCgogICAgICAgICAgICBjaXJjbGVfbWFya2VyXzA5ZWRjOTAwY2U2ZjRlZGRiZDQ1YTI1ZGVlYTExOTY2LmJpbmRQb3B1cChwb3B1cF9jMjljOWYzMjM1MDM0MWUzYTJlZGVlNGNkYjIxODE3Yik7CgogICAgICAgICAgICAKICAgICAgICAKICAgIAogICAgICAgICAgICB2YXIgY2lyY2xlX21hcmtlcl8xN2M0Y2E5MzIzM2U0MDM2ODI1YTA5OWJlYzE0ODNlYSA9IEwuY2lyY2xlTWFya2VyKAogICAgICAgICAgICAgICAgWzE4LjUyNjEyMjg4NDg0Njc4NSw3My44NTIxOTkzODMxNjE0Ml0sCiAgICAgICAgICAgICAgICB7CiAgImJ1YmJsaW5nTW91c2VFdmVudHMiOiB0cnVlLAogICJjb2xvciI6ICJibHVlIiwKICAiZGFzaEFycmF5IjogbnVsbCwKICAiZGFzaE9mZnNldCI6IG51bGwsCiAgImZpbGwiOiB0cnVlLAogICJmaWxsQ29sb3IiOiAiYmx1ZSIsCiAgImZpbGxPcGFjaXR5IjogMC42LAogICJmaWxsUnVsZSI6ICJldmVub2RkIiwKICAibGluZUNhcCI6ICJyb3VuZCIsCiAgImxpbmVKb2luIjogInJvdW5kIiwKICAib3BhY2l0eSI6IDEuMCwKICAicmFkaXVzIjogNSwKICAic3Ryb2tlIjogdHJ1ZSwKICAid2VpZ2h0IjogMwp9CiAgICAgICAgICAgICAgICApLmFkZFRvKG1hcF9hMjAzMzhiYTE5NWM0NmYxOWEzNGZhNjVjNmNmOTA3Yyk7CiAgICAgICAgICAgIAogICAgCiAgICAgICAgICAgIHZhciBwb3B1cF81N2QyYzhhMzZiZTk0ZTIwYmEwNDgzZDYwZGMzZmYxYiA9IEwucG9wdXAoe21heFdpZHRoOiAnMzAwJ30pOwoKICAgICAgICAgICAgCiAgICAgICAgICAgICAgICB2YXIgaHRtbF8yYjE3ZmZlMTgzNjA0Mjk3OWQwNzg4NDYxZDYwZDg3MCA9ICQoJzxkaXYgaWQ9Imh0bWxfMmIxN2ZmZTE4MzYwNDI5NzlkMDc4ODQ2MWQ2MGQ4NzAiIHN0eWxlPSJ3aWR0aDogMTAwLjAlOyBoZWlnaHQ6IDEwMC4wJTsiPlN1ZGFtYSBCYXIgJiBSZXN0YXVyYW50PC9kaXY+JylbMF07CiAgICAgICAgICAgICAgICBwb3B1cF81N2QyYzhhMzZiZTk0ZTIwYmEwNDgzZDYwZGMzZmYxYi5zZXRDb250ZW50KGh0bWxfMmIxN2ZmZTE4MzYwNDI5NzlkMDc4ODQ2MWQ2MGQ4NzApOwogICAgICAgICAgICAKCiAgICAgICAgICAgIGNpcmNsZV9tYXJrZXJfMTdjNGNhOTMyMzNlNDAzNjgyNWEwOTliZWMxNDgzZWEuYmluZFBvcHVwKHBvcHVwXzU3ZDJjOGEzNmJlOTRlMjBiYTA0ODNkNjBkYzNmZjFiKTsKCiAgICAgICAgICAgIAogICAgICAgIAogICAgCiAgICAgICAgICAgIHZhciBjaXJjbGVfbWFya2VyX2RjNGQ1ZDMwNGYzMzRiYWRhM2FjMmI5NmExNzZmYzFiID0gTC5jaXJjbGVNYXJrZXIoCiAgICAgICAgICAgICAgICBbMTguNTI0OTM5NDI2NjMzNjQ3LDczLjg0OTQ5NTk3NDY1MzA1XSwKICAgICAgICAgICAgICAgIHsKICAiYnViYmxpbmdNb3VzZUV2ZW50cyI6IHRydWUsCiAgImNvbG9yIjogImJsdWUiLAogICJkYXNoQXJyYXkiOiBudWxsLAogICJkYXNoT2Zmc2V0IjogbnVsbCwKICAiZmlsbCI6IHRydWUsCiAgImZpbGxDb2xvciI6ICJibHVlIiwKICAiZmlsbE9wYWNpdHkiOiAwLjYsCiAgImZpbGxSdWxlIjogImV2ZW5vZGQiLAogICJsaW5lQ2FwIjogInJvdW5kIiwKICAibGluZUpvaW4iOiAicm91bmQiLAogICJvcGFjaXR5IjogMS4wLAogICJyYWRpdXMiOiA1LAogICJzdHJva2UiOiB0cnVlLAogICJ3ZWlnaHQiOiAzCn0KICAgICAgICAgICAgICAgICkuYWRkVG8obWFwX2EyMDMzOGJhMTk1YzQ2ZjE5YTM0ZmE2NWM2Y2Y5MDdjKTsKICAgICAgICAgICAgCiAgICAKICAgICAgICAgICAgdmFyIHBvcHVwXzMyYTUwZjgyYzQ4NDQ1MDZhZDExYTVmMGNmZTA1YmQzID0gTC5wb3B1cCh7bWF4V2lkdGg6ICczMDAnfSk7CgogICAgICAgICAgICAKICAgICAgICAgICAgICAgIHZhciBodG1sXzYyNDAzOTQ5N2NiZTQ1NjNiMDU3Y2MzYjI0YTEzYTkwID0gJCgnPGRpdiBpZD0iaHRtbF82MjQwMzk0OTdjYmU0NTYzYjA1N2NjM2IyNGExM2E5MCIgc3R5bGU9IndpZHRoOiAxMDAuMCU7IGhlaWdodDogMTAwLjAlOyI+U3VyYmhpIEZhc3QgRm9vZCBSZXN0YXVyYW50PC9kaXY+JylbMF07CiAgICAgICAgICAgICAgICBwb3B1cF8zMmE1MGY4MmM0ODQ0NTA2YWQxMWE1ZjBjZmUwNWJkMy5zZXRDb250ZW50KGh0bWxfNjI0MDM5NDk3Y2JlNDU2M2IwNTdjYzNiMjRhMTNhOTApOwogICAgICAgICAgICAKCiAgICAgICAgICAgIGNpcmNsZV9tYXJrZXJfZGM0ZDVkMzA0ZjMzNGJhZGEzYWMyYjk2YTE3NmZjMWIuYmluZFBvcHVwKHBvcHVwXzMyYTUwZjgyYzQ4NDQ1MDZhZDExYTVmMGNmZTA1YmQzKTsKCiAgICAgICAgICAgIAogICAgICAgIAogICAgCiAgICAgICAgICAgIHZhciBjaXJjbGVfbWFya2VyXzNhOWI5ZmNkODQzMzQ5NmE4YmY1NDk2YzUyMjllYTZmID0gTC5jaXJjbGVNYXJrZXIoCiAgICAgICAgICAgICAgICBbMTguNTI1ODk4NjI4MDE3OTYsNzMuODUwMTgyNDYzNjMwNDVdLAogICAgICAgICAgICAgICAgewogICJidWJibGluZ01vdXNlRXZlbnRzIjogdHJ1ZSwKICAiY29sb3IiOiAiYmx1ZSIsCiAgImRhc2hBcnJheSI6IG51bGwsCiAgImRhc2hPZmZzZXQiOiBudWxsLAogICJmaWxsIjogdHJ1ZSwKICAiZmlsbENvbG9yIjogImJsdWUiLAogICJmaWxsT3BhY2l0eSI6IDAuNiwKICAiZmlsbFJ1bGUiOiAiZXZlbm9kZCIsCiAgImxpbmVDYXAiOiAicm91bmQiLAogICJsaW5lSm9pbiI6ICJyb3VuZCIsCiAgIm9wYWNpdHkiOiAxLjAsCiAgInJhZGl1cyI6IDUsCiAgInN0cm9rZSI6IHRydWUsCiAgIndlaWdodCI6IDMKfQogICAgICAgICAgICAgICAgKS5hZGRUbyhtYXBfYTIwMzM4YmExOTVjNDZmMTlhMzRmYTY1YzZjZjkwN2MpOwogICAgICAgICAgICAKICAgIAogICAgICAgICAgICB2YXIgcG9wdXBfZjg3YTIyNzMwOGM5NDdmODk5ODk5OWVkMTI5NTM5ODQgPSBMLnBvcHVwKHttYXhXaWR0aDogJzMwMCd9KTsKCiAgICAgICAgICAgIAogICAgICAgICAgICAgICAgdmFyIGh0bWxfM2I3ZWVlZTc0OTQ4NGIzMjkzODE5NjUzMDUyYzBiMjEgPSAkKCc8ZGl2IGlkPSJodG1sXzNiN2VlZWU3NDk0ODRiMzI5MzgxOTY1MzA1MmMwYjIxIiBzdHlsZT0id2lkdGg6IDEwMC4wJTsgaGVpZ2h0OiAxMDAuMCU7Ij5QYW5jaGFsaSBSZXN0YXVyYW50PC9kaXY+JylbMF07CiAgICAgICAgICAgICAgICBwb3B1cF9mODdhMjI3MzA4Yzk0N2Y4OTk4OTk5ZWQxMjk1Mzk4NC5zZXRDb250ZW50KGh0bWxfM2I3ZWVlZTc0OTQ4NGIzMjkzODE5NjUzMDUyYzBiMjEpOwogICAgICAgICAgICAKCiAgICAgICAgICAgIGNpcmNsZV9tYXJrZXJfM2E5YjlmY2Q4NDMzNDk2YThiZjU0OTZjNTIyOWVhNmYuYmluZFBvcHVwKHBvcHVwX2Y4N2EyMjczMDhjOTQ3Zjg5OTg5OTllZDEyOTUzOTg0KTsKCiAgICAgICAgICAgIAogICAgICAgIAogICAgCiAgICAgICAgICAgIHZhciBjaXJjbGVfbWFya2VyXzhiYzFjMWJlYTRkNTQ0ODY5Y2ZmYTRjNGEzMTU5N2YzID0gTC5jaXJjbGVNYXJrZXIoCiAgICAgICAgICAgICAgICBbMTguNTIyNDM5OTYxMTYxNjQsNzMuODQ3NjY5NjY0OTMyNzddLAogICAgICAgICAgICAgICAgewogICJidWJibGluZ01vdXNlRXZlbnRzIjogdHJ1ZSwKICAiY29sb3IiOiAiYmx1ZSIsCiAgImRhc2hBcnJheSI6IG51bGwsCiAgImRhc2hPZmZzZXQiOiBudWxsLAogICJmaWxsIjogdHJ1ZSwKICAiZmlsbENvbG9yIjogImJsdWUiLAogICJmaWxsT3BhY2l0eSI6IDAuNiwKICAiZmlsbFJ1bGUiOiAiZXZlbm9kZCIsCiAgImxpbmVDYXAiOiAicm91bmQiLAogICJsaW5lSm9pbiI6ICJyb3VuZCIsCiAgIm9wYWNpdHkiOiAxLjAsCiAgInJhZGl1cyI6IDUsCiAgInN0cm9rZSI6IHRydWUsCiAgIndlaWdodCI6IDMKfQogICAgICAgICAgICAgICAgKS5hZGRUbyhtYXBfYTIwMzM4YmExOTVjNDZmMTlhMzRmYTY1YzZjZjkwN2MpOwogICAgICAgICAgICAKICAgIAogICAgICAgICAgICB2YXIgcG9wdXBfZGNmNDRmNmM0NDVhNDIzODg2ZmI4Y2ZjYzBlYzZhODIgPSBMLnBvcHVwKHttYXhXaWR0aDogJzMwMCd9KTsKCiAgICAgICAgICAgIAogICAgICAgICAgICAgICAgdmFyIGh0bWxfMTQ3MmY5ZTRiZjg4NDg1MGI1OTI1OTdiMjQ3MWQ5OWYgPSAkKCc8ZGl2IGlkPSJodG1sXzE0NzJmOWU0YmY4ODQ4NTBiNTkyNTk3YjI0NzFkOTlmIiBzdHlsZT0id2lkdGg6IDEwMC4wJTsgaGVpZ2h0OiAxMDAuMCU7Ij5Ib3RlbCBQZWFybCAoTWF5dXIgQmFyICYgUmVzdGF1cmFudCk8L2Rpdj4nKVswXTsKICAgICAgICAgICAgICAgIHBvcHVwX2RjZjQ0ZjZjNDQ1YTQyMzg4NmZiOGNmY2MwZWM2YTgyLnNldENvbnRlbnQoaHRtbF8xNDcyZjllNGJmODg0ODUwYjU5MjU5N2IyNDcxZDk5Zik7CiAgICAgICAgICAgIAoKICAgICAgICAgICAgY2lyY2xlX21hcmtlcl84YmMxYzFiZWE0ZDU0NDg2OWNmZmE0YzRhMzE1OTdmMy5iaW5kUG9wdXAocG9wdXBfZGNmNDRmNmM0NDVhNDIzODg2ZmI4Y2ZjYzBlYzZhODIpOwoKICAgICAgICAgICAgCiAgICAgICAgCiAgICAKICAgICAgICAgICAgdmFyIGNpcmNsZV9tYXJrZXJfZjUyNGE4NDU2ZjFmNDNkMzg3ODdlMzVlMWU2OTdhZjEgPSBMLmNpcmNsZU1hcmtlcigKICAgICAgICAgICAgICAgIFsxOC41MTQ2OCw3My44NTM5N10sCiAgICAgICAgICAgICAgICB7CiAgImJ1YmJsaW5nTW91c2VFdmVudHMiOiB0cnVlLAogICJjb2xvciI6ICJibHVlIiwKICAiZGFzaEFycmF5IjogbnVsbCwKICAiZGFzaE9mZnNldCI6IG51bGwsCiAgImZpbGwiOiB0cnVlLAogICJmaWxsQ29sb3IiOiAiYmx1ZSIsCiAgImZpbGxPcGFjaXR5IjogMC42LAogICJmaWxsUnVsZSI6ICJldmVub2RkIiwKICAibGluZUNhcCI6ICJyb3VuZCIsCiAgImxpbmVKb2luIjogInJvdW5kIiwKICAib3BhY2l0eSI6IDEuMCwKICAicmFkaXVzIjogNSwKICAic3Ryb2tlIjogdHJ1ZSwKICAid2VpZ2h0IjogMwp9CiAgICAgICAgICAgICAgICApLmFkZFRvKG1hcF9hMjAzMzhiYTE5NWM0NmYxOWEzNGZhNjVjNmNmOTA3Yyk7CiAgICAgICAgICAgIAogICAgCiAgICAgICAgICAgIHZhciBwb3B1cF8wYTE1ZmVkODZkYmQ0YWRmYTViYjkxNjhmNDI5YWVjNSA9IEwucG9wdXAoe21heFdpZHRoOiAnMzAwJ30pOwoKICAgICAgICAgICAgCiAgICAgICAgICAgICAgICB2YXIgaHRtbF84OTJjYzNkYWFkODM0ZTdhOGFkNTJkZDdkMWYxOTdmNSA9ICQoJzxkaXYgaWQ9Imh0bWxfODkyY2MzZGFhZDgzNGU3YThhZDUyZGQ3ZDFmMTk3ZjUiIHN0eWxlPSJ3aWR0aDogMTAwLjAlOyBoZWlnaHQ6IDEwMC4wJTsiPkxheG1pIFZlZyBSZXN0YXVyYW50PC9kaXY+JylbMF07CiAgICAgICAgICAgICAgICBwb3B1cF8wYTE1ZmVkODZkYmQ0YWRmYTViYjkxNjhmNDI5YWVjNS5zZXRDb250ZW50KGh0bWxfODkyY2MzZGFhZDgzNGU3YThhZDUyZGQ3ZDFmMTk3ZjUpOwogICAgICAgICAgICAKCiAgICAgICAgICAgIGNpcmNsZV9tYXJrZXJfZjUyNGE4NDU2ZjFmNDNkMzg3ODdlMzVlMWU2OTdhZjEuYmluZFBvcHVwKHBvcHVwXzBhMTVmZWQ4NmRiZDRhZGZhNWJiOTE2OGY0MjlhZWM1KTsKCiAgICAgICAgICAgIAogICAgICAgIAogICAgCiAgICAgICAgICAgIHZhciBjaXJjbGVfbWFya2VyXzIzMTRlMGFmMzliNDRiYjM4ZTlhYWM0MzNmYWM4YWVkID0gTC5jaXJjbGVNYXJrZXIoCiAgICAgICAgICAgICAgICBbMTguNTE0MDk1Mjg1MDg5NjQyLDczLjg1NjQxNjI3MTM1MTQyXSwKICAgICAgICAgICAgICAgIHsKICAiYnViYmxpbmdNb3VzZUV2ZW50cyI6IHRydWUsCiAgImNvbG9yIjogImJsdWUiLAogICJkYXNoQXJyYXkiOiBudWxsLAogICJkYXNoT2Zmc2V0IjogbnVsbCwKICAiZmlsbCI6IHRydWUsCiAgImZpbGxDb2xvciI6ICJibHVlIiwKICAiZmlsbE9wYWNpdHkiOiAwLjYsCiAgImZpbGxSdWxlIjogImV2ZW5vZGQiLAogICJsaW5lQ2FwIjogInJvdW5kIiwKICAibGluZUpvaW4iOiAicm91bmQiLAogICJvcGFjaXR5IjogMS4wLAogICJyYWRpdXMiOiA1LAogICJzdHJva2UiOiB0cnVlLAogICJ3ZWlnaHQiOiAzCn0KICAgICAgICAgICAgICAgICkuYWRkVG8obWFwX2EyMDMzOGJhMTk1YzQ2ZjE5YTM0ZmE2NWM2Y2Y5MDdjKTsKICAgICAgICAgICAgCiAgICAKICAgICAgICAgICAgdmFyIHBvcHVwXzMyNGJjMGZiZTc5OTQzYjA4OWQ3YThiNTM2NWEzYzEwID0gTC5wb3B1cCh7bWF4V2lkdGg6ICczMDAnfSk7CgogICAgICAgICAgICAKICAgICAgICAgICAgICAgIHZhciBodG1sXzE3YzVlOGM3YzY3MjQ2MmRhMmNmYTczZmE0OGQxYThjID0gJCgnPGRpdiBpZD0iaHRtbF8xN2M1ZThjN2M2NzI0NjJkYTJjZmE3M2ZhNDhkMWE4YyIgc3R5bGU9IndpZHRoOiAxMDAuMCU7IGhlaWdodDogMTAwLjAlOyI+U2Fua2FscCBSZXN0YXVyYW50IEFuZCBCYXI8L2Rpdj4nKVswXTsKICAgICAgICAgICAgICAgIHBvcHVwXzMyNGJjMGZiZTc5OTQzYjA4OWQ3YThiNTM2NWEzYzEwLnNldENvbnRlbnQoaHRtbF8xN2M1ZThjN2M2NzI0NjJkYTJjZmE3M2ZhNDhkMWE4Yyk7CiAgICAgICAgICAgIAoKICAgICAgICAgICAgY2lyY2xlX21hcmtlcl8yMzE0ZTBhZjM5YjQ0YmIzOGU5YWFjNDMzZmFjOGFlZC5iaW5kUG9wdXAocG9wdXBfMzI0YmMwZmJlNzk5NDNiMDg5ZDdhOGI1MzY1YTNjMTApOwoKICAgICAgICAgICAgCiAgICAgICAgCiAgICAKICAgICAgICAgICAgdmFyIGNpcmNsZV9tYXJrZXJfOWZkOWJhZDNhZTVmNDk1ZGE4ZjZlOTRjMjBlMmEyMmYgPSBMLmNpcmNsZU1hcmtlcigKICAgICAgICAgICAgICAgIFsxOC41MTkxOTU2NTg5Mjk0OTQsNzMuODQ0OTczNjUyOTY2ODNdLAogICAgICAgICAgICAgICAgewogICJidWJibGluZ01vdXNlRXZlbnRzIjogdHJ1ZSwKICAiY29sb3IiOiAiYmx1ZSIsCiAgImRhc2hBcnJheSI6IG51bGwsCiAgImRhc2hPZmZzZXQiOiBudWxsLAogICJmaWxsIjogdHJ1ZSwKICAiZmlsbENvbG9yIjogImJsdWUiLAogICJmaWxsT3BhY2l0eSI6IDAuNiwKICAiZmlsbFJ1bGUiOiAiZXZlbm9kZCIsCiAgImxpbmVDYXAiOiAicm91bmQiLAogICJsaW5lSm9pbiI6ICJyb3VuZCIsCiAgIm9wYWNpdHkiOiAxLjAsCiAgInJhZGl1cyI6IDUsCiAgInN0cm9rZSI6IHRydWUsCiAgIndlaWdodCI6IDMKfQogICAgICAgICAgICAgICAgKS5hZGRUbyhtYXBfYTIwMzM4YmExOTVjNDZmMTlhMzRmYTY1YzZjZjkwN2MpOwogICAgICAgICAgICAKICAgIAogICAgICAgICAgICB2YXIgcG9wdXBfZjBmYzE4Njc2MTQyNDEyZWIyMzE4OTRjNDY2YWM4NWMgPSBMLnBvcHVwKHttYXhXaWR0aDogJzMwMCd9KTsKCiAgICAgICAgICAgIAogICAgICAgICAgICAgICAgdmFyIGh0bWxfMGI5MDBlMjdhYTIwNDlkMGE3NDMzYTgxMzI4ZWMzYmMgPSAkKCc8ZGl2IGlkPSJodG1sXzBiOTAwZTI3YWEyMDQ5ZDBhNzQzM2E4MTMyOGVjM2JjIiBzdHlsZT0id2lkdGg6IDEwMC4wJTsgaGVpZ2h0OiAxMDAuMCU7Ij5TdWJoYWRyYSBSZXN0YXVyYW50PC9kaXY+JylbMF07CiAgICAgICAgICAgICAgICBwb3B1cF9mMGZjMTg2NzYxNDI0MTJlYjIzMTg5NGM0NjZhYzg1Yy5zZXRDb250ZW50KGh0bWxfMGI5MDBlMjdhYTIwNDlkMGE3NDMzYTgxMzI4ZWMzYmMpOwogICAgICAgICAgICAKCiAgICAgICAgICAgIGNpcmNsZV9tYXJrZXJfOWZkOWJhZDNhZTVmNDk1ZGE4ZjZlOTRjMjBlMmEyMmYuYmluZFBvcHVwKHBvcHVwX2YwZmMxODY3NjE0MjQxMmViMjMxODk0YzQ2NmFjODVjKTsKCiAgICAgICAgICAgIAogICAgICAgIAogICAgCiAgICAgICAgICAgIHZhciBjaXJjbGVfbWFya2VyX2RmYzc5YWIwY2ZhNzRkYWRhZjFlOTAwMjE4M2NhODlkID0gTC5jaXJjbGVNYXJrZXIoCiAgICAgICAgICAgICAgICBbMTguNTE1NjMyNDYzMzgzODYsNzMuODQ2MjM5NjE4MTQ5NTNdLAogICAgICAgICAgICAgICAgewogICJidWJibGluZ01vdXNlRXZlbnRzIjogdHJ1ZSwKICAiY29sb3IiOiAiYmx1ZSIsCiAgImRhc2hBcnJheSI6IG51bGwsCiAgImRhc2hPZmZzZXQiOiBudWxsLAogICJmaWxsIjogdHJ1ZSwKICAiZmlsbENvbG9yIjogImJsdWUiLAogICJmaWxsT3BhY2l0eSI6IDAuNiwKICAiZmlsbFJ1bGUiOiAiZXZlbm9kZCIsCiAgImxpbmVDYXAiOiAicm91bmQiLAogICJsaW5lSm9pbiI6ICJyb3VuZCIsCiAgIm9wYWNpdHkiOiAxLjAsCiAgInJhZGl1cyI6IDUsCiAgInN0cm9rZSI6IHRydWUsCiAgIndlaWdodCI6IDMKfQogICAgICAgICAgICAgICAgKS5hZGRUbyhtYXBfYTIwMzM4YmExOTVjNDZmMTlhMzRmYTY1YzZjZjkwN2MpOwogICAgICAgICAgICAKICAgIAogICAgICAgICAgICB2YXIgcG9wdXBfOWVmMjgxMzQ2ODJhNDAwMmEzYzAxNmM3YjEzMzJlNzUgPSBMLnBvcHVwKHttYXhXaWR0aDogJzMwMCd9KTsKCiAgICAgICAgICAgIAogICAgICAgICAgICAgICAgdmFyIGh0bWxfNDYyZmFjMjcwNzhkNGJlYTk3ZmFmNGVkOTkwMGI4MmIgPSAkKCc8ZGl2IGlkPSJodG1sXzQ2MmZhYzI3MDc4ZDRiZWE5N2ZhZjRlZDk5MDBiODJiIiBzdHlsZT0id2lkdGg6IDEwMC4wJTsgaGVpZ2h0OiAxMDAuMCU7Ij5TYW5za3J1dGkgUmVzdGF1cmFudDwvZGl2PicpWzBdOwogICAgICAgICAgICAgICAgcG9wdXBfOWVmMjgxMzQ2ODJhNDAwMmEzYzAxNmM3YjEzMzJlNzUuc2V0Q29udGVudChodG1sXzQ2MmZhYzI3MDc4ZDRiZWE5N2ZhZjRlZDk5MDBiODJiKTsKICAgICAgICAgICAgCgogICAgICAgICAgICBjaXJjbGVfbWFya2VyX2RmYzc5YWIwY2ZhNzRkYWRhZjFlOTAwMjE4M2NhODlkLmJpbmRQb3B1cChwb3B1cF85ZWYyODEzNDY4MmE0MDAyYTNjMDE2YzdiMTMzMmU3NSk7CgogICAgICAgICAgICAKICAgICAgICAKICAgIAogICAgICAgICAgICB2YXIgY2lyY2xlX21hcmtlcl9iYTE0ZDQ4YmU4OTM0NmIxYmM1ZDBjYWQwMzQwMjgzNCA9IEwuY2lyY2xlTWFya2VyKAogICAgICAgICAgICAgICAgWzE4LjUyOTY2NDU3MDU5ODg4LDczLjg1OTE2NzA5MzQ5MjQ3XSwKICAgICAgICAgICAgICAgIHsKICAiYnViYmxpbmdNb3VzZUV2ZW50cyI6IHRydWUsCiAgImNvbG9yIjogImJsdWUiLAogICJkYXNoQXJyYXkiOiBudWxsLAogICJkYXNoT2Zmc2V0IjogbnVsbCwKICAiZmlsbCI6IHRydWUsCiAgImZpbGxDb2xvciI6ICJibHVlIiwKICAiZmlsbE9wYWNpdHkiOiAwLjYsCiAgImZpbGxSdWxlIjogImV2ZW5vZGQiLAogICJsaW5lQ2FwIjogInJvdW5kIiwKICAibGluZUpvaW4iOiAicm91bmQiLAogICJvcGFjaXR5IjogMS4wLAogICJyYWRpdXMiOiA1LAogICJzdHJva2UiOiB0cnVlLAogICJ3ZWlnaHQiOiAzCn0KICAgICAgICAgICAgICAgICkuYWRkVG8obWFwX2EyMDMzOGJhMTk1YzQ2ZjE5YTM0ZmE2NWM2Y2Y5MDdjKTsKICAgICAgICAgICAgCiAgICAKICAgICAgICAgICAgdmFyIHBvcHVwXzMxMDM0N2FjNTZmZDQ3YWNhYmM2YTFkNDA4ZWYxZmUxID0gTC5wb3B1cCh7bWF4V2lkdGg6ICczMDAnfSk7CgogICAgICAgICAgICAKICAgICAgICAgICAgICAgIHZhciBodG1sXzY0Mjc3MzRlOWIxMzQwZWY5NDY0ZmMyOWMxYjhiMDU0ID0gJCgnPGRpdiBpZD0iaHRtbF82NDI3NzM0ZTliMTM0MGVmOTQ2NGZjMjljMWI4YjA1NCIgc3R5bGU9IndpZHRoOiAxMDAuMCU7IGhlaWdodDogMTAwLjAlOyI+Zm91ciBzZWFzb25zIHJlc3RhdXJhbnQgYW5kIGJhcjwvZGl2PicpWzBdOwogICAgICAgICAgICAgICAgcG9wdXBfMzEwMzQ3YWM1NmZkNDdhY2FiYzZhMWQ0MDhlZjFmZTEuc2V0Q29udGVudChodG1sXzY0Mjc3MzRlOWIxMzQwZWY5NDY0ZmMyOWMxYjhiMDU0KTsKICAgICAgICAgICAgCgogICAgICAgICAgICBjaXJjbGVfbWFya2VyX2JhMTRkNDhiZTg5MzQ2YjFiYzVkMGNhZDAzNDAyODM0LmJpbmRQb3B1cChwb3B1cF8zMTAzNDdhYzU2ZmQ0N2FjYWJjNmExZDQwOGVmMWZlMSk7CgogICAgICAgICAgICAKICAgICAgICAKICAgIAogICAgICAgICAgICB2YXIgY2lyY2xlX21hcmtlcl84NGI3MTE2MzkwNzY0YzEzYjhjN2Q4ZTIwM2UxYzcyOCA9IEwuY2lyY2xlTWFya2VyKAogICAgICAgICAgICAgICAgWzE4LjUxODc1MDkwOTM4MzEyNiw3My44NTE4MTA0MjQ2MDAwM10sCiAgICAgICAgICAgICAgICB7CiAgImJ1YmJsaW5nTW91c2VFdmVudHMiOiB0cnVlLAogICJjb2xvciI6ICJibHVlIiwKICAiZGFzaEFycmF5IjogbnVsbCwKICAiZGFzaE9mZnNldCI6IG51bGwsCiAgImZpbGwiOiB0cnVlLAogICJmaWxsQ29sb3IiOiAiYmx1ZSIsCiAgImZpbGxPcGFjaXR5IjogMC42LAogICJmaWxsUnVsZSI6ICJldmVub2RkIiwKICAibGluZUNhcCI6ICJyb3VuZCIsCiAgImxpbmVKb2luIjogInJvdW5kIiwKICAib3BhY2l0eSI6IDEuMCwKICAicmFkaXVzIjogNSwKICAic3Ryb2tlIjogdHJ1ZSwKICAid2VpZ2h0IjogMwp9CiAgICAgICAgICAgICAgICApLmFkZFRvKG1hcF9hMjAzMzhiYTE5NWM0NmYxOWEzNGZhNjVjNmNmOTA3Yyk7CiAgICAgICAgICAgIAogICAgCiAgICAgICAgICAgIHZhciBwb3B1cF82YTkwNDYyM2E0OGU0MTRjOWZkNTJkNmMxM2M3MDJjYiA9IEwucG9wdXAoe21heFdpZHRoOiAnMzAwJ30pOwoKICAgICAgICAgICAgCiAgICAgICAgICAgICAgICB2YXIgaHRtbF9hOWI0YTM0OTZmMDQ0NzhlYmQyNDFmMWFkNGUxMDc0MyA9ICQoJzxkaXYgaWQ9Imh0bWxfYTliNGEzNDk2ZjA0NDc4ZWJkMjQxZjFhZDRlMTA3NDMiIHN0eWxlPSJ3aWR0aDogMTAwLjAlOyBoZWlnaHQ6IDEwMC4wJTsiPk5pZGhpIEJhcjwvZGl2PicpWzBdOwogICAgICAgICAgICAgICAgcG9wdXBfNmE5MDQ2MjNhNDhlNDE0YzlmZDUyZDZjMTNjNzAyY2Iuc2V0Q29udGVudChodG1sX2E5YjRhMzQ5NmYwNDQ3OGViZDI0MWYxYWQ0ZTEwNzQzKTsKICAgICAgICAgICAgCgogICAgICAgICAgICBjaXJjbGVfbWFya2VyXzg0YjcxMTYzOTA3NjRjMTNiOGM3ZDhlMjAzZTFjNzI4LmJpbmRQb3B1cChwb3B1cF82YTkwNDYyM2E0OGU0MTRjOWZkNTJkNmMxM2M3MDJjYik7CgogICAgICAgICAgICAKICAgICAgICAKICAgIAogICAgICAgICAgICB2YXIgY2lyY2xlX21hcmtlcl82ZWE0ODQxYWZmM2M0NmZlYTJlOGYxMTFhMmM3NmM5NiA9IEwuY2lyY2xlTWFya2VyKAogICAgICAgICAgICAgICAgWzE4LjUyNjY2NTQ5OTY2NzMyLDczLjg1MTk2NDEwNzY5MzMzXSwKICAgICAgICAgICAgICAgIHsKICAiYnViYmxpbmdNb3VzZUV2ZW50cyI6IHRydWUsCiAgImNvbG9yIjogImJsdWUiLAogICJkYXNoQXJyYXkiOiBudWxsLAogICJkYXNoT2Zmc2V0IjogbnVsbCwKICAiZmlsbCI6IHRydWUsCiAgImZpbGxDb2xvciI6ICJibHVlIiwKICAiZmlsbE9wYWNpdHkiOiAwLjYsCiAgImZpbGxSdWxlIjogImV2ZW5vZGQiLAogICJsaW5lQ2FwIjogInJvdW5kIiwKICAibGluZUpvaW4iOiAicm91bmQiLAogICJvcGFjaXR5IjogMS4wLAogICJyYWRpdXMiOiA1LAogICJzdHJva2UiOiB0cnVlLAogICJ3ZWlnaHQiOiAzCn0KICAgICAgICAgICAgICAgICkuYWRkVG8obWFwX2EyMDMzOGJhMTk1YzQ2ZjE5YTM0ZmE2NWM2Y2Y5MDdjKTsKICAgICAgICAgICAgCiAgICAKICAgICAgICAgICAgdmFyIHBvcHVwXzYxMWM0ZmZjYjE2ZTQ1Y2RiMzQyY2Q5ZmUxMWI2NmIxID0gTC5wb3B1cCh7bWF4V2lkdGg6ICczMDAnfSk7CgogICAgICAgICAgICAKICAgICAgICAgICAgICAgIHZhciBodG1sX2RkMzFmNmI0NjZkNjQwZDY5MzJmODBjODBjODVmN2U4ID0gJCgnPGRpdiBpZD0iaHRtbF9kZDMxZjZiNDY2ZDY0MGQ2OTMyZjgwYzgwYzg1ZjdlOCIgc3R5bGU9IndpZHRoOiAxMDAuMCU7IGhlaWdodDogMTAwLjAlOyI+Rm91bnRhaW4gUmVzdHJvIE4gQmFyPC9kaXY+JylbMF07CiAgICAgICAgICAgICAgICBwb3B1cF82MTFjNGZmY2IxNmU0NWNkYjM0MmNkOWZlMTFiNjZiMS5zZXRDb250ZW50KGh0bWxfZGQzMWY2YjQ2NmQ2NDBkNjkzMmY4MGM4MGM4NWY3ZTgpOwogICAgICAgICAgICAKCiAgICAgICAgICAgIGNpcmNsZV9tYXJrZXJfNmVhNDg0MWFmZjNjNDZmZWEyZThmMTExYTJjNzZjOTYuYmluZFBvcHVwKHBvcHVwXzYxMWM0ZmZjYjE2ZTQ1Y2RiMzQyY2Q5ZmUxMWI2NmIxKTsKCiAgICAgICAgICAgIAogICAgICAgIAogICAgCiAgICAgICAgICAgIHZhciBjaXJjbGVfbWFya2VyXzM0OGEzYjc4YzZlMzQ3ZWFhODBiNWQ2YmI0NGMzNmE5ID0gTC5jaXJjbGVNYXJrZXIoCiAgICAgICAgICAgICAgICBbMTguNTE2NDE0OTE2MDAzNjcsNzMuODUwOTMzNjA3MzIxMjFdLAogICAgICAgICAgICAgICAgewogICJidWJibGluZ01vdXNlRXZlbnRzIjogdHJ1ZSwKICAiY29sb3IiOiAiYmx1ZSIsCiAgImRhc2hBcnJheSI6IG51bGwsCiAgImRhc2hPZmZzZXQiOiBudWxsLAogICJmaWxsIjogdHJ1ZSwKICAiZmlsbENvbG9yIjogImJsdWUiLAogICJmaWxsT3BhY2l0eSI6IDAuNiwKICAiZmlsbFJ1bGUiOiAiZXZlbm9kZCIsCiAgImxpbmVDYXAiOiAicm91bmQiLAogICJsaW5lSm9pbiI6ICJyb3VuZCIsCiAgIm9wYWNpdHkiOiAxLjAsCiAgInJhZGl1cyI6IDUsCiAgInN0cm9rZSI6IHRydWUsCiAgIndlaWdodCI6IDMKfQogICAgICAgICAgICAgICAgKS5hZGRUbyhtYXBfYTIwMzM4YmExOTVjNDZmMTlhMzRmYTY1YzZjZjkwN2MpOwogICAgICAgICAgICAKICAgIAogICAgICAgICAgICB2YXIgcG9wdXBfYjQ4NzkyM2MwZmIxNGYyNTk0ZjJiNWQxNTg1NGI0MDUgPSBMLnBvcHVwKHttYXhXaWR0aDogJzMwMCd9KTsKCiAgICAgICAgICAgIAogICAgICAgICAgICAgICAgdmFyIGh0bWxfNmY2ZTliOTAzM2IzNGFkOWI3YTgyOWMzMmJmOGVmNjYgPSAkKCc8ZGl2IGlkPSJodG1sXzZmNmU5YjkwMzNiMzRhZDliN2E4MjljMzJiZjhlZjY2IiBzdHlsZT0id2lkdGg6IDEwMC4wJTsgaGVpZ2h0OiAxMDAuMCU7Ij5GaXNoIEN1cnJ5IFJpY2U8L2Rpdj4nKVswXTsKICAgICAgICAgICAgICAgIHBvcHVwX2I0ODc5MjNjMGZiMTRmMjU5NGYyYjVkMTU4NTRiNDA1LnNldENvbnRlbnQoaHRtbF82ZjZlOWI5MDMzYjM0YWQ5YjdhODI5YzMyYmY4ZWY2Nik7CiAgICAgICAgICAgIAoKICAgICAgICAgICAgY2lyY2xlX21hcmtlcl8zNDhhM2I3OGM2ZTM0N2VhYTgwYjVkNmJiNDRjMzZhOS5iaW5kUG9wdXAocG9wdXBfYjQ4NzkyM2MwZmIxNGYyNTk0ZjJiNWQxNTg1NGI0MDUpOwoKICAgICAgICAgICAgCiAgICAgICAgCjwvc2NyaXB0Pg== onload=\"this.contentDocument.open();this.contentDocument.write(atob(this.getAttribute('data-html')));this.contentDocument.close();\" allowfullscreen webkitallowfullscreen mozallowfullscreen></iframe></div></div>"
      ],
      "text/plain": [
       "<folium.folium.Map at 0x26941cf9d08>"
      ]
     },
     "execution_count": 19,
     "metadata": {},
     "output_type": "execute_result"
    }
   ],
   "source": [
    "hotels_map = folium.Map(location=[latitude, longitude], zoom_start=16) # generate map centred around the pune\n",
    "\n",
    "# add a red circle marker to represent the core location of kanyakumari\n",
    "folium.features.CircleMarker(\n",
    "    [latitude, longitude],\n",
    "    radius=10,\n",
    "    color='red',\n",
    "    popup='Kanyakumari',\n",
    "    fill = True,\n",
    "    fill_color = 'red',\n",
    "    fill_opacity = 0.6\n",
    ").add_to(hotels_map)\n",
    "\n",
    "# add the Italian restaurants as blue circle markers\n",
    "for lat, lng, label in zip(hotels_df.lat, hotels_df.lng, hotels_df.name):\n",
    "    folium.features.CircleMarker(\n",
    "        [lat, lng],\n",
    "        radius=5,\n",
    "        color='blue',\n",
    "        popup=label,\n",
    "        fill = True,\n",
    "        fill_color='blue',\n",
    "        fill_opacity=0.6\n",
    "    ).add_to(hotels_map)\n",
    "\n",
    "# display map\n",
    "hotels_map"
   ]
  },
  {
   "cell_type": "markdown",
   "metadata": {},
   "source": [
    "Hotel 'four seasons restaurant and bar' seems to be outlier.So this will be removed in next section."
   ]
  },
  {
   "cell_type": "code",
   "execution_count": null,
   "metadata": {},
   "outputs": [],
   "source": []
  }
 ],
 "metadata": {
  "kernelspec": {
   "display_name": "Python 3",
   "language": "python",
   "name": "python3"
  },
  "language_info": {
   "codemirror_mode": {
    "name": "ipython",
    "version": 3
   },
   "file_extension": ".py",
   "mimetype": "text/x-python",
   "name": "python",
   "nbconvert_exporter": "python",
   "pygments_lexer": "ipython3",
   "version": "3.7.6"
  }
 },
 "nbformat": 4,
 "nbformat_minor": 4
}
